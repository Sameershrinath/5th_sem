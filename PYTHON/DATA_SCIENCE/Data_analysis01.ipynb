{
 "cells": [
  {
   "cell_type": "markdown",
   "id": "43c5d8a4",
   "metadata": {},
   "source": [
    "# ***Sugercane data Analysis***"
   ]
  },
  {
   "cell_type": "code",
   "execution_count": null,
   "id": "35ab49e4",
   "metadata": {},
   "outputs": [],
   "source": [
    "import pandas as pd\n",
    "import numpy as np "
   ]
  },
  {
   "cell_type": "code",
   "execution_count": null,
   "id": "c52886bd",
   "metadata": {},
   "outputs": [
    {
     "data": {
      "text/html": [
       "<div>\n",
       "<style scoped>\n",
       "    .dataframe tbody tr th:only-of-type {\n",
       "        vertical-align: middle;\n",
       "    }\n",
       "\n",
       "    .dataframe tbody tr th {\n",
       "        vertical-align: top;\n",
       "    }\n",
       "\n",
       "    .dataframe thead th {\n",
       "        text-align: right;\n",
       "    }\n",
       "</style>\n",
       "<table border=\"1\" class=\"dataframe\">\n",
       "  <thead>\n",
       "    <tr style=\"text-align: right;\">\n",
       "      <th></th>\n",
       "      <th>Country</th>\n",
       "      <th>Continent</th>\n",
       "      <th>Production (Tons)</th>\n",
       "      <th>Production per Person (Kg)</th>\n",
       "      <th>Acreage (Hectare)</th>\n",
       "      <th>Yield (Kg / Hectare)</th>\n",
       "    </tr>\n",
       "  </thead>\n",
       "  <tbody>\n",
       "    <tr>\n",
       "      <th>43</th>\n",
       "      <td>Guyana</td>\n",
       "      <td>South America</td>\n",
       "      <td>2.394.553</td>\n",
       "      <td>3.061,207</td>\n",
       "      <td>44.311</td>\n",
       "      <td>54.039,7</td>\n",
       "    </tr>\n",
       "    <tr>\n",
       "      <th>51</th>\n",
       "      <td>Jamaica</td>\n",
       "      <td>North America</td>\n",
       "      <td>1.422.432</td>\n",
       "      <td>521254</td>\n",
       "      <td>26.255</td>\n",
       "      <td>54.178,2</td>\n",
       "    </tr>\n",
       "    <tr>\n",
       "      <th>87</th>\n",
       "      <td>Iraq</td>\n",
       "      <td>Asia</td>\n",
       "      <td>11.67</td>\n",
       "      <td>297</td>\n",
       "      <td>584</td>\n",
       "      <td>20</td>\n",
       "    </tr>\n",
       "    <tr>\n",
       "      <th>101</th>\n",
       "      <td>Samoa</td>\n",
       "      <td>Oceania</td>\n",
       "      <td>12</td>\n",
       "      <td>6</td>\n",
       "      <td>1</td>\n",
       "      <td>11.949,8</td>\n",
       "    </tr>\n",
       "    <tr>\n",
       "      <th>31</th>\n",
       "      <td>Zambia</td>\n",
       "      <td>Africa</td>\n",
       "      <td>4.285.839</td>\n",
       "      <td>253784</td>\n",
       "      <td>41.695</td>\n",
       "      <td>102.789,6</td>\n",
       "    </tr>\n",
       "  </tbody>\n",
       "</table>\n",
       "</div>"
      ],
      "text/plain": [
       "     Country      Continent Production (Tons) Production per Person (Kg)  \\\n",
       "43    Guyana  South America         2.394.553                  3.061,207   \n",
       "51   Jamaica  North America         1.422.432                     521254   \n",
       "87      Iraq           Asia             11.67                        297   \n",
       "101    Samoa        Oceania                12                          6   \n",
       "31    Zambia         Africa         4.285.839                     253784   \n",
       "\n",
       "    Acreage (Hectare) Yield (Kg / Hectare)  \n",
       "43             44.311             54.039,7  \n",
       "51             26.255             54.178,2  \n",
       "87                584                   20  \n",
       "101                 1             11.949,8  \n",
       "31             41.695            102.789,6  "
      ]
     },
     "execution_count": 6,
     "metadata": {},
     "output_type": "execute_result"
    }
   ],
   "source": [
    "#dropping the index column and taking sample from the dataset\n",
    "\n",
    "df=pd.read_csv(\"./Dataset/Sugarcane_production.csv\")\n",
    "df=df.drop(\"Unnamed: 0\",axis=1)\n",
    "df.sample(5)"
   ]
  },
  {
   "cell_type": "code",
   "execution_count": null,
   "id": "005bfbf3",
   "metadata": {},
   "outputs": [
    {
     "name": "stdout",
     "output_type": "stream",
     "text": [
      "The shape of the dataset= (103, 6)\n"
     ]
    }
   ],
   "source": [
    "print(f\"The shape of the dataset= {df.shape}\")"
   ]
  },
  {
   "cell_type": "markdown",
   "id": "688e4a5a",
   "metadata": {},
   "source": [
    "## **Data cleaning**"
   ]
  },
  {
   "cell_type": "code",
   "execution_count": null,
   "id": "0b42134a",
   "metadata": {},
   "outputs": [],
   "source": [
    "df[\"Production (Tons)\"]=df[\"Production (Tons)\"].str.replace(\".\",\"\")\n",
    "df[\"Production per Person (Kg)\"]=df[\"Production per Person (Kg)\"].str.replace(\".\",\"\")\n",
    "df[\"Production (Tons)\"]=df[\"Production (Tons)\"].str.replace(\".\",\"\")"
   ]
  },
  {
   "cell_type": "code",
   "execution_count": null,
   "id": "2ed74375",
   "metadata": {},
   "outputs": [],
   "source": []
  },
  {
   "cell_type": "code",
   "execution_count": null,
   "id": "aed8235a",
   "metadata": {},
   "outputs": [],
   "source": []
  }
 ],
 "metadata": {
  "kernelspec": {
   "display_name": "base",
   "language": "python",
   "name": "python3"
  },
  "language_info": {
   "codemirror_mode": {
    "name": "ipython",
    "version": 3
   },
   "file_extension": ".py",
   "mimetype": "text/x-python",
   "name": "python",
   "nbconvert_exporter": "python",
   "pygments_lexer": "ipython3",
   "version": "3.11.5"
  }
 },
 "nbformat": 4,
 "nbformat_minor": 5
}
