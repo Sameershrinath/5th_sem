{
 "cells": [
  {
   "cell_type": "markdown",
   "id": "43c5d8a4",
   "metadata": {},
   "source": [
    "# ***Sugercane data Analysis***"
   ]
  },
  {
   "cell_type": "code",
   "execution_count": 1,
   "id": "35ab49e4",
   "metadata": {},
   "outputs": [],
   "source": [
    "import pandas as pd\n",
    "import numpy as np "
   ]
  },
  {
   "cell_type": "code",
   "execution_count": 2,
   "id": "c52886bd",
   "metadata": {},
   "outputs": [
    {
     "data": {
      "text/html": [
       "<div>\n",
       "<style scoped>\n",
       "    .dataframe tbody tr th:only-of-type {\n",
       "        vertical-align: middle;\n",
       "    }\n",
       "\n",
       "    .dataframe tbody tr th {\n",
       "        vertical-align: top;\n",
       "    }\n",
       "\n",
       "    .dataframe thead th {\n",
       "        text-align: right;\n",
       "    }\n",
       "</style>\n",
       "<table border=\"1\" class=\"dataframe\">\n",
       "  <thead>\n",
       "    <tr style=\"text-align: right;\">\n",
       "      <th></th>\n",
       "      <th>Country</th>\n",
       "      <th>Continent</th>\n",
       "      <th>Production (Tons)</th>\n",
       "      <th>Production per Person (Kg)</th>\n",
       "      <th>Acreage (Hectare)</th>\n",
       "      <th>Yield (Kg / Hectare)</th>\n",
       "    </tr>\n",
       "  </thead>\n",
       "  <tbody>\n",
       "    <tr>\n",
       "      <th>89</th>\n",
       "      <td>Grenada</td>\n",
       "      <td>North America</td>\n",
       "      <td>7.273</td>\n",
       "      <td>70388</td>\n",
       "      <td>162</td>\n",
       "      <td>44.822,3</td>\n",
       "    </tr>\n",
       "    <tr>\n",
       "      <th>93</th>\n",
       "      <td>Antigua and Barbuda</td>\n",
       "      <td>North America</td>\n",
       "      <td>5.365</td>\n",
       "      <td>6217</td>\n",
       "      <td>83</td>\n",
       "      <td>64.638,6</td>\n",
       "    </tr>\n",
       "    <tr>\n",
       "      <th>44</th>\n",
       "      <td>Congo-Kinshasa</td>\n",
       "      <td>Africa</td>\n",
       "      <td>2.191.333</td>\n",
       "      <td>2694</td>\n",
       "      <td>48.91</td>\n",
       "      <td>44.803,4</td>\n",
       "    </tr>\n",
       "    <tr>\n",
       "      <th>69</th>\n",
       "      <td>Liberia</td>\n",
       "      <td>Africa</td>\n",
       "      <td>272.804</td>\n",
       "      <td>6225</td>\n",
       "      <td>26.781</td>\n",
       "      <td>10.186,4</td>\n",
       "    </tr>\n",
       "    <tr>\n",
       "      <th>19</th>\n",
       "      <td>Ecuador</td>\n",
       "      <td>South America</td>\n",
       "      <td>8.661.609</td>\n",
       "      <td>507518</td>\n",
       "      <td>104.661</td>\n",
       "      <td>82.758,4</td>\n",
       "    </tr>\n",
       "  </tbody>\n",
       "</table>\n",
       "</div>"
      ],
      "text/plain": [
       "                Country      Continent Production (Tons)  \\\n",
       "89              Grenada  North America             7.273   \n",
       "93  Antigua and Barbuda  North America             5.365   \n",
       "44       Congo-Kinshasa         Africa         2.191.333   \n",
       "69              Liberia         Africa           272.804   \n",
       "19              Ecuador  South America         8.661.609   \n",
       "\n",
       "   Production per Person (Kg) Acreage (Hectare) Yield (Kg / Hectare)  \n",
       "89                      70388               162             44.822,3  \n",
       "93                       6217                83             64.638,6  \n",
       "44                       2694             48.91             44.803,4  \n",
       "69                       6225            26.781             10.186,4  \n",
       "19                     507518           104.661             82.758,4  "
      ]
     },
     "execution_count": 2,
     "metadata": {},
     "output_type": "execute_result"
    }
   ],
   "source": [
    "#dropping the index column and taking sample from the dataset\n",
    "\n",
    "df=pd.read_csv(\"./Dataset/Sugarcane_production.csv\")\n",
    "df=df.drop(\"Unnamed: 0\",axis=1)\n",
    "df.sample(5)"
   ]
  },
  {
   "cell_type": "code",
   "execution_count": 3,
   "id": "005bfbf3",
   "metadata": {},
   "outputs": [
    {
     "name": "stdout",
     "output_type": "stream",
     "text": [
      "The shape of the dataset= (103, 6)\n"
     ]
    }
   ],
   "source": [
    "print(f\"The shape of the dataset= {df.shape}\")"
   ]
  },
  {
   "cell_type": "markdown",
   "id": "688e4a5a",
   "metadata": {},
   "source": [
    "## **Data cleaning**"
   ]
  },
  {
   "cell_type": "code",
   "execution_count": 4,
   "id": "0b42134a",
   "metadata": {},
   "outputs": [],
   "source": [
    "df[\"Production (Tons)\"]=df[\"Production (Tons)\"].str.replace(\".\",\"\")\n",
    "df[\"Production per Person (Kg)\"]=df[\"Production per Person (Kg)\"].str.replace(\".\",\"\")\n",
    "df[\"Production (Tons)\"]=df[\"Production (Tons)\"].str.replace(\".\",\"\")"
   ]
  },
  {
   "cell_type": "code",
   "execution_count": null,
   "id": "2ed74375",
   "metadata": {},
   "outputs": [],
   "source": []
  },
  {
   "cell_type": "code",
   "execution_count": null,
   "id": "aed8235a",
   "metadata": {},
   "outputs": [],
   "source": []
  }
 ],
 "metadata": {
  "kernelspec": {
   "display_name": "base",
   "language": "python",
   "name": "python3"
  },
  "language_info": {
   "codemirror_mode": {
    "name": "ipython",
    "version": 3
   },
   "file_extension": ".py",
   "mimetype": "text/x-python",
   "name": "python",
   "nbconvert_exporter": "python",
   "pygments_lexer": "ipython3",
   "version": "3.11.5"
  }
 },
 "nbformat": 4,
 "nbformat_minor": 5
}
