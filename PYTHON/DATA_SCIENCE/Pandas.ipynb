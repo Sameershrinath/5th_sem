{
 "cells": [
  {
   "cell_type": "markdown",
   "id": "f2875ad6",
   "metadata": {},
   "source": [
    "# **Pandas**"
   ]
  },
  {
   "cell_type": "markdown",
   "id": "6a51d8ce",
   "metadata": {},
   "source": [
    "pandas is a Python package providing fast, flexible, and expressive data structures designed to make working with\n",
    "“relational” or “labeled” data both easy and intuitive. I"
   ]
  },
  {
   "cell_type": "code",
   "execution_count": null,
   "id": "1644a12e",
   "metadata": {},
   "outputs": [],
   "source": [
    "# To install pandas \n",
    "pip install pandas"
   ]
  },
  {
   "cell_type": "code",
   "execution_count": 10,
   "id": "2b9e2bb4",
   "metadata": {},
   "outputs": [],
   "source": [
    "import pandas as pd\n",
    "# creating a data frame 2D\n",
    "details=pd.DataFrame({\n",
    "    \"name\":[\"Samir Srinath\",\"Sumit Prakash\",\"Rishabh kumar\"],\n",
    "    \"Age\":[20,20,18],\n",
    "    \"Genger\":[\"Male\",\"Male\",\"Male\"]\n",
    "})"
   ]
  },
  {
   "cell_type": "code",
   "execution_count": 12,
   "id": "a880d223",
   "metadata": {},
   "outputs": [
    {
     "name": "stdout",
     "output_type": "stream",
     "text": [
      "            name  Age Genger\n",
      "0  Samir Srinath   20   Male\n",
      "1  Sumit Prakash   20   Male\n",
      "2  Rishabh kumar   18   Male\n"
     ]
    }
   ],
   "source": [
    "print(details)"
   ]
  },
  {
   "cell_type": "markdown",
   "id": "c28353de",
   "metadata": {},
   "source": [
    "<code>A DataFrame is a 2-dimensional data structure that can store data of different types (including characters, integers,\n",
    "floating point values, categorical data and more) in columns. It is similar to a spreadsheet, a SQL table or the data.\n",
    "frame in R.</code>"
   ]
  },
  {
   "cell_type": "code",
   "execution_count": 14,
   "id": "85d6defb",
   "metadata": {},
   "outputs": [
    {
     "name": "stdout",
     "output_type": "stream",
     "text": [
      "0    Samir Srinath\n",
      "1    Sumit Prakash\n",
      "2    Rishabh kumar\n",
      "Name: name, dtype: object <class 'pandas.core.series.Series'>\n"
     ]
    }
   ],
   "source": [
    "print(details.name,type(details.name))"
   ]
  },
  {
   "cell_type": "markdown",
   "id": "b837e25a",
   "metadata": {},
   "source": [
    "Each column in a DataFrame is a Series\n"
   ]
  },
  {
   "cell_type": "code",
   "execution_count": 16,
   "id": "0355f1e9",
   "metadata": {},
   "outputs": [
    {
     "name": "stdout",
     "output_type": "stream",
     "text": [
      "0    22\n",
      "1    35\n",
      "2    58\n",
      "Name: Age, dtype: int64\n"
     ]
    }
   ],
   "source": [
    "ages = pd.Series([22, 35, 58], name=\"Age\")\n",
    "print(ages)"
   ]
  },
  {
   "cell_type": "code",
   "execution_count": 19,
   "id": "55366269",
   "metadata": {},
   "outputs": [
    {
     "data": {
      "text/plain": [
       "20"
      ]
     },
     "execution_count": 19,
     "metadata": {},
     "output_type": "execute_result"
    }
   ],
   "source": [
    "# operations with column\n",
    "details[\"Age\"].max()\n"
   ]
  },
  {
   "cell_type": "code",
   "execution_count": null,
   "id": "d2da721c",
   "metadata": {},
   "outputs": [],
   "source": []
  },
  {
   "cell_type": "code",
   "execution_count": null,
   "id": "98f73517",
   "metadata": {},
   "outputs": [],
   "source": []
  }
 ],
 "metadata": {
  "kernelspec": {
   "display_name": "base",
   "language": "python",
   "name": "python3"
  },
  "language_info": {
   "codemirror_mode": {
    "name": "ipython",
    "version": 3
   },
   "file_extension": ".py",
   "mimetype": "text/x-python",
   "name": "python",
   "nbconvert_exporter": "python",
   "pygments_lexer": "ipython3",
   "version": "3.11.5"
  }
 },
 "nbformat": 4,
 "nbformat_minor": 5
}
