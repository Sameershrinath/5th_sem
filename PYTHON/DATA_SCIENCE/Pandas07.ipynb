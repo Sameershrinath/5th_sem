{
 "cells": [
  {
   "cell_type": "markdown",
   "id": "ff4b0c3b",
   "metadata": {},
   "source": [
    "# Outliers"
   ]
  },
  {
   "cell_type": "markdown",
   "id": "0ad19c4a",
   "metadata": {},
   "source": [
    "Outliers are data points that differ significantly from other observations in a dataset. They may indicate variability in measurement, experimental errors, or novel phenomena. Outliers can affect statistical analyses and may need to be investigated or treated depending on the context."
   ]
  },
  {
   "cell_type": "code",
   "execution_count": 28,
   "id": "aacc3793",
   "metadata": {},
   "outputs": [],
   "source": [
    "import numpy as np \n",
    "li=[np.random.randint(1,100) for i in range(100)]\n",
    "from scipy import stats\n",
    "mean=np.mean(li)\n",
    "median=np.median(li)\n",
    "mode=stats.mode(li)\n",
    "std_dav=np.std(li) # finding standard deviation \n",
    "variance = np.var(li) # finding the variance\n",
    "\n",
    "# mean is affected by the outlier"
   ]
  },
  {
   "cell_type": "markdown",
   "id": "ae4c073c",
   "metadata": {},
   "source": [
    "How to find the outliers"
   ]
  },
  {
   "cell_type": "markdown",
   "id": "91208f23",
   "metadata": {},
   "source": [
    "###--using z score and IQR and percentile--"
   ]
  },
  {
   "cell_type": "markdown",
   "id": "d4398641",
   "metadata": {},
   "source": [
    "###--Capping is the good way to deal outlier when you can't delete the data--"
   ]
  },
  {
   "cell_type": "markdown",
   "id": "504d4e77",
   "metadata": {},
   "source": [
    "## Outlier removal using zscore"
   ]
  },
  {
   "cell_type": "code",
   "execution_count": null,
   "id": "49b71ddf",
   "metadata": {},
   "outputs": [],
   "source": []
  },
  {
   "cell_type": "code",
   "execution_count": null,
   "id": "4852a7e7",
   "metadata": {},
   "outputs": [],
   "source": []
  },
  {
   "cell_type": "code",
   "execution_count": null,
   "id": "b9b4a00c",
   "metadata": {},
   "outputs": [],
   "source": []
  },
  {
   "cell_type": "code",
   "execution_count": null,
   "id": "21c2a1a0",
   "metadata": {},
   "outputs": [
    {
     "data": {
      "text/plain": [
       "44.5"
      ]
     },
     "execution_count": 22,
     "metadata": {},
     "output_type": "execute_result"
    }
   ],
   "source": []
  },
  {
   "cell_type": "code",
   "execution_count": null,
   "id": "7139866e",
   "metadata": {},
   "outputs": [
    {
     "data": {
      "text/plain": [
       "ModeResult(mode=43, count=5)"
      ]
     },
     "execution_count": 23,
     "metadata": {},
     "output_type": "execute_result"
    }
   ],
   "source": []
  },
  {
   "cell_type": "code",
   "execution_count": null,
   "id": "0b648eb5",
   "metadata": {},
   "outputs": [
    {
     "data": {
      "text/plain": [
       "26.389109496153903"
      ]
     },
     "execution_count": 24,
     "metadata": {},
     "output_type": "execute_result"
    }
   ],
   "source": []
  },
  {
   "cell_type": "code",
   "execution_count": null,
   "id": "f1bbe722",
   "metadata": {},
   "outputs": [
    {
     "data": {
      "text/plain": [
       "696.3851000000001"
      ]
     },
     "execution_count": 25,
     "metadata": {},
     "output_type": "execute_result"
    }
   ],
   "source": []
  },
  {
   "cell_type": "code",
   "execution_count": null,
   "id": "db7bb6dc",
   "metadata": {},
   "outputs": [],
   "source": []
  }
 ],
 "metadata": {
  "kernelspec": {
   "display_name": "base",
   "language": "python",
   "name": "python3"
  },
  "language_info": {
   "codemirror_mode": {
    "name": "ipython",
    "version": 3
   },
   "file_extension": ".py",
   "mimetype": "text/x-python",
   "name": "python",
   "nbconvert_exporter": "python",
   "pygments_lexer": "ipython3",
   "version": "3.11.5"
  }
 },
 "nbformat": 4,
 "nbformat_minor": 5
}
