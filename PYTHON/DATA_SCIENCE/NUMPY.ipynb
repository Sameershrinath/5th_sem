{
 "cells": [
  {
   "cell_type": "code",
   "execution_count": 2,
   "id": "ceb60bc0",
   "metadata": {},
   "outputs": [],
   "source": [
    "import numpy as np \n"
   ]
  },
  {
   "cell_type": "markdown",
   "id": "badb5610",
   "metadata": {},
   "source": [
    "Converting the list to the array"
   ]
  },
  {
   "cell_type": "code",
   "execution_count": 3,
   "id": "ee77a395",
   "metadata": {},
   "outputs": [
    {
     "data": {
      "text/plain": [
       "array([1, 2, 3, 4])"
      ]
     },
     "execution_count": 3,
     "metadata": {},
     "output_type": "execute_result"
    }
   ],
   "source": [
    "li=[1,2,3,4]\n",
    "\n",
    "np.array(li,ndmin=1)"
   ]
  },
  {
   "cell_type": "code",
   "execution_count": 4,
   "id": "796893da",
   "metadata": {},
   "outputs": [
    {
     "data": {
      "text/plain": [
       "array([[1, 2, 3, 4]])"
      ]
     },
     "execution_count": 4,
     "metadata": {},
     "output_type": "execute_result"
    }
   ],
   "source": [
    "np.array(li,ndmin=2)"
   ]
  },
  {
   "cell_type": "markdown",
   "id": "2c2404d6",
   "metadata": {},
   "source": [
    "Arrange function"
   ]
  },
  {
   "cell_type": "code",
   "execution_count": 5,
   "id": "a77258d7",
   "metadata": {},
   "outputs": [
    {
     "data": {
      "text/plain": [
       "array([1, 2, 3, 4, 5, 6, 7, 8, 9])"
      ]
     },
     "execution_count": 5,
     "metadata": {},
     "output_type": "execute_result"
    }
   ],
   "source": [
    "np.arange(1,10) # like the for loop "
   ]
  },
  {
   "cell_type": "markdown",
   "id": "ec3e230a",
   "metadata": {},
   "source": [
    "Multidimentional array"
   ]
  },
  {
   "cell_type": "code",
   "execution_count": 6,
   "id": "db1af637",
   "metadata": {},
   "outputs": [],
   "source": [
    "arr = np.array([[1,2,3,4],[8,9,6,7]])"
   ]
  },
  {
   "cell_type": "markdown",
   "id": "45f49282",
   "metadata": {},
   "source": [
    "size"
   ]
  },
  {
   "cell_type": "code",
   "execution_count": 7,
   "id": "358215df",
   "metadata": {},
   "outputs": [
    {
     "name": "stdout",
     "output_type": "stream",
     "text": [
      "2\n",
      "4\n",
      "8\n"
     ]
    }
   ],
   "source": [
    "arr = np.array([[1,2,3,4],[8,9,6,7]])\n",
    "print(np.size(arr,0)) # row\n",
    "print(np.size(arr,1)) # column\n",
    "print(np.size(arr)) # value"
   ]
  },
  {
   "cell_type": "markdown",
   "id": "84273a1d",
   "metadata": {},
   "source": [
    "Shape"
   ]
  },
  {
   "cell_type": "code",
   "execution_count": 8,
   "id": "cc9536a7",
   "metadata": {},
   "outputs": [
    {
     "data": {
      "text/plain": [
       "(2, 4)"
      ]
     },
     "execution_count": 8,
     "metadata": {},
     "output_type": "execute_result"
    }
   ],
   "source": [
    "arr = np.array([[1,2,3,4],[8,9,6,7]])\n",
    "np.shape(arr)"
   ]
  },
  {
   "cell_type": "markdown",
   "id": "ebf33516",
   "metadata": {},
   "source": [
    "Datatype"
   ]
  },
  {
   "cell_type": "code",
   "execution_count": 9,
   "id": "084bcc95",
   "metadata": {},
   "outputs": [
    {
     "data": {
      "text/plain": [
       "dtype('int32')"
      ]
     },
     "execution_count": 9,
     "metadata": {},
     "output_type": "execute_result"
    }
   ],
   "source": [
    "arr = np.array([[1,2,3,4,45,54,55],[8,9,6,7,8,9,6]])\n",
    "arr.dtype"
   ]
  },
  {
   "cell_type": "markdown",
   "id": "1e2b4067",
   "metadata": {},
   "source": [
    "dimention of array"
   ]
  },
  {
   "cell_type": "code",
   "execution_count": 10,
   "id": "1944c6db",
   "metadata": {},
   "outputs": [
    {
     "data": {
      "text/plain": [
       "2"
      ]
     },
     "execution_count": 10,
     "metadata": {},
     "output_type": "execute_result"
    }
   ],
   "source": [
    "arr.ndim"
   ]
  },
  {
   "cell_type": "markdown",
   "id": "f862da36",
   "metadata": {},
   "source": [
    "zero"
   ]
  },
  {
   "cell_type": "code",
   "execution_count": 11,
   "id": "75883c5f",
   "metadata": {},
   "outputs": [
    {
     "data": {
      "text/plain": [
       "array([[0, 0, 0, 0, 0],\n",
       "       [0, 0, 0, 0, 0],\n",
       "       [0, 0, 0, 0, 0],\n",
       "       [0, 0, 0, 0, 0],\n",
       "       [0, 0, 0, 0, 0]])"
      ]
     },
     "execution_count": 11,
     "metadata": {},
     "output_type": "execute_result"
    }
   ],
   "source": [
    "np.zeros(shape=[5,5],dtype=int)\n",
    "# we can also use the empty array "
   ]
  },
  {
   "cell_type": "code",
   "execution_count": 12,
   "id": "449115bf",
   "metadata": {},
   "outputs": [
    {
     "data": {
      "text/plain": [
       "dtype('int32')"
      ]
     },
     "execution_count": 12,
     "metadata": {},
     "output_type": "execute_result"
    }
   ],
   "source": [
    "np.zeros(shape=[5,5],dtype=int).dtype\n"
   ]
  },
  {
   "cell_type": "markdown",
   "id": "679c20b3",
   "metadata": {},
   "source": [
    "ones"
   ]
  },
  {
   "cell_type": "code",
   "execution_count": 13,
   "id": "574b1fb3",
   "metadata": {},
   "outputs": [
    {
     "data": {
      "text/plain": [
       "array([[1, 1, 1, 1, 1],\n",
       "       [1, 1, 1, 1, 1],\n",
       "       [1, 1, 1, 1, 1],\n",
       "       [1, 1, 1, 1, 1],\n",
       "       [1, 1, 1, 1, 1]])"
      ]
     },
     "execution_count": 13,
     "metadata": {},
     "output_type": "execute_result"
    }
   ],
   "source": [
    "np.ones(shape=[5,5],dtype=int)\n"
   ]
  },
  {
   "cell_type": "markdown",
   "id": "15d355c4",
   "metadata": {},
   "source": [
    "identity function"
   ]
  },
  {
   "cell_type": "code",
   "execution_count": 14,
   "id": "0bce376b",
   "metadata": {},
   "outputs": [
    {
     "data": {
      "text/plain": [
       "array([[1, 0, 0, 0, 0],\n",
       "       [0, 1, 0, 0, 0],\n",
       "       [0, 0, 1, 0, 0],\n",
       "       [0, 0, 0, 1, 0],\n",
       "       [0, 0, 0, 0, 1]])"
      ]
     },
     "execution_count": 14,
     "metadata": {},
     "output_type": "execute_result"
    }
   ],
   "source": [
    "np.eye(5,dtype=int)"
   ]
  },
  {
   "cell_type": "markdown",
   "id": "ab0a6c5d",
   "metadata": {},
   "source": [
    "Random function "
   ]
  },
  {
   "cell_type": "code",
   "execution_count": 15,
   "id": "1d09efa7",
   "metadata": {},
   "outputs": [
    {
     "data": {
      "text/plain": [
       "array([[0.27321328, 0.04060799, 0.54071582],\n",
       "       [0.91918803, 0.95386555, 0.64549235],\n",
       "       [0.16900095, 0.74746461, 0.65477179],\n",
       "       [0.62366703, 0.91679066, 0.57860682],\n",
       "       [0.12660104, 0.07784102, 0.44988744]])"
      ]
     },
     "execution_count": 15,
     "metadata": {},
     "output_type": "execute_result"
    }
   ],
   "source": [
    "np.random.rand(5,3)"
   ]
  },
  {
   "cell_type": "code",
   "execution_count": 16,
   "id": "da1f7305",
   "metadata": {},
   "outputs": [
    {
     "data": {
      "text/plain": [
       "array([6, 5, 7, 7, 2, 3, 8, 8, 2, 8, 7, 6, 6, 2, 2, 3, 3, 3, 7, 8])"
      ]
     },
     "execution_count": 16,
     "metadata": {},
     "output_type": "execute_result"
    }
   ],
   "source": [
    "\n",
    "np.random.randint(low=2,high=10,size=20,dtype=int)"
   ]
  },
  {
   "cell_type": "code",
   "execution_count": 70,
   "id": "da5eb88a",
   "metadata": {},
   "outputs": [
    {
     "data": {
      "text/plain": [
       "array([-1.20479405e+00, -5.40197025e-01,  6.63404303e-01, -5.24935324e-01,\n",
       "       -1.83790984e+00, -1.51062801e-01,  2.44547469e-02,  2.19255831e-02,\n",
       "       -8.81849583e-02, -1.26624860e-01,  2.84882783e-01,  2.71352183e-01,\n",
       "       -1.13679136e+00, -9.54670188e-01,  1.34267254e+00, -2.35490523e+00,\n",
       "        1.52416604e+00,  1.92537842e-01, -7.67464917e-01,  1.22783377e+00,\n",
       "        1.08101746e-01,  2.41814332e-01,  1.65698137e-01, -1.92816902e+00,\n",
       "        1.29380501e+00,  1.08185641e-02, -3.94309027e-02, -7.96605854e-01,\n",
       "       -7.41516751e-01, -9.31339729e-02,  7.33987336e-02, -8.01302054e-01,\n",
       "       -9.99595190e-02, -2.86929653e+00,  1.82273273e+00,  1.26007780e+00,\n",
       "        1.40220907e+00, -1.50202123e+00, -4.88970819e-01, -7.46564310e-01,\n",
       "       -4.50043653e-01,  3.87524115e-01, -7.21147580e-01, -7.76295834e-01,\n",
       "       -5.09650946e-02, -2.09194348e-03, -3.97046066e-02, -4.84991059e-01,\n",
       "        4.86696629e-01, -9.15032838e-01,  3.59456657e-01,  1.35758309e+00,\n",
       "       -8.77414838e-01,  1.56719159e+00, -7.86662907e-02, -5.89172958e-01,\n",
       "        1.28713576e+00, -1.69869289e+00, -3.62454889e-01, -4.86910365e-01,\n",
       "       -5.87478471e-01,  7.84675107e-01,  6.68093022e-01, -1.37427223e-01,\n",
       "       -7.06871473e-01, -4.47282408e-01,  5.82316310e-01,  1.75407286e+00,\n",
       "       -4.71853816e-01,  1.14977127e-01,  8.23152443e-01, -1.01253913e+00,\n",
       "       -1.52240604e-01, -3.25130017e-01,  1.72592124e+00, -1.32934164e-01,\n",
       "       -5.69737903e-01,  2.20302504e+00, -2.39886999e-01,  2.61558378e-01,\n",
       "        3.92413030e-01,  8.18182966e-01,  1.92856363e+00, -6.07961358e-01,\n",
       "        1.49492033e+00, -2.11590169e-01,  2.13960145e-02, -1.01389251e+00,\n",
       "       -7.15691282e-01, -8.06841188e-01, -2.71936140e-01,  7.11183967e-01,\n",
       "        1.07415742e-01, -2.21506811e-01,  1.56302141e+00, -5.68429266e-01,\n",
       "        8.66663970e-02, -3.51051192e+00, -1.66238252e+00, -6.54099091e-01])"
      ]
     },
     "execution_count": 70,
     "metadata": {},
     "output_type": "execute_result"
    }
   ],
   "source": [
    "np.random.randn(100)"
   ]
  },
  {
   "cell_type": "code",
   "execution_count": 74,
   "id": "1dae04bb",
   "metadata": {},
   "outputs": [
    {
     "data": {
      "text/plain": [
       "0.08351123289259928"
      ]
     },
     "execution_count": 74,
     "metadata": {},
     "output_type": "execute_result"
    }
   ],
   "source": [
    "np.random.randn(100).mean()"
   ]
  },
  {
   "cell_type": "code",
   "execution_count": 18,
   "id": "fe251d15",
   "metadata": {},
   "outputs": [
    {
     "data": {
      "image/png": "[encoded data removed]",
      "text/plain": [
       "<Figure size 640x480 with 1 Axes>"
      ]
     },
     "metadata": {},
     "output_type": "display_data"
    }
   ],
   "source": [
    "import seaborn as sns \n",
    "import matplotlib.pyplot as plt\n",
    "\n",
    "plt.hist(np.random.randn(100000),bins=1000)\n",
    "plt.show()"
   ]
  },
  {
   "cell_type": "markdown",
   "id": "64a75d64",
   "metadata": {},
   "source": [
    "Reshape function "
   ]
  },
  {
   "cell_type": "code",
   "execution_count": 19,
   "id": "ebc5fcd0",
   "metadata": {},
   "outputs": [
    {
     "name": "stdout",
     "output_type": "stream",
     "text": [
      "[[ 9 10 10]\n",
      " [11 10 11]\n",
      " [ 8 14  2]\n",
      " [14  6  9]] (4, 3)\n",
      "------------------------------\n",
      "[[ 9 10 10]\n",
      " [11 10 11]\n",
      " [ 8 14  2]\n",
      " [14  6  9]] (4, 3)\n"
     ]
    }
   ],
   "source": [
    "arr=np.random.randint(1,15,(4,3))\n",
    "print(arr,arr.shape)\n",
    "print(\"-\"*30)\n",
    "print(arr.reshape(4,3),arr.shape)"
   ]
  },
  {
   "cell_type": "markdown",
   "id": "2244b27a",
   "metadata": {},
   "source": [
    "Linespace"
   ]
  },
  {
   "cell_type": "code",
   "execution_count": 20,
   "id": "9a1ff5ad",
   "metadata": {},
   "outputs": [
    {
     "data": {
      "text/plain": [
       "array([ 1,  6, 11, 17, 22, 28, 33, 39, 44, 50])"
      ]
     },
     "execution_count": 20,
     "metadata": {},
     "output_type": "execute_result"
    }
   ],
   "source": [
    "np.linspace(1,50,10,dtype=int)"
   ]
  },
  {
   "cell_type": "markdown",
   "id": "94af64c3",
   "metadata": {},
   "source": [
    "flatten function "
   ]
  },
  {
   "cell_type": "code",
   "execution_count": 21,
   "id": "f1eca844",
   "metadata": {},
   "outputs": [
    {
     "data": {
      "text/plain": [
       "array([8, 7, 1, 2, 2, 7, 4, 1, 8, 6])"
      ]
     },
     "execution_count": 21,
     "metadata": {},
     "output_type": "execute_result"
    }
   ],
   "source": [
    "arr=np.random.randint(1,10,(5,2))\n",
    "arr.flatten()"
   ]
  },
  {
   "cell_type": "markdown",
   "id": "1c1ba995",
   "metadata": {},
   "source": [
    "Copy the array "
   ]
  },
  {
   "cell_type": "code",
   "execution_count": 28,
   "id": "e6c9fd24",
   "metadata": {},
   "outputs": [
    {
     "name": "stdout",
     "output_type": "stream",
     "text": [
      "2808574766576\n",
      "2808574766576\n",
      "********************\n",
      "2808574033712\n",
      "2808573730352\n"
     ]
    }
   ],
   "source": [
    "arr1=np.random.randint(1,10,(5,2))\n",
    "arr2=arr1\n",
    "\n",
    "print(id(arr1)) # same id \n",
    "print(id(arr2))\n",
    "\n",
    "print(\"*\"*20)\n",
    "\n",
    "arr1=np.random.randint(1,10,(5,2))\n",
    "arr2=arr1.copy()\n",
    "\n",
    "print(id(arr1))# different id\n",
    "print(id(arr2))"
   ]
  },
  {
   "cell_type": "markdown",
   "id": "7adc3c74",
   "metadata": {},
   "source": [
    "max, min , mean, sum"
   ]
  },
  {
   "cell_type": "code",
   "execution_count": 33,
   "id": "e0111ff9",
   "metadata": {},
   "outputs": [
    {
     "name": "stdout",
     "output_type": "stream",
     "text": [
      "mean : 25.77777777777778\n",
      "min : 9\n",
      "max : 45\n",
      "sum : 464\n"
     ]
    }
   ],
   "source": [
    "arr=np.random.randint(1,50,(6,3),dtype=int)\n",
    "\n",
    "print(f\"mean : {arr.mean()}\")\n",
    "print(f\"min : {arr.min()}\")\n",
    "print(f\"max : {arr.max()}\")\n",
    "print(f\"sum : {arr.sum()}\")"
   ]
  },
  {
   "cell_type": "code",
   "execution_count": 35,
   "id": "fba97b75",
   "metadata": {},
   "outputs": [
    {
     "name": "stdout",
     "output_type": "stream",
     "text": [
      "mean : [21.16666667 29.5        27.66666667]\n",
      "min : [ 3 14  5]\n",
      "max : [47 49 47]\n",
      "sum : [127 177 166]\n"
     ]
    }
   ],
   "source": [
    "arr=np.random.randint(1,50,(6,3),dtype=int)\n",
    "\n",
    "print(f\"mean : {arr.mean(axis=0)}\")\n",
    "print(f\"min : {arr.min(axis=0)}\")\n",
    "print(f\"max : {arr.max(axis=0)}\")\n",
    "print(f\"sum : {arr.sum(axis=0)}\")"
   ]
  },
  {
   "cell_type": "code",
   "execution_count": 37,
   "id": "7331b6c9",
   "metadata": {},
   "outputs": [
    {
     "data": {
      "text/plain": [
       "array([[ 25,  78],\n",
       "       [ 45, 108]])"
      ]
     },
     "execution_count": 37,
     "metadata": {},
     "output_type": "execute_result"
    }
   ],
   "source": [
    "np.random.seed(3)\n",
    "arr1=np.random.randint(1,10,(2,2))\n",
    "arr2=np.random.randint(1,10,(2,2))\n",
    "\n",
    "arr1.dot(arr2)"
   ]
  },
  {
   "cell_type": "code",
   "execution_count": 40,
   "id": "6704f53a",
   "metadata": {},
   "outputs": [
    {
     "data": {
      "text/plain": [
       "array([[ 9, 24],\n",
       "       [36, 54]])"
      ]
     },
     "execution_count": 40,
     "metadata": {},
     "output_type": "execute_result"
    }
   ],
   "source": [
    "arr1*arr2 # normal multiply"
   ]
  },
  {
   "cell_type": "markdown",
   "id": "3b29aed8",
   "metadata": {},
   "source": [
    "Filtering the array"
   ]
  },
  {
   "cell_type": "code",
   "execution_count": 44,
   "id": "975ffbcd",
   "metadata": {},
   "outputs": [
    {
     "name": "stdout",
     "output_type": "stream",
     "text": [
      "[False False False False False  True  True  True  True  True  True  True\n",
      "  True  True]\n",
      "********************\n",
      "[ 6  7  8  9 10 11 12 13 14]\n"
     ]
    }
   ],
   "source": [
    "arr=np.arange(1,15)\n",
    "print(arr>5)\n",
    "print(\"*\"*20)\n",
    "print(arr[arr>5])"
   ]
  },
  {
   "cell_type": "markdown",
   "id": "e7b32590",
   "metadata": {},
   "source": [
    "Transpose"
   ]
  },
  {
   "cell_type": "code",
   "execution_count": 45,
   "id": "35148851",
   "metadata": {},
   "outputs": [
    {
     "name": "stdout",
     "output_type": "stream",
     "text": [
      "[[39 33 21 45 30]\n",
      " [40 15 27 18 27]\n",
      " [23  3  3  2 27]]\n",
      "********************\n",
      "[[39 40 23]\n",
      " [33 15  3]\n",
      " [21 27  3]\n",
      " [45 18  2]\n",
      " [30 27 27]]\n"
     ]
    }
   ],
   "source": [
    "arr=np.random.randint(1,50,(3,5))\n",
    "\n",
    "print(arr)\n",
    "print(\"*\"*20)\n",
    "print(arr.T)"
   ]
  },
  {
   "cell_type": "markdown",
   "id": "eabbec91",
   "metadata": {},
   "source": [
    "Where function"
   ]
  },
  {
   "cell_type": "code",
   "execution_count": 49,
   "id": "8b4c5032",
   "metadata": {},
   "outputs": [
    {
     "name": "stdout",
     "output_type": "stream",
     "text": [
      "[86 75 92 17 81 33 17 19 76 56]\n"
     ]
    },
    {
     "data": {
      "text/plain": [
       "array(['even', '75', 'even', '17', '81', '33', '17', '19', 'even', 'even'],\n",
       "      dtype='<U11')"
      ]
     },
     "execution_count": 49,
     "metadata": {},
     "output_type": "execute_result"
    }
   ],
   "source": [
    "arr=np.random.randint(1,100,10,dtype=int)\n",
    "print(arr)\n",
    "np.where(arr%2==0,\"even\",arr)"
   ]
  },
  {
   "cell_type": "markdown",
   "id": "0c5d8ebc",
   "metadata": {},
   "source": [
    "Merging the array"
   ]
  },
  {
   "cell_type": "code",
   "execution_count": 53,
   "id": "84699f8b",
   "metadata": {},
   "outputs": [
    {
     "name": "stdout",
     "output_type": "stream",
     "text": [
      "[[6 4 7 2]\n",
      " [4 8 5 1]\n",
      " [9 5 8 9]\n",
      " [6 7 8 4]\n",
      " [6 2 9 3]\n",
      " [9 5 6 1]\n",
      " [9 8 2 3]\n",
      " [6 3 8 7]]\n",
      "********************\n",
      "[[6 4 7 2 6 2 9 3]\n",
      " [4 8 5 1 9 5 6 1]\n",
      " [9 5 8 9 9 8 2 3]\n",
      " [6 7 8 4 6 3 8 7]]\n"
     ]
    }
   ],
   "source": [
    "arr1=np.random.randint(1,10,(4,4))\n",
    "arr2=np.random.randint(1,10,(4,4))\n",
    "\n",
    "print(np.concatenate([arr1,arr2],axis=0))\n",
    "print(\"*\"*20)\n",
    "print(np.concatenate([arr1,arr2],axis=1))"
   ]
  },
  {
   "cell_type": "markdown",
   "id": "5c6f4323",
   "metadata": {},
   "source": [
    "## **image into the array** <br>\n",
    "<img src=\"../DATA_SCIENCE/Dataset/numpy_array.png\">"
   ]
  },
  {
   "cell_type": "code",
   "execution_count": 54,
   "id": "fa275400",
   "metadata": {},
   "outputs": [],
   "source": [
    "from matplotlib.image import imread\n",
    "\n",
    "img=imread('../DATA_SCIENCE/Dataset/numpy_array.png')"
   ]
  },
  {
   "cell_type": "code",
   "execution_count": 68,
   "id": "1846006a",
   "metadata": {},
   "outputs": [
    {
     "data": {
      "text/plain": [
       "array([[[0., 0., 0., 1.],\n",
       "        [0., 0., 0., 1.],\n",
       "        [0., 0., 0., 1.],\n",
       "        ...,\n",
       "        [0., 0., 0., 1.],\n",
       "        [0., 0., 0., 1.],\n",
       "        [0., 0., 0., 1.]],\n",
       "\n",
       "       [[0., 0., 0., 1.],\n",
       "        [0., 0., 0., 1.],\n",
       "        [0., 0., 0., 1.],\n",
       "        ...,\n",
       "        [0., 0., 0., 1.],\n",
       "        [0., 0., 0., 1.],\n",
       "        [0., 0., 0., 1.]],\n",
       "\n",
       "       [[0., 0., 0., 1.],\n",
       "        [0., 0., 0., 1.],\n",
       "        [0., 0., 0., 1.],\n",
       "        ...,\n",
       "        [0., 0., 0., 1.],\n",
       "        [0., 0., 0., 1.],\n",
       "        [0., 0., 0., 1.]],\n",
       "\n",
       "       ...,\n",
       "\n",
       "       [[1., 1., 1., 1.],\n",
       "        [1., 1., 1., 1.],\n",
       "        [1., 1., 1., 1.],\n",
       "        ...,\n",
       "        [1., 1., 1., 1.],\n",
       "        [1., 1., 1., 1.],\n",
       "        [1., 1., 1., 1.]],\n",
       "\n",
       "       [[1., 1., 1., 1.],\n",
       "        [1., 1., 1., 1.],\n",
       "        [1., 1., 1., 1.],\n",
       "        ...,\n",
       "        [1., 1., 1., 1.],\n",
       "        [1., 1., 1., 1.],\n",
       "        [1., 1., 1., 1.]],\n",
       "\n",
       "       [[1., 1., 1., 1.],\n",
       "        [1., 1., 1., 1.],\n",
       "        [1., 1., 1., 1.],\n",
       "        ...,\n",
       "        [1., 1., 1., 1.],\n",
       "        [1., 1., 1., 1.],\n",
       "        [1., 1., 1., 1.]]], dtype=float32)"
      ]
     },
     "execution_count": 68,
     "metadata": {},
     "output_type": "execute_result"
    }
   ],
   "source": [
    "img"
   ]
  },
  {
   "cell_type": "code",
   "execution_count": 56,
   "id": "3a5deef6",
   "metadata": {},
   "outputs": [
    {
     "data": {
      "text/plain": [
       "(222, 230, 4)"
      ]
     },
     "execution_count": 56,
     "metadata": {},
     "output_type": "execute_result"
    }
   ],
   "source": [
    "img.shape"
   ]
  },
  {
   "cell_type": "code",
   "execution_count": 57,
   "id": "9c702bda",
   "metadata": {},
   "outputs": [
    {
     "data": {
      "text/plain": [
       "dtype('float32')"
      ]
     },
     "execution_count": 57,
     "metadata": {},
     "output_type": "execute_result"
    }
   ],
   "source": [
    "img.dtype"
   ]
  },
  {
   "cell_type": "code",
   "execution_count": 59,
   "id": "8e5aedcd",
   "metadata": {},
   "outputs": [
    {
     "data": {
      "text/plain": [
       "1.0"
      ]
     },
     "execution_count": 59,
     "metadata": {},
     "output_type": "execute_result"
    }
   ],
   "source": [
    "img.max()"
   ]
  },
  {
   "cell_type": "code",
   "execution_count": 60,
   "id": "6b22307f",
   "metadata": {},
   "outputs": [
    {
     "data": {
      "text/plain": [
       "0.0"
      ]
     },
     "execution_count": 60,
     "metadata": {},
     "output_type": "execute_result"
    }
   ],
   "source": [
    "img.min()"
   ]
  },
  {
   "cell_type": "code",
   "execution_count": 61,
   "id": "3ac550dc",
   "metadata": {},
   "outputs": [
    {
     "data": {
      "text/plain": [
       "<matplotlib.image.AxesImage at 0x28dec207b10>"
      ]
     },
     "execution_count": 61,
     "metadata": {},
     "output_type": "execute_result"
    },
    {
     "data": {
      "image/png": "[encoded data removed]",
      "text/plain": [
       "<Figure size 640x480 with 1 Axes>"
      ]
     },
     "metadata": {},
     "output_type": "display_data"
    }
   ],
   "source": [
    "plt.imshow(img)"
   ]
  },
  {
   "cell_type": "code",
   "execution_count": 62,
   "id": "c449c229",
   "metadata": {},
   "outputs": [],
   "source": [
    "new_img=img.copy()"
   ]
  },
  {
   "cell_type": "code",
   "execution_count": 69,
   "id": "b2977732",
   "metadata": {},
   "outputs": [
    {
     "ename": "ValueError",
     "evalue": "repeated axis in transpose",
     "output_type": "error",
     "traceback": [
      "\u001b[1;31m---------------------------------------------------------------------------\u001b[0m",
      "\u001b[1;31mValueError\u001b[0m                                Traceback (most recent call last)",
      "Cell \u001b[1;32mIn[69], line 1\u001b[0m\n\u001b[1;32m----> 1\u001b[0m plt\u001b[38;5;241m.\u001b[39mimshow(np\u001b[38;5;241m.\u001b[39mtranspose(new_img, (\u001b[38;5;241m0\u001b[39m, \u001b[38;5;241m0\u001b[39m, \u001b[38;5;241m2\u001b[39m)))\n\u001b[0;32m      2\u001b[0m plt\u001b[38;5;241m.\u001b[39mshow()\n",
      "File \u001b[1;32mc:\\Users\\Samee\\anaconda3\\Lib\\site-packages\\numpy\\core\\fromnumeric.py:655\u001b[0m, in \u001b[0;36mtranspose\u001b[1;34m(a, axes)\u001b[0m\n\u001b[0;32m    588\u001b[0m \u001b[38;5;129m@array_function_dispatch\u001b[39m(_transpose_dispatcher)\n\u001b[0;32m    589\u001b[0m \u001b[38;5;28;01mdef\u001b[39;00m \u001b[38;5;21mtranspose\u001b[39m(a, axes\u001b[38;5;241m=\u001b[39m\u001b[38;5;28;01mNone\u001b[39;00m):\n\u001b[0;32m    590\u001b[0m \u001b[38;5;250m    \u001b[39m\u001b[38;5;124;03m\"\"\"\u001b[39;00m\n\u001b[0;32m    591\u001b[0m \u001b[38;5;124;03m    Returns an array with axes transposed.\u001b[39;00m\n\u001b[0;32m    592\u001b[0m \n\u001b[1;32m   (...)\u001b[0m\n\u001b[0;32m    653\u001b[0m \n\u001b[0;32m    654\u001b[0m \u001b[38;5;124;03m    \"\"\"\u001b[39;00m\n\u001b[1;32m--> 655\u001b[0m     \u001b[38;5;28;01mreturn\u001b[39;00m _wrapfunc(a, \u001b[38;5;124m'\u001b[39m\u001b[38;5;124mtranspose\u001b[39m\u001b[38;5;124m'\u001b[39m, axes)\n",
      "File \u001b[1;32mc:\\Users\\Samee\\anaconda3\\Lib\\site-packages\\numpy\\core\\fromnumeric.py:59\u001b[0m, in \u001b[0;36m_wrapfunc\u001b[1;34m(obj, method, *args, **kwds)\u001b[0m\n\u001b[0;32m     56\u001b[0m     \u001b[38;5;28;01mreturn\u001b[39;00m _wrapit(obj, method, \u001b[38;5;241m*\u001b[39margs, \u001b[38;5;241m*\u001b[39m\u001b[38;5;241m*\u001b[39mkwds)\n\u001b[0;32m     58\u001b[0m \u001b[38;5;28;01mtry\u001b[39;00m:\n\u001b[1;32m---> 59\u001b[0m     \u001b[38;5;28;01mreturn\u001b[39;00m bound(\u001b[38;5;241m*\u001b[39margs, \u001b[38;5;241m*\u001b[39m\u001b[38;5;241m*\u001b[39mkwds)\n\u001b[0;32m     60\u001b[0m \u001b[38;5;28;01mexcept\u001b[39;00m \u001b[38;5;167;01mTypeError\u001b[39;00m:\n\u001b[0;32m     61\u001b[0m     \u001b[38;5;66;03m# A TypeError occurs if the object does have such a method in its\u001b[39;00m\n\u001b[0;32m     62\u001b[0m     \u001b[38;5;66;03m# class, but its signature is not identical to that of NumPy's. This\u001b[39;00m\n\u001b[1;32m   (...)\u001b[0m\n\u001b[0;32m     66\u001b[0m     \u001b[38;5;66;03m# Call _wrapit from within the except clause to ensure a potential\u001b[39;00m\n\u001b[0;32m     67\u001b[0m     \u001b[38;5;66;03m# exception has a traceback chain.\u001b[39;00m\n\u001b[0;32m     68\u001b[0m     \u001b[38;5;28;01mreturn\u001b[39;00m _wrapit(obj, method, \u001b[38;5;241m*\u001b[39margs, \u001b[38;5;241m*\u001b[39m\u001b[38;5;241m*\u001b[39mkwds)\n",
      "\u001b[1;31mValueError\u001b[0m: repeated axis in transpose"
     ]
    }
   ],
   "source": [
    "plt.imshow(np.transpose(new_img, (0, 0, 2)))\n",
    "plt.show()"
   ]
  },
  {
   "cell_type": "code",
   "execution_count": 67,
   "id": "799a2dff",
   "metadata": {},
   "outputs": [
    {
     "data": {
      "text/plain": [
       "array([[[0., 0., 0., 1.],\n",
       "        [0., 0., 0., 1.],\n",
       "        [0., 0., 0., 1.],\n",
       "        ...,\n",
       "        [0., 0., 0., 1.],\n",
       "        [0., 0., 0., 1.],\n",
       "        [0., 0., 0., 1.]],\n",
       "\n",
       "       [[0., 0., 0., 1.],\n",
       "        [0., 0., 0., 1.],\n",
       "        [0., 0., 0., 1.],\n",
       "        ...,\n",
       "        [0., 0., 0., 1.],\n",
       "        [0., 0., 0., 1.],\n",
       "        [0., 0., 0., 1.]],\n",
       "\n",
       "       [[0., 0., 0., 1.],\n",
       "        [0., 0., 0., 1.],\n",
       "        [0., 0., 0., 1.],\n",
       "        ...,\n",
       "        [0., 0., 0., 1.],\n",
       "        [0., 0., 0., 1.],\n",
       "        [0., 0., 0., 1.]],\n",
       "\n",
       "       ...,\n",
       "\n",
       "       [[1., 1., 1., 1.],\n",
       "        [1., 1., 1., 1.],\n",
       "        [1., 1., 1., 1.],\n",
       "        ...,\n",
       "        [1., 1., 1., 1.],\n",
       "        [1., 1., 1., 1.],\n",
       "        [1., 1., 1., 1.]],\n",
       "\n",
       "       [[1., 1., 1., 1.],\n",
       "        [1., 1., 1., 1.],\n",
       "        [1., 1., 1., 1.],\n",
       "        ...,\n",
       "        [1., 1., 1., 1.],\n",
       "        [1., 1., 1., 1.],\n",
       "        [1., 1., 1., 1.]],\n",
       "\n",
       "       [[1., 1., 1., 1.],\n",
       "        [1., 1., 1., 1.],\n",
       "        [1., 1., 1., 1.],\n",
       "        ...,\n",
       "        [1., 1., 1., 1.],\n",
       "        [1., 1., 1., 1.],\n",
       "        [1., 1., 1., 1.]]], dtype=float32)"
      ]
     },
     "execution_count": 67,
     "metadata": {},
     "output_type": "execute_result"
    }
   ],
   "source": [
    "img"
   ]
  },
  {
   "cell_type": "code",
   "execution_count": null,
   "id": "c60358ab",
   "metadata": {},
   "outputs": [],
   "source": []
  }
 ],
 "metadata": {
  "kernelspec": {
   "display_name": "base",
   "language": "python",
   "name": "python3"
  },
  "language_info": {
   "codemirror_mode": {
    "name": "ipython",
    "version": 3
   },
   "file_extension": ".py",
   "mimetype": "text/x-python",
   "name": "python",
   "nbconvert_exporter": "python",
   "pygments_lexer": "ipython3",
   "version": "3.11.5"
  }
 },
 "nbformat": 4,
 "nbformat_minor": 5
}
