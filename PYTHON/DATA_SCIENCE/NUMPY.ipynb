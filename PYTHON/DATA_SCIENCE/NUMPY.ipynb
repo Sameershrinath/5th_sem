{
 "cells": [
  {
   "cell_type": "code",
   "execution_count": 1,
   "id": "ceb60bc0",
   "metadata": {},
   "outputs": [],
   "source": [
    "import numpy as np \n"
   ]
  },
  {
   "cell_type": "markdown",
   "id": "badb5610",
   "metadata": {},
   "source": [
    "Converting the list to the array"
   ]
  },
  {
   "cell_type": "code",
   "execution_count": 4,
   "id": "ee77a395",
   "metadata": {},
   "outputs": [
    {
     "data": {
      "text/plain": [
       "array([1, 2, 3, 4])"
      ]
     },
     "execution_count": 4,
     "metadata": {},
     "output_type": "execute_result"
    }
   ],
   "source": [
    "li=[1,2,3,4]\n",
    "\n",
    "np.array(li,ndmin=1)"
   ]
  },
  {
   "cell_type": "code",
   "execution_count": 7,
   "id": "796893da",
   "metadata": {},
   "outputs": [
    {
     "data": {
      "text/plain": [
       "array([[1, 2, 3, 4]])"
      ]
     },
     "execution_count": 7,
     "metadata": {},
     "output_type": "execute_result"
    }
   ],
   "source": [
    "np.array(li,ndmin=2)"
   ]
  },
  {
   "cell_type": "markdown",
   "id": "2c2404d6",
   "metadata": {},
   "source": [
    "Arrange function"
   ]
  },
  {
   "cell_type": "code",
   "execution_count": 10,
   "id": "a77258d7",
   "metadata": {},
   "outputs": [
    {
     "data": {
      "text/plain": [
       "array([1, 2, 3, 4, 5, 6, 7, 8, 9])"
      ]
     },
     "execution_count": 10,
     "metadata": {},
     "output_type": "execute_result"
    }
   ],
   "source": [
    "np.arange(1,10) # like the for loop "
   ]
  },
  {
   "cell_type": "markdown",
   "id": "ec3e230a",
   "metadata": {},
   "source": [
    "Multidimentional array"
   ]
  },
  {
   "cell_type": "code",
   "execution_count": 11,
   "id": "db1af637",
   "metadata": {},
   "outputs": [],
   "source": [
    "arr = np.array([[1,2,3,4],[8,9,6,7]])"
   ]
  },
  {
   "cell_type": "markdown",
   "id": "45f49282",
   "metadata": {},
   "source": [
    "size"
   ]
  },
  {
   "cell_type": "code",
   "execution_count": 20,
   "id": "358215df",
   "metadata": {},
   "outputs": [
    {
     "name": "stdout",
     "output_type": "stream",
     "text": [
      "2\n",
      "4\n",
      "8\n"
     ]
    }
   ],
   "source": [
    "arr = np.array([[1,2,3,4],[8,9,6,7]])\n",
    "print(np.size(arr,0)) # row\n",
    "print(np.size(arr,1)) # column\n",
    "print(np.size(arr)) # value"
   ]
  },
  {
   "cell_type": "markdown",
   "id": "84273a1d",
   "metadata": {},
   "source": [
    "Shape"
   ]
  },
  {
   "cell_type": "code",
   "execution_count": null,
   "id": "cc9536a7",
   "metadata": {},
   "outputs": [
    {
     "data": {
      "text/plain": [
       "(2, 4)"
      ]
     },
     "execution_count": 21,
     "metadata": {},
     "output_type": "execute_result"
    }
   ],
   "source": [
    "arr = np.array([[1,2,3,4],[8,9,6,7]])\n",
    "np.shape(arr)"
   ]
  },
  {
   "cell_type": "markdown",
   "id": "ebf33516",
   "metadata": {},
   "source": [
    "Datatype"
   ]
  },
  {
   "cell_type": "code",
   "execution_count": 24,
   "id": "084bcc95",
   "metadata": {},
   "outputs": [
    {
     "data": {
      "text/plain": [
       "dtype('int32')"
      ]
     },
     "execution_count": 24,
     "metadata": {},
     "output_type": "execute_result"
    }
   ],
   "source": [
    "arr = np.array([[1,2,3,4,45,54,55],[8,9,6,7,8,9,6]])\n",
    "arr.dtype"
   ]
  },
  {
   "cell_type": "markdown",
   "id": "1e2b4067",
   "metadata": {},
   "source": [
    "dimention of array"
   ]
  },
  {
   "cell_type": "code",
   "execution_count": 26,
   "id": "1944c6db",
   "metadata": {},
   "outputs": [
    {
     "data": {
      "text/plain": [
       "2"
      ]
     },
     "execution_count": 26,
     "metadata": {},
     "output_type": "execute_result"
    }
   ],
   "source": [
    "arr.ndim"
   ]
  },
  {
   "cell_type": "markdown",
   "id": "f862da36",
   "metadata": {},
   "source": [
    "zero"
   ]
  },
  {
   "cell_type": "code",
   "execution_count": 37,
   "id": "75883c5f",
   "metadata": {},
   "outputs": [
    {
     "data": {
      "text/plain": [
       "array([[0, 0, 0, 0, 0],\n",
       "       [0, 0, 0, 0, 0],\n",
       "       [0, 0, 0, 0, 0],\n",
       "       [0, 0, 0, 0, 0],\n",
       "       [0, 0, 0, 0, 0]])"
      ]
     },
     "execution_count": 37,
     "metadata": {},
     "output_type": "execute_result"
    }
   ],
   "source": [
    "np.zeros(shape=[5,5],dtype=int)\n",
    "# we can also use the empty array "
   ]
  },
  {
   "cell_type": "code",
   "execution_count": 32,
   "id": "449115bf",
   "metadata": {},
   "outputs": [
    {
     "data": {
      "text/plain": [
       "dtype('int32')"
      ]
     },
     "execution_count": 32,
     "metadata": {},
     "output_type": "execute_result"
    }
   ],
   "source": [
    "np.zeros(shape=[5,5],dtype=int).dtype\n"
   ]
  },
  {
   "cell_type": "markdown",
   "id": "679c20b3",
   "metadata": {},
   "source": [
    "ones"
   ]
  },
  {
   "cell_type": "code",
   "execution_count": 34,
   "id": "574b1fb3",
   "metadata": {},
   "outputs": [
    {
     "data": {
      "text/plain": [
       "array([[1, 1, 1, 1, 1],\n",
       "       [1, 1, 1, 1, 1],\n",
       "       [1, 1, 1, 1, 1],\n",
       "       [1, 1, 1, 1, 1],\n",
       "       [1, 1, 1, 1, 1]])"
      ]
     },
     "execution_count": 34,
     "metadata": {},
     "output_type": "execute_result"
    }
   ],
   "source": [
    "np.ones(shape=[5,5],dtype=int)\n"
   ]
  },
  {
   "cell_type": "markdown",
   "id": "15d355c4",
   "metadata": {},
   "source": [
    "identity function"
   ]
  },
  {
   "cell_type": "code",
   "execution_count": 36,
   "id": "0bce376b",
   "metadata": {},
   "outputs": [
    {
     "data": {
      "text/plain": [
       "array([[1, 0, 0, 0, 0],\n",
       "       [0, 1, 0, 0, 0],\n",
       "       [0, 0, 1, 0, 0],\n",
       "       [0, 0, 0, 1, 0],\n",
       "       [0, 0, 0, 0, 1]])"
      ]
     },
     "execution_count": 36,
     "metadata": {},
     "output_type": "execute_result"
    }
   ],
   "source": [
    "np.eye(5,dtype=int)"
   ]
  },
  {
   "cell_type": "markdown",
   "id": "ab0a6c5d",
   "metadata": {},
   "source": [
    "Random function "
   ]
  },
  {
   "cell_type": "code",
   "execution_count": 42,
   "id": "1d09efa7",
   "metadata": {},
   "outputs": [
    {
     "data": {
      "text/plain": [
       "array([[0.91274787, 0.59029651, 0.85898215],\n",
       "       [0.57368965, 0.76255902, 0.90770189],\n",
       "       [0.07118667, 0.73883849, 0.42930341],\n",
       "       [0.55368715, 0.47977556, 0.81649763],\n",
       "       [0.64667137, 0.86308842, 0.22411704]])"
      ]
     },
     "execution_count": 42,
     "metadata": {},
     "output_type": "execute_result"
    }
   ],
   "source": [
    "np.random.rand(5,3)"
   ]
  },
  {
   "cell_type": "code",
   "execution_count": 44,
   "id": "da1f7305",
   "metadata": {},
   "outputs": [
    {
     "data": {
      "text/plain": [
       "array([8, 7, 9, 7, 4, 6, 7, 8, 6, 6, 8, 7, 7, 6, 6, 8, 7, 3, 2, 2])"
      ]
     },
     "execution_count": 44,
     "metadata": {},
     "output_type": "execute_result"
    }
   ],
   "source": [
    "\n",
    "np.random.randint(low=2,high=10,size=20,dtype=int)"
   ]
  },
  {
   "cell_type": "code",
   "execution_count": 45,
   "id": "da5eb88a",
   "metadata": {},
   "outputs": [
    {
     "data": {
      "text/plain": [
       "array([-0.6041188 , -1.33902908, -0.83239512,  0.44452962,  1.11588094,\n",
       "       -0.74923498, -0.35449801, -2.04836664, -1.55165476,  1.32443923,\n",
       "        0.65998296, -1.63763952, -1.16415639,  0.23837549,  0.45237836,\n",
       "       -0.70449644, -1.27384755,  1.25897249, -1.30902606,  0.33500305,\n",
       "        0.0397481 ,  2.04787511, -0.07266364, -0.58361079, -0.79752858,\n",
       "       -2.11420791, -1.91822266,  0.41144239, -0.32769666, -0.63704839,\n",
       "       -0.87210268, -0.86684895, -1.19706081,  1.63231033, -0.64193346,\n",
       "       -0.52548972, -0.24991272,  0.73711497, -1.0674095 ,  0.48054796,\n",
       "        0.94145981,  0.46661634, -0.64844148,  0.9691202 ,  0.59297959,\n",
       "        1.17918465, -0.84057416, -1.62878152, -0.10793632,  0.30674013,\n",
       "        0.46036708,  0.69748222, -0.99712086, -0.02332282,  0.13275312,\n",
       "        1.42551033, -0.47896835, -0.51501628, -0.8227213 ,  0.89997128,\n",
       "       -0.83747469, -0.5311816 , -0.47194599, -0.33073786,  0.01579895,\n",
       "       -1.50555088,  0.13509881,  0.15787651, -1.07601701,  0.4179753 ,\n",
       "       -0.1678179 ,  0.010461  , -0.23961254,  0.18168298, -0.11005011,\n",
       "       -2.35320314, -1.86641403, -1.03534543, -0.42812479,  0.89492215,\n",
       "       -1.11451535,  1.40182103, -1.31627033,  0.74296423,  0.2345055 ,\n",
       "        0.2606325 , -0.83513584,  0.70024566, -0.80503357,  1.37864614,\n",
       "        0.64862911, -1.39434744, -0.31973011, -0.89865246, -0.62802943,\n",
       "       -1.16756476, -1.04246356, -0.10545821,  1.69297877, -0.31945337])"
      ]
     },
     "execution_count": 45,
     "metadata": {},
     "output_type": "execute_result"
    }
   ],
   "source": [
    "np.random.randn(100)"
   ]
  },
  {
   "cell_type": "code",
   "execution_count": 54,
   "id": "fe251d15",
   "metadata": {},
   "outputs": [
    {
     "data": {
      "image/png": "[encoded data removed]",
      "text/plain": [
       "<Figure size 640x480 with 1 Axes>"
      ]
     },
     "metadata": {},
     "output_type": "display_data"
    }
   ],
   "source": [
    "import seaborn as sns \n",
    "import matplotlib.pyplot as plt\n",
    "\n",
    "plt.hist(np.random.randn(100000),bins=1000)\n",
    "plt.show()"
   ]
  },
  {
   "cell_type": "markdown",
   "id": "64a75d64",
   "metadata": {},
   "source": [
    "Reshape function "
   ]
  },
  {
   "cell_type": "code",
   "execution_count": 63,
   "id": "ebc5fcd0",
   "metadata": {},
   "outputs": [
    {
     "name": "stdout",
     "output_type": "stream",
     "text": [
      "[[12 11  3]\n",
      " [ 8  4  9]\n",
      " [ 9  5 10]\n",
      " [ 5 13  6]] (4, 3)\n",
      "------------------------------\n",
      "[[12 11  3]\n",
      " [ 8  4  9]\n",
      " [ 9  5 10]\n",
      " [ 5 13  6]] (4, 3)\n"
     ]
    }
   ],
   "source": [
    "arr=np.random.randint(1,15,(4,3))\n",
    "print(arr,arr.shape)\n",
    "print(\"-\"*30)\n",
    "print(arr.reshape(4,3),arr.shape)"
   ]
  },
  {
   "cell_type": "markdown",
   "id": "2244b27a",
   "metadata": {},
   "source": [
    "Linespace"
   ]
  },
  {
   "cell_type": "code",
   "execution_count": 65,
   "id": "9a1ff5ad",
   "metadata": {},
   "outputs": [
    {
     "data": {
      "text/plain": [
       "array([ 1,  6, 11, 17, 22, 28, 33, 39, 44, 50])"
      ]
     },
     "execution_count": 65,
     "metadata": {},
     "output_type": "execute_result"
    }
   ],
   "source": [
    "np.linspace(1,50,10,dtype=int)"
   ]
  },
  {
   "cell_type": "markdown",
   "id": "94af64c3",
   "metadata": {},
   "source": [
    "flatten function "
   ]
  },
  {
   "cell_type": "code",
   "execution_count": 67,
   "id": "f1eca844",
   "metadata": {},
   "outputs": [
    {
     "data": {
      "text/plain": [
       "array([7, 1, 1, 9, 9, 9, 2, 3, 7, 7])"
      ]
     },
     "execution_count": 67,
     "metadata": {},
     "output_type": "execute_result"
    }
   ],
   "source": [
    "arr=np.random.randint(1,10,(5,2))\n",
    "arr.flatten()"
   ]
  },
  {
   "cell_type": "markdown",
   "id": "1c1ba995",
   "metadata": {},
   "source": [
    "Copy the array "
   ]
  },
  {
   "cell_type": "code",
   "execution_count": null,
   "id": "e6c9fd24",
   "metadata": {},
   "outputs": [],
   "source": []
  }
 ],
 "metadata": {
  "kernelspec": {
   "display_name": "base",
   "language": "python",
   "name": "python3"
  },
  "language_info": {
   "codemirror_mode": {
    "name": "ipython",
    "version": 3
   },
   "file_extension": ".py",
   "mimetype": "text/x-python",
   "name": "python",
   "nbconvert_exporter": "python",
   "pygments_lexer": "ipython3",
   "version": "3.11.5"
  }
 },
 "nbformat": 4,
 "nbformat_minor": 5
}
