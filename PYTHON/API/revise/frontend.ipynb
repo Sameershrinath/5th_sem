{
 "cells": [
  {
   "cell_type": "code",
   "execution_count": 10,
   "id": "904581ac",
   "metadata": {},
   "outputs": [
    {
     "name": "stdout",
     "output_type": "stream",
     "text": [
      "{'User': ['{data}', 'kk', 'sumit']}\n"
     ]
    }
   ],
   "source": [
    "import requests as rs \n",
    "\n",
    "url=\"http://127.0.0.1:8000/\"\n",
    "\n",
    "response = rs.get(url + \"show_user\")\n",
    "print(response.json())\n"
   ]
  },
  {
   "cell_type": "code",
   "execution_count": 11,
   "id": "00d1848b",
   "metadata": {},
   "outputs": [
    {
     "name": "stdout",
     "output_type": "stream",
     "text": [
      "{'SUbmitted': 'hello'}\n"
     ]
    }
   ],
   "source": [
    "# Example POST request to an endpoint\n",
    "data = input(\"input name here\")  # Replace with your actual data\n",
    "post_response = rs.post(url + f\"name/{data}\")\n",
    "print(post_response.json())"
   ]
  },
  {
   "cell_type": "code",
   "execution_count": 19,
   "id": "4198f4c3",
   "metadata": {},
   "outputs": [
    {
     "name": "stdout",
     "output_type": "stream",
     "text": [
      "b'{\"Message\":\"Hello from the developer\"}'\n"
     ]
    }
   ],
   "source": [
    "print(rs.get(url).content)"
   ]
  },
  {
   "cell_type": "code",
   "execution_count": null,
   "id": "bf25e73a",
   "metadata": {},
   "outputs": [
    {
     "name": "stdout",
     "output_type": "stream",
     "text": [
      "<!doctype html><html itemscope=\"\" itemtype=\"http://schema.org/WebPage\" lang=\"en-IN\"><head><meta content=\"text/html; charset=UTF-8\" http-equiv=\"Content-Type\"><meta content=\"/images/branding/googleg/1x/googleg_standard_color_128dp.png\" itemprop=\"image\"><title>Google</title><script nonce=\"WM-QADlbi_PuqI4DGU3eBA\">(function(){var _g={kEI:'GBjBaMmTIpqz5OUP4p298QQ',kEXPI:'0,202854,2,4037189,94918,344796,226411,2,63631,11106,5230576,456,199,36811987,25348456,18493,14110,65176,6749,23878,7034,2106,4599,328,6225,63401,55,709,15048,8206,3292,4134,30379,28334,54211,353,5010,2,5,2,13861,3122,3,2745,7714,5774,10733,1845,6,4,12361,7,2655,3050,2,13472,6251,35,3420,2827,37,10619,3474,8634,5683,3604,594,17178,2731,3476,3707,8085,1279,9976,3,5328,567,1187,1856,3,1959,1020,1,7645,7,1251,728,1032,655,1638,1535,2256,353,7761,7,1974,2646,103,4,1,321,840,2,4257,670,3132,981,8904,359,1,332,163,4,4172,9591,477,3950,1279,408,183,2,1,1380,31,104,3355,2,535,520,2839,2114,2,1347,5,1,506,175,128,1686,1715,24,1618,653,3,4,2,2577,354,251,1930,1738,1205,5,2240,276,2739,1116,553,3,559,547,3369,427,151,459,136,2949,77,23,764,9,3347,695,8,4,614,1171,2,2804,1140,237,787,1729,357,2447,318,72,1349,1937,515,21,87,7,2,645,7,4,495,5,47,718,20,3,140,1206,71,243,525,2,767,617,3242,7,855,283,4,246,139,153,94,2082,2348,501,141,113,219,235,205,591,242,2,1,3,2,10,1039,541,276,1383,6,963,376,493,7,304,9,1,296,1074,1199,1,2,12,16,415,1,382,6,1162,252,13,50,818,295,328,468,200,9,27,8,1827,357,871,1010,120,2,611,945,6,416,273,201,1087,89,365,500,273,1047,387,64,336,670,1931,1795,258,32,100,888,215,270,811,153,731,528,23,390,49,11,26,2,735,318,351,3,3,327,15,166,6,113,755,500,9,1,35,92,964,1,11,1,56,665,112,55,60,40,1598,744,457,1163,114,162,140,21150131,5,2253,739,4,2433,267,260,3,3237,5254,2,1558,3,999,832,3,612,3,5124,178,3338,158,1036,116,13,478,160,1107,759,501,577,253,8511298',kBL:'u63o',kOPI:89978449};(function(){var a;((a=window.google)==null?0:a.stvsc)?google.kEI=_g.kEI:window.google=_g;}).call(this);})();(function(){google.sn='webhp';google.kHL='en-IN';})();(function(){\n",
      "var g=this||self;function k(){return window.google&&window.google.kOPI||null};var l,m=[];function n(a){for(var b;a&&(!a.getAttribute||!(b=a.getAttribute(\"eid\")));)a=a.parentNode;return b||l}function p(a){for(var b=null;a&&(!a.getAttribute||!(b=a.getAttribute(\"leid\")));)a=a.parentNode;return b}function q(a){/^http:/i.test(a)&&window.location.protocol===\"https:\"&&(google.ml&&google.ml(Error(\"a\"),!1,{src:a,glmm:1}),a=\"\");return a}\n",
      "function r(a,b,d,c,h){var e=\"\";b.search(\"&ei=\")===-1&&(e=\"&ei=\"+n(c),b.search(\"&lei=\")===-1&&(c=p(c))&&(e+=\"&lei=\"+c));var f=b.search(\"&cshid=\")===-1&&a!==\"slh\";c=\"&zx=\"+Date.now().toString();g._cshid&&f&&(c+=\"&cshid=\"+g._cshid);(d=d())&&(c+=\"&opi=\"+d);return\"/\"+(h||\"gen_204\")+\"?atyp=i&ct=\"+String(a)+\"&cad=\"+(b+e+c)};l=google.kEI;google.getEI=n;google.getLEI=p;google.ml=function(){return null};google.log=function(a,b,d,c,h,e){e=e===void 0?k:e;d||(d=r(a,b,e,c,h));if(d=q(d)){a=new Image;var f=m.length;m[f]=a;a.onerror=a.onload=a.onabort=function(){delete m[f]};a.src=d}};google.logUrl=function(a,b){b=b===void 0?k:b;return r(\"\",a,b)};}).call(this);(function(){google.y={};google.sy={};function e(a,b,c){if(a)var d=a.id;else{do d=Math.random();while(c[d])}c[d]=[a,b]}var f;(f=google).x||(f.x=function(a,b){e(a,b,google.y)});var g;(g=google).sx||(g.sx=function(a,b){e(a,b,google.sy)});google.lm=[];var h;(h=google).plm||(h.plm=function(a){google.lm.push.apply(google.lm,a)});google.lq=[];var k;(k=google).load||(k.load=function(a,b,c){google.lq.push([[a],b,c])});var l;(l=google).loadAll||(l.loadAll=function(a,b){google.lq.push([a,b])});google.bx=!1;var m;(m=google).lx||(m.lx=function(){});var n=[],p;(p=google).fce||(p.fce=function(a,b,c,d){n.push([a,b,c,d])});google.qce=n;google.adl=[];}).call(this);google.f={};(function(){\n",
      "document.documentElement.addEventListener(\"submit\",function(b){var a;if(a=b.target){var c=a.getAttribute(\"data-submitfalse\");a=c===\"1\"||c===\"q\"&&!a.elements.q.value?!0:!1}else a=!1;a&&(b.preventDefault(),b.stopPropagation())},!0);document.documentElement.addEventListener(\"click\",function(b){var a;a:{for(a=b.target;a&&a!==document.documentElement;a=a.parentElement)if(a.tagName===\"A\"){a=a.getAttribute(\"data-nohref\")===\"1\";break a}a=!1}a&&b.preventDefault()},!0);}).call(this);</script><style>#gbar,#guser{font-size:13px;padding-top:1px !important;}#gbar{height:22px}#guser{padding-bottom:7px !important;text-align:right}.gbh,.gbd{border-top:1px solid #c9d7f1;font-size:1px}.gbh{height:0;position:absolute;top:24px;width:100%}@media all{.gb1{height:22px;margin-right:.5em;vertical-align:top}#gbar{float:left}}a.gb1,a.gb4{text-decoration:underline !important}a.gb1,a.gb4{color:#00c !important}.gbi .gb4{color:#dd8e27 !important}.gbf .gb4{color:#900 !important}\n",
      "</style><style>body,td,a,p,.h{font-family:sans-serif}body{margin:0;overflow-y:scroll}#gog{padding:3px 8px 0}td{line-height:.8em}.gac_m td{line-height:17px}form{margin-bottom:20px}.h{color:#1967d2}em{font-weight:bold;font-style:normal}.lst{height:25px;width:496px}.gsfi,.lst{font:18px sans-serif}.gsfs{font:17px sans-serif}.ds{display:inline-box;display:inline-block;margin:3px 0 4px;margin-left:4px}input{font-family:inherit}body{background:#fff;color:#1f1f1f}a{color:#681da8;text-decoration:none}a:hover,a:active{text-decoration:underline}.fl a{color:#1967d2}a:visited{color:#681da8}.sblc{padding-top:5px}.sblc a{display:block;margin:2px 0;margin-left:13px;font-size:11px}.lsbb{background:#ecedee;border:solid 1px;border-color:#dadce0 #70757a #70757a #dadce0;height:30px}.lsbb{display:block}#WqQANb a{display:inline-block;margin:0 12px}.lsb{background:url(/images/nav_logo229.png) 0 -261px repeat-x;color:#1f1f1f;border:none;cursor:pointer;height:30px;margin:0;outline:0;font:15px sans-serif;vertical-align:top}.lsb:active{background:#dadce0}.lst:focus{outline:none}</style><script nonce=\"WM-QADlbi_PuqI4DGU3eBA\">(function(){window.google.erd={jsr:1,bv:2286,de:true,dpf:'En8YPl2GA6eZJ6R1TFuBSs-ZuB7gnmWBjf8xf9gDEDA'};\n",
      "var g=this||self;var k,l=(k=g.mei)!=null?k:1,m,p=(m=g.diel)!=null?m:0,q,r=(q=g.sdo)!=null?q:!0,t=0,u,w=google.erd,x=w.jsr;google.ml=function(a,b,d,n,e){e=e===void 0?2:e;b&&(u=a&&a.message);d===void 0&&(d={});d.cad=\"ple_\"+google.ple+\".aple_\"+google.aple;if(google.dl)return google.dl(a,e,d,!0),null;b=d;if(x<0){window.console&&console.error(a,b);if(x===-2)throw a;b=!1}else b=!a||!a.message||a.message===\"Error loading script\"||t>=l&&!n?!1:!0;if(!b)return null;t++;d=d||{};b=encodeURIComponent;var c=\"/gen_204?atyp=i&ei=\"+b(google.kEI);google.kEXPI&&(c+=\"&jexpid=\"+b(google.kEXPI));c+=\"&srcpg=\"+b(google.sn)+\"&jsr=\"+b(w.jsr)+\n",
      "\"&bver=\"+b(w.bv);w.dpf&&(c+=\"&dpf=\"+b(w.dpf));var f=a.lineNumber;f!==void 0&&(c+=\"&line=\"+f);var h=a.fileName;h&&(h.indexOf(\"-extension:/\")>0&&(e=3),c+=\"&script=\"+b(h),f&&h===window.location.href&&(f=document.documentElement.outerHTML.split(\"\\n\")[f],c+=\"&cad=\"+b(f?f.substring(0,300):\"No script found.\")));google.ple&&google.ple===1&&(e=2);c+=\"&jsel=\"+e;for(var v in d)c+=\"&\",c+=b(v),c+=\"=\",c+=b(d[v]);c=c+\"&emsg=\"+b(a.name+\": \"+a.message);c=c+\"&jsst=\"+b(a.stack||\"N/A\");c.length>=12288&&(c=c.substring(0,12288));a=c;n||google.log(0,\"\",a);return a};window.onerror=function(a,b,d,n,e){u!==a&&(a=e instanceof Error?e:Error(a),d===void 0||\"lineNumber\"in a||(a.lineNumber=d),b===void 0||\"fileName\"in a||(a.fileName=b),google.ml(a,!1,void 0,!1,a.name===\"SyntaxError\"||a.message.substring(0,11)===\"SyntaxError\"||a.message.indexOf(\"Script error\")!==-1?3:p));u=null;r&&t>=l&&(window.onerror=null)};})();</script></head><body bgcolor=\"#fff\"><script nonce=\"WM-QADlbi_PuqI4DGU3eBA\">(function(){var src='/images/nav_logo229.png';var iesg=false;document.body.onload = function(){window.n && window.n();if (document.images){new Image().src=src;}\n",
      "if (!iesg){document.f&&document.f.q.focus();document.gbqf&&document.gbqf.q.focus();}\n",
      "}\n",
      "})();</script><div id=\"mngb\"><div id=gbar><nobr><b class=gb1>Search</b> <a class=gb1 href=\"https://www.google.com/imghp?hl=en&tab=wi\">Images</a> <a class=gb1 href=\"https://maps.google.co.in/maps?hl=en&tab=wl\">Maps</a> <a class=gb1 href=\"https://play.google.com/?hl=en&tab=w8\">Play</a> <a class=gb1 href=\"https://www.youtube.com/?tab=w1\">YouTube</a> <a class=gb1 href=\"https://news.google.com/?tab=wn\">News</a> <a class=gb1 href=\"https://mail.google.com/mail/?tab=wm\">Gmail</a> <a class=gb1 href=\"https://drive.google.com/?tab=wo\">Drive</a> <a class=gb1 style=\"text-decoration:none\" href=\"https://www.google.co.in/intl/en/about/products?tab=wh\"><u>More</u> &raquo;</a></nobr></div><div id=guser width=100%><nobr><span id=gbn class=gbi></span><span id=gbf class=gbf></span><span id=gbe></span><a href=\"http://www.google.co.in/history/optout?hl=en\" class=gb4>Web History</a> | <a  href=\"/preferences?hl=en\" class=gb4>Settings</a> | <a target=_top id=gb_70 href=\"https://accounts.google.com/ServiceLogin?hl=en&passive=true&continue=https://www.google.com/&ec=GAZAAQ\" class=gb4>Sign in</a></nobr></div><div class=gbh style=left:0></div><div class=gbh style=right:0></div></div><center><br clear=\"all\" id=\"lgpd\"><div id=\"XjhHGf\"><img alt=\"Google\" height=\"92\" src=\"/images/branding/googlelogo/1x/googlelogo_white_background_color_272x92dp.png\" style=\"padding:28px 0 14px\" width=\"272\" id=\"hplogo\"><br><br></div><form action=\"/search\" name=\"f\"><table cellpadding=\"0\" cellspacing=\"0\"><tr valign=\"top\"><td width=\"25%\">&nbsp;</td><td align=\"center\" nowrap=\"\"><input name=\"ie\" value=\"ISO-8859-1\" type=\"hidden\"><input value=\"en-IN\" name=\"hl\" type=\"hidden\"><input name=\"source\" type=\"hidden\" value=\"hp\"><input name=\"biw\" type=\"hidden\"><input name=\"bih\" type=\"hidden\"><div class=\"ds\" style=\"height:32px;margin:4px 0\"><input class=\"lst\" style=\"margin:0;padding:5px 8px 0 6px;vertical-align:top;color:#1f1f1f\" autocomplete=\"off\" value=\"\" title=\"Google Search\" maxlength=\"2048\" name=\"q\" size=\"57\"></div><br style=\"line-height:0\"><span class=\"ds\"><span class=\"lsbb\"><input class=\"lsb\" value=\"Google Search\" name=\"btnG\" type=\"submit\"></span></span><span class=\"ds\"><span class=\"lsbb\"><input class=\"lsb\" id=\"tsuid_GBjBaMmTIpqz5OUP4p298QQ_1\" value=\"I'm Feeling Lucky\" name=\"btnI\" type=\"submit\"><script nonce=\"WM-QADlbi_PuqI4DGU3eBA\">(function(){var id='tsuid_GBjBaMmTIpqz5OUP4p298QQ_1';document.getElementById(id).onclick = function(){if (this.form.q.value){this.checked = 1;if (this.form.iflsig)this.form.iflsig.disabled = false;}\n",
      "else top.location='/doodles/';};})();</script><input value=\"AOw8s4IAAAAAaMEmKC-johgUklHjYfYnTRKId_HeWgyN\" name=\"iflsig\" type=\"hidden\"></span></span></td><td class=\"fl sblc\" align=\"left\" nowrap=\"\" width=\"25%\"><a href=\"/advanced_search?hl=en-IN&amp;authuser=0\">Advanced search</a></td></tr></table><input id=\"gbv\" name=\"gbv\" type=\"hidden\" value=\"1\"><script nonce=\"WM-QADlbi_PuqI4DGU3eBA\">(function(){var a,b=\"1\";if(document&&document.getElementById)if(typeof XMLHttpRequest!=\"undefined\")b=\"2\";else if(typeof ActiveXObject!=\"undefined\"){var c,d,e=[\"MSXML2.XMLHTTP.6.0\",\"MSXML2.XMLHTTP.3.0\",\"MSXML2.XMLHTTP\",\"Microsoft.XMLHTTP\"];for(c=0;d=e[c++];)try{new ActiveXObject(d),b=\"2\"}catch(h){}}a=b;if(a==\"2\"&&location.search.indexOf(\"&gbv=2\")==-1){var f=google.gbvu,g=document.getElementById(\"gbv\");g&&(g.value=a);f&&window.setTimeout(function(){location.href=f},0)};}).call(this);</script></form><div style=\"font-size:83%;min-height:3.5em\"><br><div id=\"gws-output-pages-elements-homepage_additional_languages__als\"><style>#gws-output-pages-elements-homepage_additional_languages__als{font-size:small;margin-bottom:24px}#SIvCob{color:#545454;display:inline-block;line-height:28px;}#SIvCob a{}.H6sW5{display:inline-block;margin:0 2px;white-space:nowrap}.z4hgWe{display:inline-block;margin:0 2px}</style><div id=\"SIvCob\">Google offered in:  <a href=\"https://www.google.com/setprefs?sig=0_R8h_TgWiDSJ35kaTULA2CojwTQY%3D&amp;hl=hi&amp;source=homepage&amp;sa=X&amp;ved=0ahUKEwjJ_7KPxs2PAxWaGbkGHeJOL04Q2ZgBCAY\">&#2361;&#2367;&#2344;&#2381;&#2342;&#2368;</a>    <a href=\"https://www.google.com/setprefs?sig=0_R8h_TgWiDSJ35kaTULA2CojwTQY%3D&amp;hl=bn&amp;source=homepage&amp;sa=X&amp;ved=0ahUKEwjJ_7KPxs2PAxWaGbkGHeJOL04Q2ZgBCAc\">&#2476;&#2494;&#2434;&#2482;&#2494;</a>    <a href=\"https://www.google.com/setprefs?sig=0_R8h_TgWiDSJ35kaTULA2CojwTQY%3D&amp;hl=te&amp;source=homepage&amp;sa=X&amp;ved=0ahUKEwjJ_7KPxs2PAxWaGbkGHeJOL04Q2ZgBCAg\">&#3108;&#3142;&#3122;&#3137;&#3095;&#3137;</a>    <a href=\"https://www.google.com/setprefs?sig=0_R8h_TgWiDSJ35kaTULA2CojwTQY%3D&amp;hl=mr&amp;source=homepage&amp;sa=X&amp;ved=0ahUKEwjJ_7KPxs2PAxWaGbkGHeJOL04Q2ZgBCAk\">&#2350;&#2352;&#2366;&#2336;&#2368;</a>    <a href=\"https://www.google.com/setprefs?sig=0_R8h_TgWiDSJ35kaTULA2CojwTQY%3D&amp;hl=ta&amp;source=homepage&amp;sa=X&amp;ved=0ahUKEwjJ_7KPxs2PAxWaGbkGHeJOL04Q2ZgBCAo\">&#2980;&#2990;&#3007;&#2996;&#3021;</a>    <a href=\"https://www.google.com/setprefs?sig=0_R8h_TgWiDSJ35kaTULA2CojwTQY%3D&amp;hl=gu&amp;source=homepage&amp;sa=X&amp;ved=0ahUKEwjJ_7KPxs2PAxWaGbkGHeJOL04Q2ZgBCAs\">&#2711;&#2753;&#2716;&#2736;&#2750;&#2724;&#2752;</a>    <a href=\"https://www.google.com/setprefs?sig=0_R8h_TgWiDSJ35kaTULA2CojwTQY%3D&amp;hl=kn&amp;source=homepage&amp;sa=X&amp;ved=0ahUKEwjJ_7KPxs2PAxWaGbkGHeJOL04Q2ZgBCAw\">&#3221;&#3240;&#3277;&#3240;&#3233;</a>    <a href=\"https://www.google.com/setprefs?sig=0_R8h_TgWiDSJ35kaTULA2CojwTQY%3D&amp;hl=ml&amp;source=homepage&amp;sa=X&amp;ved=0ahUKEwjJ_7KPxs2PAxWaGbkGHeJOL04Q2ZgBCA0\">&#3374;&#3378;&#3375;&#3390;&#3379;&#3330;</a>    <a href=\"https://www.google.com/setprefs?sig=0_R8h_TgWiDSJ35kaTULA2CojwTQY%3D&amp;hl=pa&amp;source=homepage&amp;sa=X&amp;ved=0ahUKEwjJ_7KPxs2PAxWaGbkGHeJOL04Q2ZgBCA4\">&#2602;&#2672;&#2588;&#2622;&#2604;&#2624;</a>  </div></div></div><span id=\"footer\"><div style=\"font-size:10pt\"><div style=\"margin:19px auto;text-align:center\" id=\"WqQANb\"><a href=\"/intl/en/ads/\">Advertising</a><a href=\"http://www.google.co.in/services/\">Business Solutions</a><a href=\"/intl/en/about.html\">About Google</a><a href=\"https://www.google.com/setprefdomain?prefdom=IN&amp;prev=https://www.google.co.in/&amp;sig=K_L_smu-wmRmFbye6WuxFkm5JsZD4%3D\">Google.co.in</a></div></div><p style=\"font-size:8pt;color:#636363\">&copy; 2025 - <a href=\"/intl/en/policies/privacy/\">Privacy</a> - <a href=\"/intl/en/policies/terms/\">Terms</a></p></span></center><script nonce=\"WM-QADlbi_PuqI4DGU3eBA\">(function(){window.google.cdo={height:757,width:1440};(function(){var a=window.innerWidth,b=window.innerHeight;if(!a||!b){var c=window.document,d=c.compatMode==\"CSS1Compat\"?c.documentElement:c.body;a=d.clientWidth;b=d.clientHeight}if(a&&b&&(a!=google.cdo.width||b!=google.cdo.height)){var e=google,f=e.log,g=\"/client_204?&atyp=i&biw=\"+a+\"&bih=\"+b+\"&ei=\"+google.kEI,h=\"\",k=window.google&&window.google.kOPI||null;k&&(h+=\"&opi=\"+k);f.call(e,\"\",\"\",g+h)};}).call(this);})();(function(){google.xjs={basecomb:'/xjs/_/js/k\\x3dxjs.hp.en.ifLTPI-2YeE.es5.O/ck\\x3dxjs.hp.UwGeX6RFHw0.L.X.O/am\\x3dAAIAAAAAAAAgAAAAAAAAAAAAAAAAAAAAAAAAAgAAAAIAACCCQCAAAAAAAAAAAAAAAAAIAABwgEEJwAEAAAABgAABAAAAAAEAMAAAAAAAEgAABAACAAAgviMAAAAQiEUAAAAALw/d\\x3d1/ed\\x3d1/dg\\x3d0/ujg\\x3d1/rs\\x3dACT90oGhasS5NbfEm-bMvGKjafzjLtfDKA',basecss:'/xjs/_/ss/k\\x3dxjs.hp.UwGeX6RFHw0.L.X.O/am\\x3dAAIAAAAAAAAgAAAAAAAAAAAAAAAAAAAAAAAAAgAAAAIAACCCACAAAAAAAAAAAAAAAAAIAABwgEEBAAAAAAABgAABAAAAAAEAMAAAAAAAEgAABAACAAAAAAAAAAAACA/rs\\x3dACT90oEDhJzNakfhVcVmqZMXkYX_ENV3xQ',basejs:'/xjs/_/js/k\\x3dxjs.hp.en.ifLTPI-2YeE.es5.O/am\\x3dAAAAAAAAAAAAAAAAAAAAAAAAAAAAAAAAAAAAAAAAAAAAAAACQAAAAAAAAAAAAAAAAAAIAAAAAAAIwAEAAAAAAAAAAAAAAAAAAAAAAAAAAAAAAAAAAAAgviMAAAAQgEUAAAAALw/dg\\x3d0/rs\\x3dACT90oF8p4-wL1MkuPmWpg7i9IrtYbKSlg',excm:[]};})();(function(){var u='/xjs/_/js/k\\x3dxjs.hp.en.ifLTPI-2YeE.es5.O/am\\x3dAAAAAAAAAAAAAAAAAAAAAAAAAAAAAAAAAAAAAAAAAAAAAAACQAAAAAAAAAAAAAAAAAAIAAAAAAAIwAEAAAAAAAAAAAAAAAAAAAAAAAAAAAAAAAAAAAAgviMAAAAQgEUAAAAALw/d\\x3d1/ed\\x3d1/dg\\x3d3/rs\\x3dACT90oF8p4-wL1MkuPmWpg7i9IrtYbKSlg/m\\x3dsb_he,d';var st=1;var amd=1000;var mmd=0;var pop=true;var povp=false;var fp='';\n",
      "var e=this||self;function f(){var a=google.ia&&google.ia.r.B2Jtyd;return a&&[1,5,6].indexOf(a.m)>=0&&a.cbfd&&a.cbvi?a:void 0};function g(a){var b=document.createElement(\"link\");b.as=\"script\";b.href=a;b.rel=\"preload\";document.body.appendChild(b)}function k(){var a=[u];google.dp||(a.forEach(g),google.dp=!0)};google.ps=google.ps||[];function l(){var a=u,b=function(){};google.lx=google.stvsc?b:function(){m(a);google.lx=b};google.bx||google.lx()}function n(a,b){b&&(a.src=b);fp&&google.caft&&google.caft(function(){a.fetchPriority=fp});var h=a.onload;a.onload=function(d){h&&h(d);google.ps=google.ps.filter(function(c){return a!==c})};google.ps.push(a);document.body.appendChild(a)}google.as=n;function m(a){google.tick&&google.tick(\"load\",\"xjsls\");var b=document.createElement(\"script\");b.onerror=function(){google.ple=1};b.onload=function(){google.ple=0};google.xjsus=void 0;n(b,a);google.aple=-1;google.dp=!0};function p(){for(var a=document.getElementsByTagName(\"img\"),b=0,h=a.length;b<h;b++){var d=a[b],c;if(c=d.hasAttribute(\"data-lzy_\")&&Number(d.getAttribute(\"data-atf\"))&1)c=d.getAttribute(\"jscontroller\"),c=!((c===\"UBXHI\"||c===\"R3fhkb\"||c===\"TSZEqd\")&&d.hasAttribute(\"data-src\"));if(c)return!0}return!1};var q,r,t,w,x,y,z,A,B;function C(){google.xjsu=u;e._F_jsUrl=u;x=function(){l()};q=!1;r=(st===1||st===3)&&!!google.caft&&!p();t=f();w=(st===2||st===3)&&!!t&&!p();y=pop;z=povp;A=y&&document.prerendering||z&&document.hidden;B=z?\"visibilitychange\":\"prerenderingchange\"}function D(){q||r||w||A||(x(),q=!0)}\n",
      "setTimeout(function(){google.tick&&google.tick(\"load\",\"xjspls\");C();if(r||w||A){if(r){var a=function(){r=!1;D()};google.caft(a);setTimeout(a,amd)}w&&(a=function(){w=!1;D()},t.cbvi.push(a),setTimeout(a,mmd));if(A){var b=function(){(z?document.hidden:document.prerendering)||(A=!1,D(),document.removeEventListener(B,b))};document.addEventListener(B,b,{passive:!0})}q||k()}else x()},0);})();window._ = window._ || {};window._DumpException = _._DumpException = function(e){throw e;};window._s = window._s || {};_s._DumpException = _._DumpException;window._qs = window._qs || {};_qs._DumpException = _._DumpException;(function(){var t=[512,0,512,0,0,0,0,128,512,25364608,2,524288,0,8192,337119112,2977794,65544,1026,1052800,3072,301989888,1572864,33,585608,135266304,278,192512];window._F_toggles = window._xjs_toggles = t;})();window._F_installCss = window._F_installCss || function(css){};(function(){google.jl={bfl:0,dw:false,eli:false,ine:false,ubm:false,uwp:true,vs:false};})();(function(){var pmc='{\\x22d\\x22:{},\\x22sb_he\\x22:{\\x22client\\x22:\\x22heirloom-hp\\x22,\\x22dh\\x22:true,\\x22ds\\x22:\\x22\\x22,\\x22host\\x22:\\x22google.com\\x22,\\x22jsonp\\x22:true,\\x22msgs\\x22:{\\x22cibl\\x22:\\x22Clear Search\\x22,\\x22dym\\x22:\\x22Did you mean:\\x22,\\x22lcky\\x22:\\x22I\\\\u0026#39;m Feeling Lucky\\x22,\\x22lml\\x22:\\x22Learn more\\x22,\\x22psrc\\x22:\\x22This search was removed from your \\\\u003Ca href\\x3d\\\\\\x22/history\\\\\\x22\\\\u003EWeb History\\\\u003C/a\\\\u003E\\x22,\\x22psrl\\x22:\\x22Remove\\x22,\\x22sbit\\x22:\\x22Search by image\\x22,\\x22srch\\x22:\\x22Google Search\\x22},\\x22ovr\\x22:{},\\x22pq\\x22:\\x22\\x22,\\x22rfs\\x22:[],\\x22stok\\x22:\\x22nBU8H4S7Iibg0Q--eH9ed2ttW5g\\x22}}';google.pmc=JSON.parse(pmc);})();</script></body></html>\n"
     ]
    }
   ],
   "source": [
    "response = rs.get(\"https://www.google.com\")\n",
    "print(response.text)"
   ]
  },
  {
   "cell_type": "code",
   "execution_count": 27,
   "id": "61ad7529",
   "metadata": {},
   "outputs": [
    {
     "name": "stdout",
     "output_type": "stream",
     "text": [
      "Found 101 links:\n",
      "1. /blog/ - \n",
      "2. /blog/subscribe/ - Subscribe\n",
      "3. /blog/about/ - About\n",
      "4. /blog/archive/ - Archive\n",
      "5. http://bair.berkeley.edu - BAIR\n",
      "6. /blog/2025/04/11/prompt-injection-defense/ - Defending against Prompt Injection with Structured Queries (StruQ) and Preference Optimization (SecAlign)\n",
      "7. https://sizhe-chen.github.io - Sizhe Chen\n",
      "8. https://people.eecs.berkeley.edu/~julien.piet - Julien Piet\n",
      "9. https://chawins.github.io - Chawin Sitawarin\n",
      "10. https://people.eecs.berkeley.edu/~daw - David Wagner\n",
      "11. https://arman-z.github.io - Arman Zharmagambetov\n",
      "12. https://smahloujifar.github.io - Saeed Mahloujifar\n",
      "13. https://cseweb.ucsd.edu/~kamalika - Kamalika Chaudhuri\n",
      "14. https://sites.google.com/view/chuanguo - Chuan Guo\n",
      "15. https://www.ibm.com/topics/prompt-injection - Prompt injection attack\n",
      "16. https://owasp.org/www-project-top-10-for-large-language-model-applications - #1 threat by OWASP\n",
      "17. https://embracethered.com/blog/posts/2023/google-bard-data-exfiltration - Google Docs\n",
      "18. https://promptarmor.substack.com/p/data-exfiltration-from-slack-ai-via - Slack AI\n",
      "19. https://thehackernews.com/2024/09/chatgpt-macos-flaw-couldve-enabled-long.html - ChatGPT\n",
      "20. /blog/2025/04/11/prompt-injection-defense/ - Continue\n",
      "21. /blog/2025/04/08/plaid/ - Repurposing Protein Folding Models for Generation with Latent Diffusion\n",
      "22. https://amyxlu.github.io/ - Amy X. Lu\n",
      "23. https://www.biorxiv.org/content/10.1101/2024.12.02.626353v2 - PLAID\n",
      "24. https://www.nobelprize.org/prizes/chemistry/ - Nobel Prize\n",
      "25. https://www.biorxiv.org/content/10.1101/2024.12.02.626353v2 - PLAID\n",
      "26. /blog/2025/04/08/plaid/ - Continue\n",
      "27. /blog/2025/03/25/rl-av-smoothing/ - Scaling Up Reinforcement Learning for Traffic Smoothing: A 100-AV Highway Deployment\n",
      "28. https://nathanlichtle.com/ - Nathan Lichtlé\n",
      "29. https://kathyjang.com/ - Kathy Jang\n",
      "30. https://www.eugenevinitsky.com/ - Eugene Vinitsky\n",
      "31. https://www.linkedin.com/in/aditshah00/ - Adit Shah\n",
      "32. https://sites.google.com/site/jonathanwlee5/ - Jonathan W. Lee\n",
      "33. https://bayen.berkeley.edu/alex-bayen/ - Alexandre M. Bayen\n",
      "34. https://www.youtube.com/watch?v=TNokBgtSUvQ - \"stop-and-go\" waves\n",
      "35. https://ieeexplore.ieee.org/document/10858625 - latest paper\n",
      "36. /blog/2025/03/25/rl-av-smoothing/ - Continue\n",
      "37. /blog/2024/11/12/virutal-persona-llm/ - Virtual Personas for Language Models via an Anthology of Backstories\n",
      "38. https://scholar.google.com/citations?user=k4TJRc0AAAAJ&hl=en&oi=ao - Suhong Moon\n",
      "39. https://abdulhaim.github.io/ - Marwa Abdulhai\n",
      "40. https://joshuaminwookang.github.io/ - Minwoo Kang\n",
      "41. https://josephjeesungsuh.github.io/ - Joseph Suh\n",
      "42. https://openreview.net/profile?id=~Widyadewi_Soedarmadji1 - Widyadewi Soedarmadji\n",
      "43. https://www.linkedin.com/in/erankohenbehar/ - Eran Kohen Behar\n",
      "44. https://dchan.cc/ - David. M Chan\n",
      "45. https://people.eecs.berkeley.edu/~jfc/ - John Canny\n",
      "46. https://arxiv.org/abs/2212.01681 - “Language Models as Agent Models”\n",
      "47. /blog/2024/11/12/virutal-persona-llm/ - Continue\n",
      "48. /blog/2024/09/20/linguistic-bias/ - Linguistic Bias in ChatGPT: Language Models Reinforce Dialect Discrimination\n",
      "49. https://www.efleisig.com/ - Eve Fleisig\n",
      "50. https://haas.berkeley.edu/faculty/genevieve-smith/ - Genevieve Smith\n",
      "51. https://sites.google.com/view/madeline-bossi - Madeline Bossi\n",
      "52. https://www.linkedin.com/in/ishitar/ - Ishita Rustagi\n",
      "53. https://scholar.google.com/citations?user=WPCAOQQAAAAJ&hl=en - Xavier Yin\n",
      "54. https://people.eecs.berkeley.edu/~klein/ - Dan Klein\n",
      "55. https://www.similarweb.com/website/chat.openai.com/#geography - Only 15%\n",
      "56. https://doi.org/10.2307/3587696 - unprofessional\n",
      "57. https://doi.org/10.4324/9781410616180 - incorrect\n",
      "58. https://muse.jhu.edu/article/641206/summary - discredited as witnesses\n",
      "59. https://www.taylorfrancis.com/chapters/edit/10.4324/9780203986615-17/linguistic-profiling-john-baugh - denied housing\n",
      "60. https://www.routledge.com/Language-Society-and-Power-An-Introduction/Mooney-Evans/p/book/9780367638443 - extensive\n",
      "61. https://books.google.com/books?id=QRFIsGWZ5O4C - research\n",
      "62. https://arxiv.org/pdf/2406.08818 - our recent paper\n",
      "63. /blog/2024/09/20/linguistic-bias/ - Continue\n",
      "64. /blog/2024/08/28/strong-reject/ - How to Evaluate Jailbreak Methods: A Case Study with the StrongREJECT Benchmark\n",
      "65. www.linkedin.com/in/dillon-bowen-409791a1 - Dillon Bowen\n",
      "66. https://www.scottemmons.com/ - Scott Emmons\n",
      "67. /blog/2024/08/28/strong-reject/ - Continue\n",
      "68. /blog/2024/07/20/visual-haystacks/ - Are We Ready for Multi-Image Reasoning? Launching VHs: The Visual Haystacks Benchmark!\n",
      "69. https://tsunghan-wu.github.io - Tsung-Han (Patrick) Wu\n",
      "70. https://scholar.google.com/citations?user=s0Fof5IAAAAJ - Giscard Biamby\n",
      "71. https://people.eecs.berkeley.edu/~jquenum - Jerome Quenum\n",
      "72. https://ritwikgupta.me/ - Ritwik Gupta\n",
      "73. https://people.eecs.berkeley.edu/~jegonzal - Joseph E. Gonzalez\n",
      "74. https://people.eecs.berkeley.edu/~trevor - Trevor Darrell\n",
      "75. https://dchan.cc/ - David M. Chan\n",
      "76. /blog/2024/07/20/visual-haystacks/ - Continue\n",
      "77. /blog/2024/05/29/tiny-agent/ - TinyAgent: Function Calling at the Edge\n",
      "78. https://www.linkedin.com/in/lutfi-eren-erdogan-02900b189/ - Lutfi Eren Erdogan$^*$\n",
      "79. https://www.linkedin.com/in/nicholas-lee-74731916a/ - Nicholas Lee$^*$\n",
      "80. https://sidjha1.github.io - Siddharth Jha$^*$\n",
      "81. https://sehoonkim.org - Sehoon Kim\n",
      "82. https://ryantabrizi.com - Ryan Tabrizi\n",
      "83. https://www.linkedin.com/in/suhong-moon-5288ab150/ - Suhong Moon\n",
      "84. https://www.linkedin.com/in/coleman-hooper-165061193 - Coleman Hooper\n",
      "85. https://www2.eecs.berkeley.edu/Faculty/Homepages/gopala.html - Gopala Anumanchipalli\n",
      "86. https://people.eecs.berkeley.edu/~keutzer/ - Kurt Keutzer\n",
      "87. http://amirgholami.org/ - Amir Gholami\n",
      "88. https://arxiv.org/pdf/2302.04761 - ToolFormer\n",
      "89. https://arxiv.org/pdf/2305.15334 - Gorilla\n",
      "90. /blog/2024/05/29/tiny-agent/ - Continue\n",
      "91. /blog/2024/03/21/xt/ - Modeling Extremely Large Images with xT\n",
      "92. http://ritwikgupta.me - Ritwik Gupta\n",
      "93. https://homepage.jackli.org/ - Shufan Li\n",
      "94. https://tylerzhu.com/research/ - Tyler Zhu\n",
      "95. https://people.eecs.berkeley.edu/~malik/ - Jitendra Malik\n",
      "96. https://people.eecs.berkeley.edu/~trevor - Trevor Darrell\n",
      "97. https://karttikeya.github.io/ - Karttikeya Mangalam\n",
      "98. /blog/2024/03/21/xt/ - Continue\n",
      "99. /blog/2024/03/11/grads-2024/ - 2024 BAIR Graduate Directory\n",
      "100. /blog/2024/03/11/grads-2024/ - Continue\n",
      "101. /blog/page2/ - Older\n"
     ]
    }
   ],
   "source": [
    "from bs4 import BeautifulSoup\n",
    "scrape_url = \"https://bair.berkeley.edu/blog/\"\n",
    "scrape_response = rs.get(scrape_url)\n",
    "soup = BeautifulSoup(scrape_response.content, 'html.parser')\n",
    "# print(soup.prettify())\n",
    "# Extract all links from the website\n",
    "links = soup.find_all('a', href=True)\n",
    "\n",
    "# Print all the links\n",
    "print(f\"Found {len(links)} links:\")\n",
    "for i, link in enumerate(links, 1):\n",
    "    href = link['href']\n",
    "    text = link.get_text(strip=True)\n",
    "    print(f\"{i}. {href} - {text}\")"
   ]
  },
  {
   "cell_type": "code",
   "execution_count": null,
   "id": "70a91d57",
   "metadata": {},
   "outputs": [
    {
     "name": "stdout",
     "output_type": "stream",
     "text": [
      "0 - http://bair.berkeley.edu\n",
      "1 - https://sizhe-chen.github.io\n",
      "2 - https://people.eecs.berkeley.edu/~julien.piet\n",
      "3 - https://chawins.github.io\n",
      "4 - https://people.eecs.berkeley.edu/~daw\n",
      "5 - https://arman-z.github.io\n",
      "6 - https://smahloujifar.github.io\n",
      "7 - https://cseweb.ucsd.edu/~kamalika\n",
      "8 - https://sites.google.com/view/chuanguo\n",
      "9 - https://www.ibm.com/topics/prompt-injection\n",
      "10 - https://owasp.org/www-project-top-10-for-large-language-model-applications\n",
      "11 - https://embracethered.com/blog/posts/2023/google-bard-data-exfiltration\n",
      "12 - https://promptarmor.substack.com/p/data-exfiltration-from-slack-ai-via\n",
      "13 - https://thehackernews.com/2024/09/chatgpt-macos-flaw-couldve-enabled-long.html\n",
      "14 - https://amyxlu.github.io/\n",
      "15 - https://www.biorxiv.org/content/10.1101/2024.12.02.626353v2\n",
      "16 - https://www.nobelprize.org/prizes/chemistry/\n",
      "17 - https://www.biorxiv.org/content/10.1101/2024.12.02.626353v2\n",
      "18 - https://nathanlichtle.com/\n",
      "19 - https://kathyjang.com/\n",
      "20 - https://www.eugenevinitsky.com/\n",
      "21 - https://www.linkedin.com/in/aditshah00/\n",
      "22 - https://sites.google.com/site/jonathanwlee5/\n",
      "23 - https://bayen.berkeley.edu/alex-bayen/\n",
      "24 - https://www.youtube.com/watch?v=TNokBgtSUvQ\n",
      "25 - https://ieeexplore.ieee.org/document/10858625\n",
      "26 - https://scholar.google.com/citations?user=k4TJRc0AAAAJ&hl=en&oi=ao\n",
      "27 - https://abdulhaim.github.io/\n",
      "28 - https://joshuaminwookang.github.io/\n",
      "29 - https://josephjeesungsuh.github.io/\n",
      "30 - https://openreview.net/profile?id=~Widyadewi_Soedarmadji1\n",
      "31 - https://www.linkedin.com/in/erankohenbehar/\n",
      "32 - https://dchan.cc/\n",
      "33 - https://people.eecs.berkeley.edu/~jfc/\n",
      "34 - https://arxiv.org/abs/2212.01681\n",
      "35 - https://www.efleisig.com/\n",
      "36 - https://haas.berkeley.edu/faculty/genevieve-smith/\n",
      "37 - https://sites.google.com/view/madeline-bossi\n",
      "38 - https://www.linkedin.com/in/ishitar/\n",
      "39 - https://scholar.google.com/citations?user=WPCAOQQAAAAJ&hl=en\n",
      "40 - https://people.eecs.berkeley.edu/~klein/\n",
      "41 - https://www.similarweb.com/website/chat.openai.com/#geography\n",
      "42 - https://doi.org/10.2307/3587696\n",
      "43 - https://doi.org/10.4324/9781410616180\n",
      "44 - https://muse.jhu.edu/article/641206/summary\n",
      "45 - https://www.taylorfrancis.com/chapters/edit/10.4324/9780203986615-17/linguistic-profiling-john-baugh\n",
      "46 - https://www.routledge.com/Language-Society-and-Power-An-Introduction/Mooney-Evans/p/book/9780367638443\n",
      "47 - https://books.google.com/books?id=QRFIsGWZ5O4C\n",
      "48 - https://arxiv.org/pdf/2406.08818\n",
      "49 - https://www.scottemmons.com/\n",
      "50 - https://tsunghan-wu.github.io\n",
      "51 - https://scholar.google.com/citations?user=s0Fof5IAAAAJ\n",
      "52 - https://people.eecs.berkeley.edu/~jquenum\n",
      "53 - https://ritwikgupta.me/\n",
      "54 - https://people.eecs.berkeley.edu/~jegonzal\n",
      "55 - https://people.eecs.berkeley.edu/~trevor\n",
      "56 - https://dchan.cc/\n",
      "57 - https://www.linkedin.com/in/lutfi-eren-erdogan-02900b189/\n",
      "58 - https://www.linkedin.com/in/nicholas-lee-74731916a/\n",
      "59 - https://sidjha1.github.io\n",
      "60 - https://sehoonkim.org\n",
      "61 - https://ryantabrizi.com\n",
      "62 - https://www.linkedin.com/in/suhong-moon-5288ab150/\n",
      "63 - https://www.linkedin.com/in/coleman-hooper-165061193\n",
      "64 - https://www2.eecs.berkeley.edu/Faculty/Homepages/gopala.html\n",
      "65 - https://people.eecs.berkeley.edu/~keutzer/\n",
      "66 - http://amirgholami.org/\n",
      "67 - https://arxiv.org/pdf/2302.04761\n",
      "68 - https://arxiv.org/pdf/2305.15334\n",
      "69 - http://ritwikgupta.me\n",
      "70 - https://homepage.jackli.org/\n",
      "71 - https://tylerzhu.com/research/\n",
      "72 - https://people.eecs.berkeley.edu/~malik/\n",
      "73 - https://people.eecs.berkeley.edu/~trevor\n",
      "74 - https://karttikeya.github.io/\n"
     ]
    }
   ],
   "source": [
    "for i in links:\n",
    "    if \"http\" in i['href']:\n",
    "        print(f\"{c} - {i['href']}\")\n"
   ]
  },
  {
   "cell_type": "code",
   "execution_count": 36,
   "id": "0c91c2c5",
   "metadata": {},
   "outputs": [
    {
     "data": {
      "text/plain": [
       "[<a href=\"/blog/\"><img class=\"bair-logo\" src=\"/blog/assets/BAIR_Logo.png\"/></a>,\n",
       " <a href=\"/blog/subscribe/\">Subscribe</a>,\n",
       " <a href=\"/blog/about/\">About</a>,\n",
       " <a href=\"/blog/archive/\">Archive</a>,\n",
       " <a href=\"http://bair.berkeley.edu\">BAIR</a>,\n",
       " <a class=\"post-link\" href=\"/blog/2025/04/11/prompt-injection-defense/\">Defending against Prompt Injection with Structured Queries (StruQ) and Preference Optimization (SecAlign)</a>,\n",
       " <a href=\"https://sizhe-chen.github.io\">Sizhe Chen</a>,\n",
       " <a href=\"https://people.eecs.berkeley.edu/~julien.piet\">Julien Piet</a>,\n",
       " <a href=\"https://chawins.github.io\">Chawin Sitawarin</a>,\n",
       " <a href=\"https://people.eecs.berkeley.edu/~daw\">David Wagner</a>,\n",
       " <a href=\"https://arman-z.github.io\">Arman Zharmagambetov</a>,\n",
       " <a href=\"https://smahloujifar.github.io\">Saeed Mahloujifar</a>,\n",
       " <a href=\"https://cseweb.ucsd.edu/~kamalika\">Kamalika Chaudhuri</a>,\n",
       " <a href=\"https://sites.google.com/view/chuanguo\">Chuan Guo</a>,\n",
       " <a href=\"https://www.ibm.com/topics/prompt-injection\">Prompt injection attack</a>,\n",
       " <a href=\"https://owasp.org/www-project-top-10-for-large-language-model-applications\">#1 threat by OWASP</a>,\n",
       " <a href=\"https://embracethered.com/blog/posts/2023/google-bard-data-exfiltration\">Google Docs</a>,\n",
       " <a href=\"https://promptarmor.substack.com/p/data-exfiltration-from-slack-ai-via\">Slack AI</a>,\n",
       " <a href=\"https://thehackernews.com/2024/09/chatgpt-macos-flaw-couldve-enabled-long.html\">ChatGPT</a>,\n",
       " <a href=\"/blog/2025/04/11/prompt-injection-defense/\">Continue</a>,\n",
       " <a class=\"post-link\" href=\"/blog/2025/04/08/plaid/\">Repurposing Protein Folding Models for Generation with Latent Diffusion</a>,\n",
       " <a href=\"https://amyxlu.github.io/\">Amy X. Lu</a>,\n",
       " <a href=\"https://www.biorxiv.org/content/10.1101/2024.12.02.626353v2\" target=\"_blank\">PLAID</a>,\n",
       " <a href=\"https://www.nobelprize.org/prizes/chemistry/\">Nobel Prize</a>,\n",
       " <a href=\"https://www.biorxiv.org/content/10.1101/2024.12.02.626353v2\">PLAID</a>,\n",
       " <a href=\"/blog/2025/04/08/plaid/\">Continue</a>,\n",
       " <a class=\"post-link\" href=\"/blog/2025/03/25/rl-av-smoothing/\">Scaling Up Reinforcement Learning for Traffic Smoothing: A 100-AV Highway Deployment</a>,\n",
       " <a href=\"https://nathanlichtle.com/\">Nathan Lichtlé</a>,\n",
       " <a href=\"https://kathyjang.com/\">Kathy Jang</a>,\n",
       " <a href=\"https://www.eugenevinitsky.com/\">Eugene Vinitsky</a>,\n",
       " <a href=\"https://www.linkedin.com/in/aditshah00/\">Adit Shah</a>,\n",
       " <a href=\"https://sites.google.com/site/jonathanwlee5/\">Jonathan W. Lee</a>,\n",
       " <a href=\"https://bayen.berkeley.edu/alex-bayen/\">Alexandre M. Bayen</a>,\n",
       " <a href=\"https://www.youtube.com/watch?v=TNokBgtSUvQ\" target=\"_blank\">\"stop-and-go\" waves</a>,\n",
       " <a href=\"https://ieeexplore.ieee.org/document/10858625\" target=\"_blank\">latest paper</a>,\n",
       " <a href=\"/blog/2025/03/25/rl-av-smoothing/\">Continue</a>,\n",
       " <a class=\"post-link\" href=\"/blog/2024/11/12/virutal-persona-llm/\">Virtual Personas for Language Models via an Anthology of Backstories</a>,\n",
       " <a href=\"https://scholar.google.com/citations?user=k4TJRc0AAAAJ&amp;hl=en&amp;oi=ao\">Suhong Moon</a>,\n",
       " <a href=\"https://abdulhaim.github.io/\">Marwa Abdulhai</a>,\n",
       " <a href=\"https://joshuaminwookang.github.io/\">Minwoo Kang</a>,\n",
       " <a href=\"https://josephjeesungsuh.github.io/\">Joseph Suh</a>,\n",
       " <a href=\"https://openreview.net/profile?id=~Widyadewi_Soedarmadji1\">Widyadewi Soedarmadji</a>,\n",
       " <a href=\"https://www.linkedin.com/in/erankohenbehar/\">Eran Kohen Behar</a>,\n",
       " <a href=\"https://dchan.cc/\">David. M Chan</a>,\n",
       " <a href=\"https://people.eecs.berkeley.edu/~jfc/\">John Canny</a>,\n",
       " <a href=\"https://arxiv.org/abs/2212.01681\">“Language Models as Agent Models”</a>,\n",
       " <a href=\"/blog/2024/11/12/virutal-persona-llm/\">Continue</a>,\n",
       " <a class=\"post-link\" href=\"/blog/2024/09/20/linguistic-bias/\">Linguistic Bias in ChatGPT: Language Models Reinforce Dialect Discrimination</a>,\n",
       " <a href=\"https://www.efleisig.com/\">Eve Fleisig</a>,\n",
       " <a href=\"https://haas.berkeley.edu/faculty/genevieve-smith/\">Genevieve Smith</a>,\n",
       " <a href=\"https://sites.google.com/view/madeline-bossi\">Madeline Bossi</a>,\n",
       " <a href=\"https://www.linkedin.com/in/ishitar/\">Ishita Rustagi</a>,\n",
       " <a href=\"https://scholar.google.com/citations?user=WPCAOQQAAAAJ&amp;hl=en\">Xavier Yin</a>,\n",
       " <a href=\"https://people.eecs.berkeley.edu/~klein/\">Dan Klein</a>,\n",
       " <a href=\"https://www.similarweb.com/website/chat.openai.com/#geography\">Only 15%</a>,\n",
       " <a href=\"https://doi.org/10.2307/3587696\">unprofessional</a>,\n",
       " <a href=\"https://doi.org/10.4324/9781410616180\">incorrect</a>,\n",
       " <a href=\"https://muse.jhu.edu/article/641206/summary\">discredited as witnesses</a>,\n",
       " <a href=\"https://www.taylorfrancis.com/chapters/edit/10.4324/9780203986615-17/linguistic-profiling-john-baugh\">denied housing</a>,\n",
       " <a href=\"https://www.routledge.com/Language-Society-and-Power-An-Introduction/Mooney-Evans/p/book/9780367638443\">extensive</a>,\n",
       " <a href=\"https://books.google.com/books?id=QRFIsGWZ5O4C\">research</a>,\n",
       " <a href=\"https://arxiv.org/pdf/2406.08818\">our recent paper</a>,\n",
       " <a href=\"/blog/2024/09/20/linguistic-bias/\">Continue</a>,\n",
       " <a class=\"post-link\" href=\"/blog/2024/08/28/strong-reject/\">How to Evaluate Jailbreak Methods: A Case Study with the StrongREJECT Benchmark</a>,\n",
       " <a href=\"www.linkedin.com/in/dillon-bowen-409791a1\">Dillon Bowen</a>,\n",
       " <a href=\"https://www.scottemmons.com/\">Scott Emmons</a>,\n",
       " <a href=\"/blog/2024/08/28/strong-reject/\">Continue</a>,\n",
       " <a class=\"post-link\" href=\"/blog/2024/07/20/visual-haystacks/\">Are We Ready for Multi-Image Reasoning? Launching VHs: The Visual Haystacks Benchmark!</a>,\n",
       " <a href=\"https://tsunghan-wu.github.io\">Tsung-Han (Patrick) Wu</a>,\n",
       " <a href=\"https://scholar.google.com/citations?user=s0Fof5IAAAAJ\">Giscard Biamby</a>,\n",
       " <a href=\"https://people.eecs.berkeley.edu/~jquenum\">Jerome Quenum</a>,\n",
       " <a href=\"https://ritwikgupta.me/\">Ritwik Gupta</a>,\n",
       " <a href=\"https://people.eecs.berkeley.edu/~jegonzal\">Joseph E. Gonzalez</a>,\n",
       " <a href=\"https://people.eecs.berkeley.edu/~trevor\">Trevor Darrell</a>,\n",
       " <a href=\"https://dchan.cc/\">David M. Chan</a>,\n",
       " <a href=\"/blog/2024/07/20/visual-haystacks/\">Continue</a>,\n",
       " <a class=\"post-link\" href=\"/blog/2024/05/29/tiny-agent/\">TinyAgent: Function Calling at the Edge</a>,\n",
       " <a href=\"https://www.linkedin.com/in/lutfi-eren-erdogan-02900b189/\">Lutfi Eren Erdogan$^*$</a>,\n",
       " <a href=\"https://www.linkedin.com/in/nicholas-lee-74731916a/\">Nicholas Lee$^*$</a>,\n",
       " <a href=\"https://sidjha1.github.io\">Siddharth Jha$^*$</a>,\n",
       " <a href=\"https://sehoonkim.org\">Sehoon Kim</a>,\n",
       " <a href=\"https://ryantabrizi.com\">Ryan Tabrizi</a>,\n",
       " <a href=\"https://www.linkedin.com/in/suhong-moon-5288ab150/\">Suhong Moon</a>,\n",
       " <a href=\"https://www.linkedin.com/in/coleman-hooper-165061193\">Coleman Hooper</a>,\n",
       " <a href=\"https://www2.eecs.berkeley.edu/Faculty/Homepages/gopala.html\">Gopala Anumanchipalli</a>,\n",
       " <a href=\"https://people.eecs.berkeley.edu/~keutzer/\">Kurt Keutzer</a>,\n",
       " <a href=\"http://amirgholami.org/\">Amir Gholami</a>,\n",
       " <a href=\"https://arxiv.org/pdf/2302.04761\">ToolFormer</a>,\n",
       " <a href=\"https://arxiv.org/pdf/2305.15334\">Gorilla</a>,\n",
       " <a href=\"/blog/2024/05/29/tiny-agent/\">Continue</a>,\n",
       " <a class=\"post-link\" href=\"/blog/2024/03/21/xt/\">Modeling Extremely Large Images with xT</a>,\n",
       " <a href=\"http://ritwikgupta.me\">Ritwik Gupta</a>,\n",
       " <a href=\"https://homepage.jackli.org/\">Shufan Li</a>,\n",
       " <a href=\"https://tylerzhu.com/research/\">Tyler Zhu</a>,\n",
       " <a href=\"https://people.eecs.berkeley.edu/~malik/\">Jitendra Malik</a>,\n",
       " <a href=\"https://people.eecs.berkeley.edu/~trevor\">Trevor Darrell</a>,\n",
       " <a href=\"https://karttikeya.github.io/\">Karttikeya Mangalam</a>,\n",
       " <a href=\"/blog/2024/03/21/xt/\">Continue</a>,\n",
       " <a class=\"post-link\" href=\"/blog/2024/03/11/grads-2024/\">2024 BAIR Graduate Directory</a>,\n",
       " <a href=\"/blog/2024/03/11/grads-2024/\">Continue</a>,\n",
       " <a class=\"pagination-item\" href=\"/blog/page2/\">Older</a>]"
      ]
     },
     "execution_count": 36,
     "metadata": {},
     "output_type": "execute_result"
    }
   ],
   "source": [
    "links"
   ]
  },
  {
   "cell_type": "code",
   "execution_count": 3,
   "id": "ffb813aa",
   "metadata": {},
   "outputs": [],
   "source": [
    "from bs4 import BeautifulSoup\n",
    "import requests as rs\n",
    "def scrapper_link(link):\n",
    "    global link_storage\n",
    "    response=rs.get(link)\n",
    "    soup=BeautifulSoup(response.content,'html.parser')\n",
    "    links=soup.find_all('a',href=True)\n",
    "    link_storage=links\n",
    "    return {\"count\":len(links)}"
   ]
  },
  {
   "cell_type": "code",
   "execution_count": 4,
   "id": "69c375f6",
   "metadata": {},
   "outputs": [
    {
     "data": {
      "text/plain": [
       "{'count': 101}"
      ]
     },
     "execution_count": 4,
     "metadata": {},
     "output_type": "execute_result"
    }
   ],
   "source": [
    "scrapper_link(\"https://bair.berkeley.edu/blog/\")"
   ]
  },
  {
   "cell_type": "code",
   "execution_count": null,
   "id": "b7a7fed5",
   "metadata": {},
   "outputs": [],
   "source": []
  }
 ],
 "metadata": {
  "kernelspec": {
   "display_name": "base",
   "language": "python",
   "name": "python3"
  },
  "language_info": {
   "codemirror_mode": {
    "name": "ipython",
    "version": 3
   },
   "file_extension": ".py",
   "mimetype": "text/x-python",
   "name": "python",
   "nbconvert_exporter": "python",
   "pygments_lexer": "ipython3",
   "version": "3.11.5"
  }
 },
 "nbformat": 4,
 "nbformat_minor": 5
}
