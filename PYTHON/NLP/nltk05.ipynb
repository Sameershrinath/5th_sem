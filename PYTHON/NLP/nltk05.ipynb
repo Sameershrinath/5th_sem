{
 "cells": [
  {
   "cell_type": "code",
   "execution_count": 5,
   "id": "4183d63e",
   "metadata": {},
   "outputs": [
    {
     "name": "stdout",
     "output_type": "stream",
     "text": [
      "Corporate Office : Life Insurance Corporation of India 'Yogakshema' , Jeevan Bima Marg, P.O. Box No19953, Mumbai – 400 021. IRDAI Reg No- 512\n",
      "\n",
      "For any query regarding this website, co_complaints@licindia.com please contact the Web Information Manager\n",
      "Smt. Himali Ashish Manjrekar, Administrative Officer, co_cc@licindia.com\n",
      "\n",
      "Content on this website is published and managed by Life Insurance Corporation of India.\n"
     ]
    }
   ],
   "source": [
    "import re\n",
    "text = '''Corporate Office : Life Insurance Corporation of India 'Yogakshema' , Jeevan Bima Marg, P.O. Box No19953, Mumbai – 400 021. IRDAI Reg No- 512\n",
    "\n",
    "For any query regarding this website, co_complaints[at]licindia[dot]com please contact the Web Information Manager\n",
    "Smt. Himali Ashish Manjrekar, Administrative Officer, co_cc[at]licindia[dot]com\n",
    "\n",
    "Content on this website is published and managed by Life Insurance Corporation of India.'''\n",
    "\n",
    "cleaned = re.sub(r'\\s*\\[at\\]\\s*', '@', text, flags=re.IGNORECASE)\n",
    "cleaned = re.sub(r'\\s*\\[dot\\]\\s*', '.', cleaned, flags=re.IGNORECASE)\n",
    "\n",
    "print(cleaned)"
   ]
  },
  {
   "cell_type": "code",
   "execution_count": null,
   "id": "26f3bc6b",
   "metadata": {},
   "outputs": [],
   "source": []
  }
 ],
 "metadata": {
  "kernelspec": {
   "display_name": "base",
   "language": "python",
   "name": "python3"
  },
  "language_info": {
   "codemirror_mode": {
    "name": "ipython",
    "version": 3
   },
   "file_extension": ".py",
   "mimetype": "text/x-python",
   "name": "python",
   "nbconvert_exporter": "python",
   "pygments_lexer": "ipython3",
   "version": "3.11.5"
  }
 },
 "nbformat": 4,
 "nbformat_minor": 5
}
