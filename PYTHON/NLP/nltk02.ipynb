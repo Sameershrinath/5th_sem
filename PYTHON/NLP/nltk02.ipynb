{
 "cells": [
  {
   "cell_type": "markdown",
   "id": "2485392a",
   "metadata": {},
   "source": [
    "## Ascii code"
   ]
  },
  {
   "cell_type": "code",
   "execution_count": 1,
   "id": "a93c8a84",
   "metadata": {},
   "outputs": [
    {
     "data": {
      "text/plain": [
       "65"
      ]
     },
     "execution_count": 1,
     "metadata": {},
     "output_type": "execute_result"
    }
   ],
   "source": [
    "ord(\"A\")"
   ]
  },
  {
   "cell_type": "code",
   "execution_count": 4,
   "id": "9a424479",
   "metadata": {},
   "outputs": [
    {
     "data": {
      "text/plain": [
       "'a'"
      ]
     },
     "execution_count": 4,
     "metadata": {},
     "output_type": "execute_result"
    }
   ],
   "source": [
    "chr(65+32)"
   ]
  },
  {
   "cell_type": "code",
   "execution_count": 7,
   "id": "4e8322e8",
   "metadata": {},
   "outputs": [
    {
     "data": {
      "text/plain": [
       "49"
      ]
     },
     "execution_count": 7,
     "metadata": {},
     "output_type": "execute_result"
    }
   ],
   "source": [
    "ord(\"1\")"
   ]
  },
  {
   "cell_type": "code",
   "execution_count": 6,
   "id": "bb7390b6",
   "metadata": {},
   "outputs": [
    {
     "data": {
      "text/plain": [
       "'A'"
      ]
     },
     "execution_count": 6,
     "metadata": {},
     "output_type": "execute_result"
    }
   ],
   "source": [
    "chr(33+32)"
   ]
  },
  {
   "cell_type": "code",
   "execution_count": 8,
   "id": "3f98b23e",
   "metadata": {},
   "outputs": [
    {
     "data": {
      "text/plain": [
       "-16"
      ]
     },
     "execution_count": 8,
     "metadata": {},
     "output_type": "execute_result"
    }
   ],
   "source": [
    "33-49\n"
   ]
  },
  {
   "cell_type": "code",
   "execution_count": 10,
   "id": "0c75e44a",
   "metadata": {},
   "outputs": [
    {
     "data": {
      "text/plain": [
       "50"
      ]
     },
     "execution_count": 10,
     "metadata": {},
     "output_type": "execute_result"
    }
   ],
   "source": [
    "ord(\"2\")"
   ]
  },
  {
   "cell_type": "code",
   "execution_count": 11,
   "id": "d5fab1ba",
   "metadata": {},
   "outputs": [
    {
     "data": {
      "text/plain": [
       "14"
      ]
     },
     "execution_count": 11,
     "metadata": {},
     "output_type": "execute_result"
    }
   ],
   "source": [
    "64-50"
   ]
  },
  {
   "cell_type": "markdown",
   "id": "9caee4d2",
   "metadata": {},
   "source": [
    "Regex Expression"
   ]
  },
  {
   "cell_type": "code",
   "execution_count": 1,
   "id": "9b48486b",
   "metadata": {},
   "outputs": [],
   "source": [
    "import re \n",
    "text=\"Hello how are you ?\""
   ]
  },
  {
   "cell_type": "code",
   "execution_count": 7,
   "id": "b35598a0",
   "metadata": {},
   "outputs": [
    {
     "data": {
      "text/plain": [
       "(14, 17)"
      ]
     },
     "execution_count": 7,
     "metadata": {},
     "output_type": "execute_result"
    }
   ],
   "source": [
    "srch=re.search(\"you\",text)\n",
    "srch.span() # this will show that this word is from where to where"
   ]
  },
  {
   "cell_type": "code",
   "execution_count": 8,
   "id": "ee00e569",
   "metadata": {},
   "outputs": [
    {
     "name": "stdout",
     "output_type": "stream",
     "text": [
      "14\n",
      "17\n"
     ]
    }
   ],
   "source": [
    "print(srch.start())\n",
    "print(srch.end())\n"
   ]
  },
  {
   "cell_type": "markdown",
   "id": "3a6957e0",
   "metadata": {},
   "source": [
    "Findall"
   ]
  },
  {
   "cell_type": "code",
   "execution_count": 9,
   "id": "4eecc4b1",
   "metadata": {},
   "outputs": [
    {
     "data": {
      "text/plain": [
       "['are', 'are']"
      ]
     },
     "execution_count": 9,
     "metadata": {},
     "output_type": "execute_result"
    }
   ],
   "source": [
    "a=\"Hello you are looking good in your area\"\n",
    "re.findall(\"are\",a)"
   ]
  },
  {
   "cell_type": "code",
   "execution_count": null,
   "id": "76bdb02d",
   "metadata": {},
   "outputs": [],
   "source": []
  }
 ],
 "metadata": {
  "kernelspec": {
   "display_name": "base",
   "language": "python",
   "name": "python3"
  },
  "language_info": {
   "codemirror_mode": {
    "name": "ipython",
    "version": 3
   },
   "file_extension": ".py",
   "mimetype": "text/x-python",
   "name": "python",
   "nbconvert_exporter": "python",
   "pygments_lexer": "ipython3",
   "version": "3.11.5"
  }
 },
 "nbformat": 4,
 "nbformat_minor": 5
}
