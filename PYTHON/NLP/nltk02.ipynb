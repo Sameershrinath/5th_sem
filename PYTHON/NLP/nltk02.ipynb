{
 "cells": [
  {
   "cell_type": "markdown",
   "id": "2485392a",
   "metadata": {},
   "source": [
    "## Ascii code"
   ]
  },
  {
   "cell_type": "markdown",
   "id": "f422db51",
   "metadata": {},
   "source": []
  }
 ],
 "metadata": {
  "language_info": {
   "name": "python"
  }
 },
 "nbformat": 4,
 "nbformat_minor": 5
}
