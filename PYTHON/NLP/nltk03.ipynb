{
 "cells": [
  {
   "cell_type": "markdown",
   "id": "83d5d6fe",
   "metadata": {},
   "source": [
    "**Word cloud**"
   ]
  },
  {
   "cell_type": "code",
   "execution_count": 2,
   "id": "6305bcb7",
   "metadata": {},
   "outputs": [],
   "source": [
    "from nltk.tokenize import word_tokenize,sent_tokenize\n",
    "from nltk.corpus import stopwords\n",
    "\n",
    "corpus= \"India, officially the Republic of India,[j][20] is a country in South Asia. It is the seventh-largest country by area; the most populous country since 2023;[21] and, since its independence in 1947, the world's most populous democracy.[22][23][24] Bounded by the Indian Ocean on the south, the Arabian Sea on the southwest, and the Bay of Bengal on the southeast, it shares land borders with Pakistan to the west;[k] China, Nepal, and Bhutan to the north; and Bangladesh and Myanmar to the east. In the Indian Ocean, India is near Sri Lanka and the Maldives; its Andaman and Nicobar Islands share a maritime border with Myanmar, Thailand, and Indonesia.\""
   ]
  },
  {
   "cell_type": "code",
   "execution_count": 18,
   "id": "c1d4f6fc",
   "metadata": {},
   "outputs": [
    {
     "name": "stderr",
     "output_type": "stream",
     "text": [
      "[nltk_data] Downloading package punkt to\n",
      "[nltk_data]     C:\\Users\\Samee\\AppData\\Roaming\\nltk_data...\n",
      "[nltk_data]   Package punkt is already up-to-date!\n",
      "[nltk_data] Downloading package punkt_tab to\n",
      "[nltk_data]     C:\\Users\\Samee\\AppData\\Roaming\\nltk_data...\n",
      "[nltk_data]   Unzipping tokenizers\\punkt_tab.zip.\n",
      "[nltk_data] Downloading package stopwords to\n",
      "[nltk_data]     C:\\Users\\Samee\\AppData\\Roaming\\nltk_data...\n",
      "[nltk_data]   Package stopwords is already up-to-date!\n"
     ]
    },
    {
     "data": {
      "text/plain": [
       "True"
      ]
     },
     "execution_count": 18,
     "metadata": {},
     "output_type": "execute_result"
    }
   ],
   "source": [
    "\n",
    "import nltk\n",
    "nltk.download('punkt')\n",
    "nltk.download('punkt_tab')  # new in recent versions of NLTK\n",
    "nltk.download('stopwords')\n"
   ]
  },
  {
   "cell_type": "markdown",
   "id": "c8175407",
   "metadata": {},
   "source": [
    "stop word removal"
   ]
  },
  {
   "cell_type": "code",
   "execution_count": 20,
   "id": "5d196d0e",
   "metadata": {},
   "outputs": [],
   "source": [
    "words=[]\n",
    "for word in word_tokenize(corpus):\n",
    "    if (word.lower() not in stopwords.words(\"english\")) and (len(word)>=2):\n",
    "        words.append(word.lower())"
   ]
  },
  {
   "cell_type": "markdown",
   "id": "df259fa1",
   "metadata": {},
   "source": [
    "Creating Vocab"
   ]
  },
  {
   "cell_type": "code",
   "execution_count": 21,
   "id": "434a6bd4",
   "metadata": {},
   "outputs": [
    {
     "data": {
      "text/plain": [
       "54"
      ]
     },
     "execution_count": 21,
     "metadata": {},
     "output_type": "execute_result"
    }
   ],
   "source": [
    "vocab=list(set(words))\n",
    "len(vocab)"
   ]
  },
  {
   "cell_type": "markdown",
   "id": "8bc2c163",
   "metadata": {},
   "source": [
    "Creating the encoders and decoders"
   ]
  },
  {
   "cell_type": "code",
   "execution_count": 27,
   "id": "dd96d32b",
   "metadata": {},
   "outputs": [],
   "source": [
    "num=1\n",
    "word_to_num={}\n",
    "num_to_word={}\n",
    "for word in vocab:\n",
    "    word_to_num[word]=num\n",
    "    num_to_word[num]=word\n",
    "    num+=1"
   ]
  },
  {
   "cell_type": "code",
   "execution_count": 34,
   "id": "a260fe15",
   "metadata": {},
   "outputs": [
    {
     "data": {
      "text/plain": [
       "['India',\n",
       " ',',\n",
       " 'officially',\n",
       " 'the',\n",
       " 'Republic',\n",
       " 'of',\n",
       " 'India',\n",
       " ',',\n",
       " '[',\n",
       " 'j',\n",
       " ']',\n",
       " '[',\n",
       " '20',\n",
       " ']',\n",
       " 'is',\n",
       " 'a',\n",
       " 'country',\n",
       " 'in',\n",
       " 'South',\n",
       " 'Asia',\n",
       " '.']"
      ]
     },
     "execution_count": 34,
     "metadata": {},
     "output_type": "execute_result"
    }
   ],
   "source": []
  },
  {
   "cell_type": "markdown",
   "id": "de2512c5",
   "metadata": {},
   "source": [
    "Encoding the sentences"
   ]
  },
  {
   "cell_type": "code",
   "execution_count": 41,
   "id": "370d01ef",
   "metadata": {},
   "outputs": [
    {
     "name": "stdout",
     "output_type": "stream",
     "text": [
      "[46, 8, 43, 46, 38, 14, 42, 41]\n",
      "[21, 14, 20, 12, 14, 44, 6, 26, 44, 13, 1, 33, 18, 12, 2]\n",
      "[7, 31, 50, 27, 34, 22, 42, 35, 9, 23, 24, 40, 36, 19, 49, 53, 3, 10, 16, 32, 39, 37, 51, 25, 15]\n",
      "[34, 22, 46, 52, 30, 5, 54, 45, 29, 17, 48, 4, 28, 25, 47, 11]\n"
     ]
    }
   ],
   "source": [
    "data=[]\n",
    "for sent in sent_tokenize(corpus):\n",
    "    temp=[]\n",
    "    for word in (word_tokenize(sent)):\n",
    "        if (word.lower() not in stopwords.words(\"english\")) and (len(word)>=2):\n",
    "            temp.append(word_to_num[word.lower()])\n",
    "    print(temp)\n",
    "    data.append(temp)"
   ]
  },
  {
   "cell_type": "code",
   "execution_count": 43,
   "id": "a1b0270d",
   "metadata": {},
   "outputs": [
    {
     "name": "stdout",
     "output_type": "stream",
     "text": [
      "[[46, 8, 43, 46, 38, 14, 42, 41], [21, 14, 20, 12, 14, 44, 6, 26, 44, 13, 1, 33, 18, 12, 2], [7, 31, 50, 27, 34, 22, 42, 35, 9, 23, 24, 40, 36, 19, 49, 53, 3, 10, 16, 32, 39, 37, 51, 25, 15], [34, 22, 46, 52, 30, 5, 54, 45, 29, 17, 48, 4, 28, 25, 47, 11]]\n"
     ]
    }
   ],
   "source": [
    "print(data)"
   ]
  },
  {
   "cell_type": "markdown",
   "id": "e17159ec",
   "metadata": {},
   "source": [
    "Decoding"
   ]
  },
  {
   "cell_type": "code",
   "execution_count": 45,
   "id": "bb1fd884",
   "metadata": {},
   "outputs": [
    {
     "name": "stdout",
     "output_type": "stream",
     "text": [
      "india officially republic india 20 country south asia seventh-largest country area populous country since 2023 21 since independence 1947 world 's populous democracy 22 23 24 bounded indian ocean south arabian sea southwest bay bengal southeast shares land borders pakistan west china nepal bhutan north bangladesh myanmar east indian ocean india near sri lanka maldives andaman nicobar islands share maritime border myanmar thailand indonesia "
     ]
    }
   ],
   "source": [
    "for sent in data:\n",
    "    for word in sent:\n",
    "        print(num_to_word[word],end=\" \")"
   ]
  }
 ],
 "metadata": {
  "kernelspec": {
   "display_name": "base",
   "language": "python",
   "name": "python3"
  },
  "language_info": {
   "codemirror_mode": {
    "name": "ipython",
    "version": 3
   },
   "file_extension": ".py",
   "mimetype": "text/x-python",
   "name": "python",
   "nbconvert_exporter": "python",
   "pygments_lexer": "ipython3",
   "version": "3.11.5"
  }
 },
 "nbformat": 4,
 "nbformat_minor": 5
}
