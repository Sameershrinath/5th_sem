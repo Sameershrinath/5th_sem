{
 "cells": [
  {
   "cell_type": "markdown",
   "id": "748baca3",
   "metadata": {},
   "source": [
    "## Introduction to tensorflow"
   ]
  },
  {
   "cell_type": "markdown",
   "id": "20fbd8a3",
   "metadata": {},
   "source": [
    "- Tensor flow is the open source machine learning library designed by the Google brain team. It is designed to build the machine learning model."
   ]
  },
  {
   "cell_type": "code",
   "execution_count": 2,
   "id": "9acee5e4",
   "metadata": {},
   "outputs": [
    {
     "name": "stdout",
     "output_type": "stream",
     "text": [
      "2.16.2\n"
     ]
    }
   ],
   "source": [
    "import tensorflow as tf\n",
    "print(tf.__version__)"
   ]
  },
  {
   "cell_type": "markdown",
   "id": "e62f959b",
   "metadata": {},
   "source": [
    "creation of a tensor"
   ]
  },
  {
   "cell_type": "code",
   "execution_count": 4,
   "id": "7c7c331a",
   "metadata": {},
   "outputs": [
    {
     "name": "stdout",
     "output_type": "stream",
     "text": [
      "tf.Tensor([1 2 3], shape=(3,), dtype=int32)\n",
      "tf.Tensor([4 5 6], shape=(3,), dtype=int32)\n"
     ]
    }
   ],
   "source": [
    "a=tf.constant([1,2,3])\n",
    "b=tf.constant([4,5,6])\n",
    "\n",
    "print(a)\n",
    "print(b)"
   ]
  },
  {
   "cell_type": "code",
   "execution_count": 7,
   "id": "2111bb83",
   "metadata": {},
   "outputs": [
    {
     "name": "stdout",
     "output_type": "stream",
     "text": [
      "tf.Tensor([5 7 9], shape=(3,), dtype=int32)\n",
      "tf.Tensor([ 4 10 18], shape=(3,), dtype=int32)\n"
     ]
    }
   ],
   "source": [
    "print(tf.add(a,b)) \n",
    "print(tf.multiply(a,b) )"
   ]
  },
  {
   "cell_type": "markdown",
   "id": "9e25072f",
   "metadata": {},
   "source": [
    "Random tensor"
   ]
  },
  {
   "cell_type": "code",
   "execution_count": 22,
   "id": "faf2ec19",
   "metadata": {},
   "outputs": [],
   "source": [
    "random_tensor=tf.random.normal((3,4),mean=10.0)"
   ]
  },
  {
   "cell_type": "code",
   "execution_count": 23,
   "id": "5171d736",
   "metadata": {},
   "outputs": [
    {
     "data": {
      "text/plain": [
       "<tf.Tensor: shape=(3, 4), dtype=float32, numpy=\n",
       "array([[11.306964 ,  9.747722 ,  6.4928207,  8.465839 ],\n",
       "       [ 8.44576  ,  8.239226 ,  8.314192 ,  8.7464485],\n",
       "       [ 9.498787 ,  8.838983 ,  9.829343 ,  9.090591 ]], dtype=float32)>"
      ]
     },
     "execution_count": 23,
     "metadata": {},
     "output_type": "execute_result"
    }
   ],
   "source": [
    "random_tensor"
   ]
  },
  {
   "cell_type": "code",
   "execution_count": null,
   "id": "d5e2a2f2",
   "metadata": {},
   "outputs": [],
   "source": []
  }
 ],
 "metadata": {
  "kernelspec": {
   "display_name": "base",
   "language": "python",
   "name": "python3"
  },
  "language_info": {
   "codemirror_mode": {
    "name": "ipython",
    "version": 3
   },
   "file_extension": ".py",
   "mimetype": "text/x-python",
   "name": "python",
   "nbconvert_exporter": "python",
   "pygments_lexer": "ipython3",
   "version": "3.11.5"
  }
 },
 "nbformat": 4,
 "nbformat_minor": 5
}
