{
 "cells": [
  {
   "cell_type": "code",
   "execution_count": 1,
   "id": "6fa6686d",
   "metadata": {},
   "outputs": [
    {
     "name": "stdout",
     "output_type": "stream",
     "text": [
      "hello ! welcome to the live!!!\n"
     ]
    }
   ],
   "source": [
    "print(\"hello ! welcome to the live!!!\")"
   ]
  },
  {
   "cell_type": "code",
   "execution_count": 7,
   "id": "8738c215",
   "metadata": {},
   "outputs": [
    {
     "name": "stdout",
     "output_type": "stream",
     "text": [
      "False\n"
     ]
    }
   ],
   "source": [
    "print(bool(0) == False is True)"
   ]
  },
  {
   "cell_type": "code",
   "execution_count": 8,
   "id": "d960b982",
   "metadata": {},
   "outputs": [
    {
     "data": {
      "text/plain": [
       "True"
      ]
     },
     "execution_count": 8,
     "metadata": {},
     "output_type": "execute_result"
    }
   ],
   "source": [
    "bool(0)==False # -->  True"
   ]
  },
  {
   "cell_type": "code",
   "execution_count": 9,
   "id": "ad35527c",
   "metadata": {},
   "outputs": [
    {
     "data": {
      "text/plain": [
       "False"
      ]
     },
     "execution_count": 9,
     "metadata": {},
     "output_type": "execute_result"
    }
   ],
   "source": [
    "False is True # -> False"
   ]
  },
  {
   "cell_type": "code",
   "execution_count": 10,
   "id": "4fcbc641",
   "metadata": {},
   "outputs": [
    {
     "data": {
      "text/plain": [
       "False"
      ]
     },
     "execution_count": 10,
     "metadata": {},
     "output_type": "execute_result"
    }
   ],
   "source": [
    "(bool(0)==False) and (False is True)"
   ]
  },
  {
   "cell_type": "code",
   "execution_count": 14,
   "id": "bf310f4b",
   "metadata": {},
   "outputs": [
    {
     "name": "stdout",
     "output_type": "stream",
     "text": [
      "500\n"
     ]
    }
   ],
   "source": [
    "a=\"500\"\n",
    "print(a)"
   ]
  },
  {
   "cell_type": "code",
   "execution_count": 15,
   "id": "e74120e7",
   "metadata": {},
   "outputs": [
    {
     "name": "stdout",
     "output_type": "stream",
     "text": [
      "10\n"
     ]
    }
   ],
   "source": [
    "b=\"10\"\n",
    "print(b)"
   ]
  },
  {
   "cell_type": "code",
   "execution_count": 17,
   "id": "90ef463c",
   "metadata": {},
   "outputs": [],
   "source": [
    "a=int(a)\n",
    "b=int(b)"
   ]
  },
  {
   "cell_type": "code",
   "execution_count": 25,
   "id": "9089dfa2",
   "metadata": {},
   "outputs": [
    {
     "data": {
      "text/plain": [
       "500"
      ]
     },
     "execution_count": 25,
     "metadata": {},
     "output_type": "execute_result"
    }
   ],
   "source": [
    "a=\"50_0\"\n",
    "int(a)"
   ]
  },
  {
   "cell_type": "code",
   "execution_count": 37,
   "id": "a00cb50d",
   "metadata": {},
   "outputs": [],
   "source": [
    "a={}\n",
    "b={}"
   ]
  },
  {
   "cell_type": "code",
   "execution_count": 41,
   "id": "ab824475",
   "metadata": {},
   "outputs": [
    {
     "data": {
      "text/plain": [
       "dict"
      ]
     },
     "execution_count": 41,
     "metadata": {},
     "output_type": "execute_result"
    }
   ],
   "source": [
    "variable1={2:\"same\"}\n",
    "type(variable1)"
   ]
  },
  {
   "cell_type": "code",
   "execution_count": 57,
   "id": "feb50149",
   "metadata": {},
   "outputs": [],
   "source": [
    "a=(1,2,3)\n"
   ]
  },
  {
   "cell_type": "code",
   "execution_count": 58,
   "id": "5e1db0e1",
   "metadata": {},
   "outputs": [
    {
     "data": {
      "text/plain": [
       "(1, 2, 3)"
      ]
     },
     "execution_count": 58,
     "metadata": {},
     "output_type": "execute_result"
    }
   ],
   "source": [
    "a"
   ]
  },
  {
   "cell_type": "code",
   "execution_count": 62,
   "id": "fd2c8df2",
   "metadata": {},
   "outputs": [],
   "source": [
    "li=list(list(a))"
   ]
  },
  {
   "cell_type": "code",
   "execution_count": 64,
   "id": "2ad3e07c",
   "metadata": {},
   "outputs": [],
   "source": [
    "li[2]=100"
   ]
  },
  {
   "cell_type": "code",
   "execution_count": 65,
   "id": "b3d076e9",
   "metadata": {},
   "outputs": [
    {
     "data": {
      "text/plain": [
       "[1, 2, 100]"
      ]
     },
     "execution_count": 65,
     "metadata": {},
     "output_type": "execute_result"
    }
   ],
   "source": [
    "li"
   ]
  },
  {
   "cell_type": "code",
   "execution_count": 66,
   "id": "28dc4dad",
   "metadata": {},
   "outputs": [],
   "source": [
    "tuple2=tuple(li)"
   ]
  },
  {
   "cell_type": "code",
   "execution_count": 67,
   "id": "df51a0ab",
   "metadata": {},
   "outputs": [
    {
     "data": {
      "text/plain": [
       "(1, 2, 100)"
      ]
     },
     "execution_count": 67,
     "metadata": {},
     "output_type": "execute_result"
    }
   ],
   "source": [
    "tuple2"
   ]
  },
  {
   "cell_type": "code",
   "execution_count": 70,
   "id": "36447a19",
   "metadata": {},
   "outputs": [],
   "source": [
    "def f():pass\n"
   ]
  },
  {
   "cell_type": "code",
   "execution_count": 77,
   "id": "7415d599",
   "metadata": {},
   "outputs": [
    {
     "name": "stdout",
     "output_type": "stream",
     "text": [
      "sameeer\n"
     ]
    }
   ],
   "source": [
    "a=print(\"sameeer\")"
   ]
  },
  {
   "cell_type": "code",
   "execution_count": 79,
   "id": "5ae564cc",
   "metadata": {},
   "outputs": [
    {
     "name": "stdout",
     "output_type": "stream",
     "text": [
      "None\n"
     ]
    }
   ],
   "source": [
    "print(a)"
   ]
  },
  {
   "cell_type": "code",
   "execution_count": 80,
   "id": "d1c70f0a",
   "metadata": {},
   "outputs": [],
   "source": [
    "li=[]"
   ]
  },
  {
   "cell_type": "code",
   "execution_count": 95,
   "id": "fb0d9ba9",
   "metadata": {},
   "outputs": [
    {
     "data": {
      "text/plain": [
       "[]"
      ]
     },
     "execution_count": 95,
     "metadata": {},
     "output_type": "execute_result"
    }
   ],
   "source": [
    "None or li"
   ]
  },
  {
   "cell_type": "code",
   "execution_count": 96,
   "id": "7132363d",
   "metadata": {},
   "outputs": [],
   "source": [
    "tuple1=(1,2,3,4)"
   ]
  },
  {
   "cell_type": "code",
   "execution_count": 97,
   "id": "3f5ffb3c",
   "metadata": {},
   "outputs": [
    {
     "data": {
      "text/plain": [
       "(1, 2, 3, 4)"
      ]
     },
     "execution_count": 97,
     "metadata": {},
     "output_type": "execute_result"
    }
   ],
   "source": [
    "tuple1 or li"
   ]
  },
  {
   "cell_type": "code",
   "execution_count": 98,
   "id": "ac45059b",
   "metadata": {},
   "outputs": [],
   "source": [
    "dicti1={\"Name\":\"same\"}"
   ]
  },
  {
   "cell_type": "code",
   "execution_count": 99,
   "id": "37b04123",
   "metadata": {},
   "outputs": [
    {
     "data": {
      "text/plain": [
       "{'Name': 'same'}"
      ]
     },
     "execution_count": 99,
     "metadata": {},
     "output_type": "execute_result"
    }
   ],
   "source": [
    "dicti1 or li"
   ]
  },
  {
   "cell_type": "code",
   "execution_count": 108,
   "id": "079aa60f",
   "metadata": {},
   "outputs": [],
   "source": [
    "li=[1,4,2,3,5,6]"
   ]
  },
  {
   "cell_type": "code",
   "execution_count": 110,
   "id": "7377783e",
   "metadata": {},
   "outputs": [
    {
     "data": {
      "text/plain": [
       "(1, 2, 3, 4)"
      ]
     },
     "execution_count": 110,
     "metadata": {},
     "output_type": "execute_result"
    }
   ],
   "source": [
    "tuple1 or li"
   ]
  },
  {
   "cell_type": "code",
   "execution_count": 107,
   "id": "fb20e15a",
   "metadata": {},
   "outputs": [
    {
     "data": {
      "text/plain": [
       "(1, 2, 3, 4)"
      ]
     },
     "execution_count": 107,
     "metadata": {},
     "output_type": "execute_result"
    }
   ],
   "source": [
    "tuple1"
   ]
  },
  {
   "cell_type": "code",
   "execution_count": null,
   "id": "89cba69c",
   "metadata": {},
   "outputs": [],
   "source": []
  }
 ],
 "metadata": {
  "kernelspec": {
   "display_name": "base",
   "language": "python",
   "name": "python3"
  },
  "language_info": {
   "codemirror_mode": {
    "name": "ipython",
    "version": 3
   },
   "file_extension": ".py",
   "mimetype": "text/x-python",
   "name": "python",
   "nbconvert_exporter": "python",
   "pygments_lexer": "ipython3",
   "version": "3.11.5"
  }
 },
 "nbformat": 4,
 "nbformat_minor": 5
}
