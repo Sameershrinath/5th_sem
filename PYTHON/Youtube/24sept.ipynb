{
 "cells": [
  {
   "cell_type": "markdown",
   "id": "5e604fb6",
   "metadata": {},
   "source": [
    "Covariance understanding"
   ]
  },
  {
   "cell_type": "code",
   "execution_count": 8,
   "id": "9113ed49",
   "metadata": {},
   "outputs": [],
   "source": [
    "def covariance_X_Y(li1,li2):\n",
    "    e1=sum(li1)/len(li1)\n",
    "    e2=sum(li2)/len(li2)\n",
    "\n",
    "    e=0\n",
    "    for i,j in zip(li1,li2):\n",
    "        e=e+(i*j)\n",
    "    e=e/len(li1)\n",
    "    cov=e-(e1*e2)\n",
    "    print(e1)\n",
    "    print(e2)\n",
    "    print(e)\n",
    "    print(cov)\n",
    "    return cov\n",
    "\n"
   ]
  },
  {
   "cell_type": "code",
   "execution_count": 9,
   "id": "d997180e",
   "metadata": {},
   "outputs": [
    {
     "name": "stdout",
     "output_type": "stream",
     "text": [
      "10.0\n",
      "13.0\n",
      "134.0\n",
      "4.0\n"
     ]
    },
    {
     "data": {
      "text/plain": [
       "4.0"
      ]
     },
     "execution_count": 9,
     "metadata": {},
     "output_type": "execute_result"
    }
   ],
   "source": [
    "covariance_X_Y([8,10,12],[10,13,16])"
   ]
  },
  {
   "cell_type": "code",
   "execution_count": null,
   "id": "8bea1870",
   "metadata": {},
   "outputs": [],
   "source": []
  }
 ],
 "metadata": {
  "kernelspec": {
   "display_name": "base",
   "language": "python",
   "name": "python3"
  },
  "language_info": {
   "codemirror_mode": {
    "name": "ipython",
    "version": 3
   },
   "file_extension": ".py",
   "mimetype": "text/x-python",
   "name": "python",
   "nbconvert_exporter": "python",
   "pygments_lexer": "ipython3",
   "version": "3.11.5"
  }
 },
 "nbformat": 4,
 "nbformat_minor": 5
}
