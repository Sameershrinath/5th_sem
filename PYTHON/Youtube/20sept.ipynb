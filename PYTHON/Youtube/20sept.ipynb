{
 "cells": [
  {
   "cell_type": "markdown",
   "id": "df5f1274",
   "metadata": {},
   "source": [
    "# syntax : "
   ]
  },
  {
   "cell_type": "markdown",
   "id": "8f918367",
   "metadata": {},
   "source": [
    "present continuous tense "
   ]
  },
  {
   "cell_type": "markdown",
   "id": "a39073e8",
   "metadata": {},
   "source": [
    "Subjext+ helping verb + v + ing + object ."
   ]
  },
  {
   "cell_type": "markdown",
   "id": "e4dddbb3",
   "metadata": {},
   "source": [
    "Print statement"
   ]
  },
  {
   "cell_type": "code",
   "execution_count": 6,
   "id": "6f2d6673",
   "metadata": {},
   "outputs": [
    {
     "name": "stdout",
     "output_type": "stream",
     "text": [
      "78787\n"
     ]
    }
   ],
   "source": [
    "print(\"78787\")"
   ]
  },
  {
   "cell_type": "markdown",
   "id": "6d608c92",
   "metadata": {},
   "source": [
    "Comments"
   ]
  },
  {
   "cell_type": "code",
   "execution_count": null,
   "id": "7938705f",
   "metadata": {},
   "outputs": [],
   "source": [
    "# this thing print hello \n",
    "print(\"hello\")"
   ]
  },
  {
   "cell_type": "markdown",
   "id": "07162868",
   "metadata": {},
   "source": [
    "Variables and Data Types"
   ]
  },
  {
   "cell_type": "code",
   "execution_count": 11,
   "id": "25bbaf0b",
   "metadata": {},
   "outputs": [
    {
     "name": "stdout",
     "output_type": "stream",
     "text": [
      "5 45\n"
     ]
    }
   ],
   "source": [
    "x=5\n",
    "y=45\n",
    "print(x,y)"
   ]
  },
  {
   "cell_type": "markdown",
   "id": "11c889a0",
   "metadata": {},
   "source": [
    "Dynamic Typing"
   ]
  },
  {
   "cell_type": "code",
   "execution_count": 20,
   "id": "81123bf6",
   "metadata": {},
   "outputs": [
    {
     "name": "stdout",
     "output_type": "stream",
     "text": [
      "<class 'int'>\n",
      "<class 'str'>\n",
      "<class 'bool'>\n"
     ]
    }
   ],
   "source": [
    "a=-100\n",
    "print(type(a))\n",
    "a=\"sameer\"\n",
    "print(type(a))\n",
    "a=True\n",
    "print(type(a))"
   ]
  },
  {
   "cell_type": "markdown",
   "id": "8cd5f937",
   "metadata": {},
   "source": [
    "Operators"
   ]
  },
  {
   "cell_type": "markdown",
   "id": "4bc7680c",
   "metadata": {},
   "source": [
    "+ - / // * ** %"
   ]
  },
  {
   "cell_type": "code",
   "execution_count": null,
   "id": "a7560749",
   "metadata": {},
   "outputs": [
    {
     "data": {
      "text/plain": [
       "55"
      ]
     },
     "execution_count": 22,
     "metadata": {},
     "output_type": "execute_result"
    }
   ],
   "source": [
    "a=45\n",
    "b=10\n",
    "a+b"
   ]
  },
  {
   "cell_type": "code",
   "execution_count": 24,
   "id": "57dd323b",
   "metadata": {},
   "outputs": [
    {
     "name": "stdout",
     "output_type": "stream",
     "text": [
      "35\n"
     ]
    }
   ],
   "source": [
    "print(a-b)"
   ]
  },
  {
   "cell_type": "code",
   "execution_count": 28,
   "id": "684a6ae0",
   "metadata": {},
   "outputs": [
    {
     "data": {
      "text/plain": [
       "4.5"
      ]
     },
     "execution_count": 28,
     "metadata": {},
     "output_type": "execute_result"
    }
   ],
   "source": [
    "a/b"
   ]
  },
  {
   "cell_type": "code",
   "execution_count": 29,
   "id": "7d1c3ee9",
   "metadata": {},
   "outputs": [
    {
     "data": {
      "text/plain": [
       "4"
      ]
     },
     "execution_count": 29,
     "metadata": {},
     "output_type": "execute_result"
    }
   ],
   "source": [
    "a//b"
   ]
  },
  {
   "cell_type": "code",
   "execution_count": null,
   "id": "dd5c5979",
   "metadata": {},
   "outputs": [
    {
     "data": {
      "text/plain": [
       "450"
      ]
     },
     "execution_count": 33,
     "metadata": {},
     "output_type": "execute_result"
    }
   ],
   "source": [
    "a*b # 45 X 10"
   ]
  },
  {
   "cell_type": "code",
   "execution_count": null,
   "id": "b96172aa",
   "metadata": {},
   "outputs": [
    {
     "data": {
      "text/plain": [
       "1600.0"
      ]
     },
     "execution_count": 40,
     "metadata": {},
     "output_type": "execute_result"
    }
   ],
   "source": [
    "1.6e3"
   ]
  },
  {
   "cell_type": "code",
   "execution_count": null,
   "id": "a9c172e1",
   "metadata": {},
   "outputs": [
    {
     "data": {
      "text/plain": [
       "2"
      ]
     },
     "execution_count": 44,
     "metadata": {},
     "output_type": "execute_result"
    }
   ],
   "source": [
    "14%3"
   ]
  },
  {
   "cell_type": "code",
   "execution_count": 50,
   "id": "e0114492",
   "metadata": {},
   "outputs": [
    {
     "data": {
      "text/plain": [
       "3"
      ]
     },
     "execution_count": 50,
     "metadata": {},
     "output_type": "execute_result"
    }
   ],
   "source": [
    "3%100"
   ]
  },
  {
   "cell_type": "markdown",
   "id": "95e0ae68",
   "metadata": {},
   "source": [
    "Conditional Statements (if, elif, else)"
   ]
  },
  {
   "cell_type": "code",
   "execution_count": null,
   "id": "a47ee54b",
   "metadata": {},
   "outputs": [
    {
     "name": "stdout",
     "output_type": "stream",
     "text": [
      "a is much larger\n"
     ]
    }
   ],
   "source": [
    "a=15\n",
    "\n",
    "if (a<10): # condition1\n",
    "    print(\"small\")\n",
    "    print(\"hello\")\n",
    "    print(\"sunday\")\n",
    "    # do whatever the condition1 is true\n",
    "elif a==10: # condition 2\n",
    "    print(\"large\")\n",
    "elif a==12: # condition 2\n",
    "    print(\"12\")\n",
    "elif a==14: # condition 2\n",
    "    print(\"14\")\n",
    "else:\n",
    "    print(\"a is much larger\")"
   ]
  },
  {
   "cell_type": "markdown",
   "id": "202bbfe3",
   "metadata": {},
   "source": [
    "Loops (while, for with range)"
   ]
  },
  {
   "cell_type": "code",
   "execution_count": 57,
   "id": "3849a1c9",
   "metadata": {},
   "outputs": [
    {
     "name": "stdout",
     "output_type": "stream",
     "text": [
      "2\n",
      "5\n",
      "5\n",
      "6\n",
      "8\n",
      "70\n"
     ]
    }
   ],
   "source": [
    "# for loop \n",
    "\n",
    "li=[2,5,5,6,8,70]\n",
    "for i in li:\n",
    "    print(i)"
   ]
  },
  {
   "cell_type": "code",
   "execution_count": 62,
   "id": "10c2b7ff",
   "metadata": {},
   "outputs": [
    {
     "name": "stdout",
     "output_type": "stream",
     "text": [
      "20\n",
      "19\n",
      "18\n",
      "17\n",
      "16\n",
      "15\n",
      "14\n",
      "13\n",
      "12\n",
      "11\n",
      "10\n",
      "9\n",
      "8\n",
      "7\n",
      "6\n",
      "5\n",
      "4\n",
      "3\n",
      "2\n",
      "1\n",
      "0\n"
     ]
    }
   ],
   "source": [
    "# while \n",
    "a=20\n",
    "while a>=0:\n",
    "    print(a)\n",
    "    a-=1"
   ]
  },
  {
   "cell_type": "markdown",
   "id": "2d86d375",
   "metadata": {},
   "source": [
    "Functions"
   ]
  },
  {
   "cell_type": "code",
   "execution_count": 65,
   "id": "89c901fb",
   "metadata": {},
   "outputs": [],
   "source": [
    "def function_name(a,b):\n",
    "\n",
    "    #any operation \n",
    "    return a+b"
   ]
  },
  {
   "cell_type": "code",
   "execution_count": 66,
   "id": "401b4512",
   "metadata": {},
   "outputs": [
    {
     "data": {
      "text/plain": [
       "70"
      ]
     },
     "execution_count": 66,
     "metadata": {},
     "output_type": "execute_result"
    }
   ],
   "source": [
    "function_name(25,45)"
   ]
  },
  {
   "cell_type": "markdown",
   "id": "d3dcd818",
   "metadata": {},
   "source": [
    "Lists"
   ]
  },
  {
   "cell_type": "code",
   "execution_count": 68,
   "id": "c966916e",
   "metadata": {},
   "outputs": [
    {
     "data": {
      "text/plain": [
       "404"
      ]
     },
     "execution_count": 68,
     "metadata": {},
     "output_type": "execute_result"
    }
   ],
   "source": [
    "li=[45,50,60,70,80,99]  # list\n",
    "sum(li)"
   ]
  },
  {
   "cell_type": "code",
   "execution_count": 74,
   "id": "99f04c9b",
   "metadata": {},
   "outputs": [],
   "source": [
    "li[0]=100"
   ]
  },
  {
   "cell_type": "code",
   "execution_count": 75,
   "id": "3a6934ca",
   "metadata": {},
   "outputs": [
    {
     "data": {
      "text/plain": [
       "[100, 50, 60, 70, 80, 99]"
      ]
     },
     "execution_count": 75,
     "metadata": {},
     "output_type": "execute_result"
    }
   ],
   "source": [
    "li"
   ]
  },
  {
   "cell_type": "markdown",
   "id": "4afd205f",
   "metadata": {},
   "source": [
    "Tuples"
   ]
  },
  {
   "cell_type": "code",
   "execution_count": 69,
   "id": "3b30b09e",
   "metadata": {},
   "outputs": [],
   "source": [
    "tuple1=(1,5,2,3,6)"
   ]
  },
  {
   "cell_type": "code",
   "execution_count": 72,
   "id": "a53f10f2",
   "metadata": {},
   "outputs": [
    {
     "ename": "TypeError",
     "evalue": "'tuple' object does not support item assignment",
     "output_type": "error",
     "traceback": [
      "\u001b[31m---------------------------------------------------------------------------\u001b[39m",
      "\u001b[31mTypeError\u001b[39m                                 Traceback (most recent call last)",
      "\u001b[36mCell\u001b[39m\u001b[36m \u001b[39m\u001b[32mIn[72]\u001b[39m\u001b[32m, line 1\u001b[39m\n\u001b[32m----> \u001b[39m\u001b[32m1\u001b[39m \u001b[43mtuple1\u001b[49m\u001b[43m[\u001b[49m\u001b[32;43m0\u001b[39;49m\u001b[43m]\u001b[49m=\u001b[32m10\u001b[39m\n",
      "\u001b[31mTypeError\u001b[39m: 'tuple' object does not support item assignment"
     ]
    }
   ],
   "source": [
    "tuple1[0]=10"
   ]
  },
  {
   "cell_type": "markdown",
   "id": "aadfe753",
   "metadata": {},
   "source": [
    "Dictionaries"
   ]
  },
  {
   "cell_type": "code",
   "execution_count": 88,
   "id": "43200615",
   "metadata": {},
   "outputs": [],
   "source": [
    "marks={\"math\":45,\"science\":100,\"sst\":99}"
   ]
  },
  {
   "cell_type": "code",
   "execution_count": 89,
   "id": "12b214f7",
   "metadata": {},
   "outputs": [
    {
     "data": {
      "text/plain": [
       "{'math': 45, 'science': 100, 'sst': 99}"
      ]
     },
     "execution_count": 89,
     "metadata": {},
     "output_type": "execute_result"
    }
   ],
   "source": [
    "marks"
   ]
  },
  {
   "cell_type": "code",
   "execution_count": null,
   "id": "a0239689",
   "metadata": {},
   "outputs": [],
   "source": []
  }
 ],
 "metadata": {
  "kernelspec": {
   "display_name": "base",
   "language": "python",
   "name": "python3"
  },
  "language_info": {
   "codemirror_mode": {
    "name": "ipython",
    "version": 3
   },
   "file_extension": ".py",
   "mimetype": "text/x-python",
   "name": "python",
   "nbconvert_exporter": "python",
   "pygments_lexer": "ipython3",
   "version": "3.11.5"
  }
 },
 "nbformat": 4,
 "nbformat_minor": 5
}
