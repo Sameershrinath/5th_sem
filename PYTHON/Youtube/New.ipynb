{
 "cells": [
  {
   "cell_type": "code",
   "execution_count": 8,
   "id": "a4ea8a2f",
   "metadata": {},
   "outputs": [
    {
     "name": "stdout",
     "output_type": "stream",
     "text": [
      "False\n"
     ]
    }
   ],
   "source": [
    "# Evaluate the following\n",
    "print(bool(0) == False is True)"
   ]
  },
  {
   "cell_type": "code",
   "execution_count": null,
   "id": "f90c8a92",
   "metadata": {},
   "outputs": [
    {
     "data": {
      "text/plain": [
       "False"
      ]
     },
     "execution_count": 6,
     "metadata": {},
     "output_type": "execute_result"
    }
   ],
   "source": [
    "bool(0)== False # -> True"
   ]
  },
  {
   "cell_type": "code",
   "execution_count": null,
   "id": "605876c8",
   "metadata": {},
   "outputs": [],
   "source": [
    "False is True #-> False"
   ]
  },
  {
   "cell_type": "code",
   "execution_count": 7,
   "id": "1246ba5c",
   "metadata": {},
   "outputs": [
    {
     "data": {
      "text/plain": [
       "False"
      ]
     },
     "execution_count": 7,
     "metadata": {},
     "output_type": "execute_result"
    }
   ],
   "source": [
    "(bool(0)==False) and (False is True)"
   ]
  },
  {
   "cell_type": "code",
   "execution_count": 17,
   "id": "8af51de0",
   "metadata": {},
   "outputs": [
    {
     "name": "stdout",
     "output_type": "stream",
     "text": [
      "1000\n"
     ]
    }
   ],
   "source": [
    "# What will be output \n",
    "print(int('1_000'))"
   ]
  },
  {
   "cell_type": "code",
   "execution_count": 14,
   "id": "def572a6",
   "metadata": {},
   "outputs": [],
   "source": [
    "a=\"5_00\"\n",
    "b=int(a)"
   ]
  },
  {
   "cell_type": "code",
   "execution_count": 15,
   "id": "1a63d73e",
   "metadata": {},
   "outputs": [
    {
     "data": {
      "text/plain": [
       "int"
      ]
     },
     "execution_count": 15,
     "metadata": {},
     "output_type": "execute_result"
    }
   ],
   "source": [
    "type(b)"
   ]
  },
  {
   "cell_type": "code",
   "execution_count": 16,
   "id": "35d21293",
   "metadata": {},
   "outputs": [
    {
     "data": {
      "text/plain": [
       "500"
      ]
     },
     "execution_count": 16,
     "metadata": {},
     "output_type": "execute_result"
    }
   ],
   "source": [
    "b"
   ]
  },
  {
   "cell_type": "code",
   "execution_count": 27,
   "id": "9006777a",
   "metadata": {},
   "outputs": [
    {
     "name": "stdout",
     "output_type": "stream",
     "text": [
      "True\n"
     ]
    }
   ],
   "source": [
    "# What is output ?\n",
    "\n",
    "print(type({}) is dict)"
   ]
  },
  {
   "cell_type": "code",
   "execution_count": 25,
   "id": "9822ba1d",
   "metadata": {},
   "outputs": [],
   "source": [
    "a={} # set also and the dictionary"
   ]
  },
  {
   "cell_type": "code",
   "execution_count": 26,
   "id": "b2aa8cdd",
   "metadata": {},
   "outputs": [
    {
     "data": {
      "text/plain": [
       "dict"
      ]
     },
     "execution_count": 26,
     "metadata": {},
     "output_type": "execute_result"
    }
   ],
   "source": [
    "type(a)"
   ]
  },
  {
   "cell_type": "code",
   "execution_count": 39,
   "id": "ae4ba649",
   "metadata": {},
   "outputs": [],
   "source": [
    "# Question \n",
    "a = (1, 2)\n",
    "b=list(a)\n",
    "b[0]=10"
   ]
  },
  {
   "cell_type": "code",
   "execution_count": 40,
   "id": "07832645",
   "metadata": {},
   "outputs": [
    {
     "data": {
      "text/plain": [
       "[10, 2]"
      ]
     },
     "execution_count": 40,
     "metadata": {},
     "output_type": "execute_result"
    }
   ],
   "source": [
    "b"
   ]
  },
  {
   "cell_type": "code",
   "execution_count": 33,
   "id": "3a3b860f",
   "metadata": {},
   "outputs": [
    {
     "ename": "TypeError",
     "evalue": "'tuple' object does not support item assignment",
     "output_type": "error",
     "traceback": [
      "\u001b[31m---------------------------------------------------------------------------\u001b[39m",
      "\u001b[31mTypeError\u001b[39m                                 Traceback (most recent call last)",
      "\u001b[36mCell\u001b[39m\u001b[36m \u001b[39m\u001b[32mIn[33]\u001b[39m\u001b[32m, line 3\u001b[39m\n\u001b[32m      1\u001b[39m \u001b[38;5;66;03m# What is tuple \u001b[39;00m\n\u001b[32m      2\u001b[39m a=(\u001b[32m5\u001b[39m,\u001b[32m6\u001b[39m,\u001b[32m3\u001b[39m,\u001b[32m4\u001b[39m)\n\u001b[32m----> \u001b[39m\u001b[32m3\u001b[39m \u001b[43ma\u001b[49m\u001b[43m[\u001b[49m\u001b[32;43m2\u001b[39;49m\u001b[43m]\u001b[49m=\u001b[32m52\u001b[39m\n",
      "\u001b[31mTypeError\u001b[39m: 'tuple' object does not support item assignment"
     ]
    }
   ],
   "source": [
    "# What is tuple \n",
    "a=(5,6,3,4)\n",
    "a[2]=52"
   ]
  },
  {
   "cell_type": "code",
   "execution_count": null,
   "id": "c69c6955",
   "metadata": {},
   "outputs": [],
   "source": [
    "import os \n",
    "import json\n",
    "\n",
    "os.makedirs()"
   ]
  },
  {
   "cell_type": "code",
   "execution_count": 3,
   "id": "cb6c4244",
   "metadata": {},
   "outputs": [],
   "source": [
    "filename=\"new1.txt\"\n",
    "\n",
    "with open(filename,\"w\") as f:\n",
    "    pass"
   ]
  },
  {
   "cell_type": "code",
   "execution_count": null,
   "id": "b616222f",
   "metadata": {},
   "outputs": [],
   "source": []
  }
 ],
 "metadata": {
  "kernelspec": {
   "display_name": "base",
   "language": "python",
   "name": "python3"
  },
  "language_info": {
   "codemirror_mode": {
    "name": "ipython",
    "version": 3
   },
   "file_extension": ".py",
   "mimetype": "text/x-python",
   "name": "python",
   "nbconvert_exporter": "python",
   "pygments_lexer": "ipython3",
   "version": "3.11.5"
  }
 },
 "nbformat": 4,
 "nbformat_minor": 5
}
