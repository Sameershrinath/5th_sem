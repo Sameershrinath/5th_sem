{
 "cells": [
  {
   "cell_type": "markdown",
   "id": "ac552a3c",
   "metadata": {},
   "source": [
    "Mean"
   ]
  },
  {
   "cell_type": "code",
   "execution_count": 1,
   "id": "894a82cb",
   "metadata": {},
   "outputs": [],
   "source": [
    "def mean(li):\n",
    "    return sum(li)/len(li)"
   ]
  },
  {
   "cell_type": "code",
   "execution_count": 2,
   "id": "13eab8f9",
   "metadata": {},
   "outputs": [
    {
     "data": {
      "text/plain": [
       "50.0"
      ]
     },
     "execution_count": 2,
     "metadata": {},
     "output_type": "execute_result"
    }
   ],
   "source": [
    "li=[45,50,55]\n",
    "mean(li)"
   ]
  },
  {
   "cell_type": "markdown",
   "id": "883a86aa",
   "metadata": {},
   "source": [
    "Median"
   ]
  },
  {
   "cell_type": "code",
   "execution_count": 18,
   "id": "38a6f6ef",
   "metadata": {},
   "outputs": [],
   "source": [
    "def median(li):\n",
    "    sortedli=sorted(li)\n",
    "    n=len(li)\n",
    "    mid=n//2\n",
    "\n",
    "    if (n%2)==0:\n",
    "        return (sortedli[mid-1]+sortedli[mid])/2\n",
    "    else:\n",
    "        return sortedli[mid]\n"
   ]
  },
  {
   "cell_type": "code",
   "execution_count": 23,
   "id": "50d0b4b4",
   "metadata": {},
   "outputs": [
    {
     "data": {
      "text/plain": [
       "6"
      ]
     },
     "execution_count": 23,
     "metadata": {},
     "output_type": "execute_result"
    }
   ],
   "source": [
    "li=[3,5,6,74,32,5,90,1,89]\n",
    "median(li)"
   ]
  },
  {
   "cell_type": "code",
   "execution_count": 24,
   "id": "7b72cdd6",
   "metadata": {},
   "outputs": [
    {
     "data": {
      "text/plain": [
       "[1, 3, 5, 5, 6, 32, 74, 89, 90]"
      ]
     },
     "execution_count": 24,
     "metadata": {},
     "output_type": "execute_result"
    }
   ],
   "source": [
    "sortedli=sorted(li)\n",
    "sortedli"
   ]
  },
  {
   "cell_type": "markdown",
   "id": "f6200841",
   "metadata": {},
   "source": [
    "Mode"
   ]
  },
  {
   "cell_type": "code",
   "execution_count": 35,
   "id": "26b96753",
   "metadata": {},
   "outputs": [],
   "source": [
    "def mode(li):\n",
    "    freq={}\n",
    "    for num in li:\n",
    "        freq[num]=freq.get(num,0)+1\n",
    "    maxcout=max(freq.values())\n",
    "    modes=[key for key,value in freq.items() if value == maxcout]\n",
    "    if len(modes)==1:\n",
    "        return modes[0]\n",
    "    return modes"
   ]
  },
  {
   "cell_type": "code",
   "execution_count": 39,
   "id": "5b419479",
   "metadata": {},
   "outputs": [
    {
     "data": {
      "text/plain": [
       "5"
      ]
     },
     "execution_count": 39,
     "metadata": {},
     "output_type": "execute_result"
    }
   ],
   "source": [
    "li=[3,3,3,4,5,5,5,5,5,5,6,7,7,7,8]\n",
    "mode(li)"
   ]
  },
  {
   "cell_type": "code",
   "execution_count": null,
   "id": "e71a43a9",
   "metadata": {},
   "outputs": [],
   "source": []
  }
 ],
 "metadata": {
  "kernelspec": {
   "display_name": "base",
   "language": "python",
   "name": "python3"
  },
  "language_info": {
   "codemirror_mode": {
    "name": "ipython",
    "version": 3
   },
   "file_extension": ".py",
   "mimetype": "text/x-python",
   "name": "python",
   "nbconvert_exporter": "python",
   "pygments_lexer": "ipython3",
   "version": "3.11.5"
  }
 },
 "nbformat": 4,
 "nbformat_minor": 5
}
