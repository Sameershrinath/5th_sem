{
 "cells": [
  {
   "cell_type": "code",
   "execution_count": 18,
   "id": "bf763179",
   "metadata": {},
   "outputs": [],
   "source": [
    "def int_to_binary(num):\n",
    "    li=[]\n",
    "    while num>0:\n",
    "        li.append(str(num % 2))\n",
    "        num=num//2\n",
    "    return \"\".join(li[::-1])"
   ]
  },
  {
   "cell_type": "code",
   "execution_count": 19,
   "id": "0d30ac62",
   "metadata": {},
   "outputs": [
    {
     "data": {
      "text/plain": [
       "'1010'"
      ]
     },
     "execution_count": 19,
     "metadata": {},
     "output_type": "execute_result"
    }
   ],
   "source": [
    "int_to_binary(10)"
   ]
  },
  {
   "cell_type": "code",
   "execution_count": 14,
   "id": "b9519e91",
   "metadata": {},
   "outputs": [],
   "source": [
    "def int_to_hex(num):\n",
    "    li=[]\n",
    "    while num>0:\n",
    "        res=(num % 16)\n",
    "        if res==10:\n",
    "            li.append(\"A\")\n",
    "        elif res==11:\n",
    "            li.append(\"B\")\n",
    "        elif res==12:\n",
    "            li.append(\"C\")\n",
    "        elif res==13:\n",
    "            li.append(\"D\")\n",
    "        elif res==14:\n",
    "            li.append(\"E\")\n",
    "        elif res==15:\n",
    "            li.append(\"F\")\n",
    "        else:\n",
    "            li.append(str(res))\n",
    "        num=num//16\n",
    "    return \"\".join(li[::-1])"
   ]
  },
  {
   "cell_type": "code",
   "execution_count": 15,
   "id": "d1039323",
   "metadata": {},
   "outputs": [
    {
     "data": {
      "text/plain": [
       "'6E'"
      ]
     },
     "execution_count": 15,
     "metadata": {},
     "output_type": "execute_result"
    }
   ],
   "source": [
    "int_to_hex(110)"
   ]
  },
  {
   "cell_type": "code",
   "execution_count": 20,
   "id": "93ea852c",
   "metadata": {},
   "outputs": [],
   "source": [
    "def int_to_octal(num):\n",
    "    li=[]\n",
    "    while num>0:\n",
    "        li.append(str(num % 8))\n",
    "        num=num//8\n",
    "    return \"\".join(li[::-1])"
   ]
  },
  {
   "cell_type": "code",
   "execution_count": 22,
   "id": "f82381ad",
   "metadata": {},
   "outputs": [
    {
     "data": {
      "text/plain": [
       "'10624'"
      ]
     },
     "execution_count": 22,
     "metadata": {},
     "output_type": "execute_result"
    }
   ],
   "source": [
    "int_to_octal(4500)"
   ]
  },
  {
   "cell_type": "code",
   "execution_count": null,
   "id": "fc8f2447",
   "metadata": {},
   "outputs": [],
   "source": []
  }
 ],
 "metadata": {
  "kernelspec": {
   "display_name": "base",
   "language": "python",
   "name": "python3"
  },
  "language_info": {
   "codemirror_mode": {
    "name": "ipython",
    "version": 3
   },
   "file_extension": ".py",
   "mimetype": "text/x-python",
   "name": "python",
   "nbconvert_exporter": "python",
   "pygments_lexer": "ipython3",
   "version": "3.11.5"
  }
 },
 "nbformat": 4,
 "nbformat_minor": 5
}
