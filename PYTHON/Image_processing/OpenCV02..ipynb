{
 "cells": [
  {
   "cell_type": "markdown",
   "id": "e677fab5",
   "metadata": {},
   "source": [
    "# Open CV "
   ]
  },
  {
   "cell_type": "markdown",
   "id": "57a0de90",
   "metadata": {},
   "source": [
    "reading image\n"
   ]
  },
  {
   "cell_type": "code",
   "execution_count": null,
   "id": "9e324ee9",
   "metadata": {},
   "outputs": [
    {
     "data": {
      "text/plain": [
       "-1"
      ]
     },
     "execution_count": 1,
     "metadata": {},
     "output_type": "execute_result"
    }
   ],
   "source": [
    "import cv2 as cv\n",
    "\n",
    "image=cv.imread('data/image_01.png')\n",
    "cv.imshow(\"image of sam\",image)\n",
    "cv.waitKey(0)"
   ]
  },
  {
   "cell_type": "markdown",
   "id": "afd439c8",
   "metadata": {},
   "source": [
    "reading videos"
   ]
  },
  {
   "cell_type": "code",
   "execution_count": null,
   "id": "3f5ce079",
   "metadata": {},
   "outputs": [],
   "source": [
    "import cv2 as cv\n",
    "\n",
    "cap=cv.VideoCapture(\"data/video_01.mp4\")\n",
    "while True:\n",
    "    isTrue,frame=cap.read()\n",
    "    cv.imshow(\"video\",frame)\n",
    "    if cv.waitKey(20) & 0xFF==ord(\"d\"):\n",
    "        break\n",
    "cap.release()\n",
    "cv.destroyAllWindows()\n"
   ]
  },
  {
   "cell_type": "markdown",
   "id": "d4ec1c9e",
   "metadata": {},
   "source": [
    "Resizing the image"
   ]
  },
  {
   "cell_type": "code",
   "execution_count": 2,
   "id": "18b1d76f",
   "metadata": {},
   "outputs": [],
   "source": [
    "import cv2 as cv\n",
    "def rescaleframe(frame,scale=0.75):\n",
    "    width=int(frame.shape[1]*scale)\n",
    "    height=int(frame.shape[0]*scale)\n",
    "\n",
    "    dimension=(width,height)\n",
    "    return cv.resize(frame,dimension,interpolation=cv.INTER_AREA)\n",
    "\n",
    "cap=cv.VideoCapture(\"data/video_01.mp4\")\n",
    "while True:\n",
    "    isTrue,frame=cap.read()\n",
    "\n",
    "    frame_resized=rescaleframe(frame,scale=0.5)\n",
    "    # cv.imshow(\"video\",frame)\n",
    "    cv.imshow(\"video resized \",frame_resized)\n",
    "\n",
    "\n",
    "\n",
    "    if cv.waitKey(20) & 0xFF==ord(\"d\"):\n",
    "        break\n",
    "cap.release()\n",
    "cv.destroyAllWindows()\n",
    "\n"
   ]
  },
  {
   "cell_type": "markdown",
   "id": "6fd887ee",
   "metadata": {},
   "source": [
    "draw on image"
   ]
  },
  {
   "cell_type": "code",
   "execution_count": null,
   "id": "36d0017d",
   "metadata": {},
   "outputs": [
    {
     "data": {
      "text/plain": [
       "-1"
      ]
     },
     "execution_count": 3,
     "metadata": {},
     "output_type": "execute_result"
    }
   ],
   "source": [
    "import numpy as np \n",
    "import cv2 as cv\n",
    "\n",
    "blank=np.zeros((500,500),dtype='uint8')\n",
    "\n",
    "cv.imshow(\"chekc\",blank)\n",
    "img=cv.imread(\"data/image_01.png\")\n",
    "cv.imshow(\"my image\",img)\n",
    "cv.waitKey(0)"
   ]
  },
  {
   "cell_type": "code",
   "execution_count": null,
   "id": "07b78e5c",
   "metadata": {},
   "outputs": [
    {
     "data": {
      "text/plain": [
       "-1"
      ]
     },
     "execution_count": 11,
     "metadata": {},
     "output_type": "execute_result"
    }
   ],
   "source": [
    "import numpy as np \n",
    "import cv2 as cv\n",
    "\n",
    "blank=np.zeros((500,500,3),dtype='uint8')\n",
    "blank[:]=0,255,0 \n",
    "cv.imshow(\"Green\",blank)\n",
    "\n",
    "cv.waitKey(0)"
   ]
  },
  {
   "cell_type": "code",
   "execution_count": 12,
   "id": "a17ea8c7",
   "metadata": {},
   "outputs": [
    {
     "data": {
      "text/plain": [
       "-1"
      ]
     },
     "execution_count": 12,
     "metadata": {},
     "output_type": "execute_result"
    }
   ],
   "source": [
    "import numpy as np \n",
    "import cv2 as cv\n",
    "\n",
    "blank=np.zeros((500,500,3),dtype='uint8')\n",
    "blank[:]=0,0,255 \n",
    "cv.imshow(\"red\",blank)\n",
    "\n",
    "cv.waitKey(0)"
   ]
  },
  {
   "cell_type": "markdown",
   "id": "f288e917",
   "metadata": {},
   "source": [
    "giving color to the range of pixel"
   ]
  },
  {
   "cell_type": "code",
   "execution_count": 16,
   "id": "39c7105c",
   "metadata": {},
   "outputs": [
    {
     "data": {
      "text/plain": [
       "-1"
      ]
     },
     "execution_count": 16,
     "metadata": {},
     "output_type": "execute_result"
    }
   ],
   "source": [
    "import numpy as np \n",
    "import cv2 as cv\n",
    "\n",
    "blank=np.zeros((500,500,3),dtype='uint8')\n",
    "blank[250:350,300:400]=0,0,255 \n",
    "cv.imshow(\"red\",blank)\n",
    "\n",
    "cv.waitKey(0)"
   ]
  },
  {
   "cell_type": "markdown",
   "id": "2833e69f",
   "metadata": {},
   "source": [
    "Rectangle"
   ]
  },
  {
   "cell_type": "code",
   "execution_count": 19,
   "id": "0505c390",
   "metadata": {},
   "outputs": [
    {
     "data": {
      "text/plain": [
       "-1"
      ]
     },
     "execution_count": 19,
     "metadata": {},
     "output_type": "execute_result"
    }
   ],
   "source": [
    "import numpy as np \n",
    "import cv2 as cv\n",
    "\n",
    "blank=np.zeros((500,500,3),dtype='uint8')\n",
    "cv.rectangle(blank,(0,0),(500,250),color=(0,255,0),thickness=cv.FILLED)\n",
    "cv.imshow(\"rectangle\",blank)\n",
    "cv.waitKey(0)"
   ]
  },
  {
   "cell_type": "markdown",
   "id": "37174b83",
   "metadata": {},
   "source": [
    "Draw a circle"
   ]
  },
  {
   "cell_type": "code",
   "execution_count": 23,
   "id": "21b70d97",
   "metadata": {},
   "outputs": [
    {
     "data": {
      "text/plain": [
       "-1"
      ]
     },
     "execution_count": 23,
     "metadata": {},
     "output_type": "execute_result"
    }
   ],
   "source": [
    "import numpy as np \n",
    "import cv2 as cv\n",
    "\n",
    "blank=np.zeros((500,500,3),dtype='uint8')\n",
    "cv.circle(blank,(255,255),radius=100,color=(0,255,0),thickness=2)\n",
    "cv.imshow(\"rectangle\",blank)\n",
    "cv.waitKey(0)"
   ]
  },
  {
   "cell_type": "markdown",
   "id": "0569e745",
   "metadata": {},
   "source": [
    "Draw a line"
   ]
  },
  {
   "cell_type": "code",
   "execution_count": 3,
   "id": "9bb9169b",
   "metadata": {},
   "outputs": [
    {
     "data": {
      "text/plain": [
       "-1"
      ]
     },
     "execution_count": 3,
     "metadata": {},
     "output_type": "execute_result"
    }
   ],
   "source": [
    "import numpy as np \n",
    "import cv2 as cv\n",
    "\n",
    "blank=np.zeros((500,500,3),dtype='uint8')\n",
    "cv.line(blank,(0,0),(250,250),color=(255,255,255),thickness=3)\n",
    "cv.circle(blank,(255,255),radius=100,color=(0,255,0),thickness=2)\n",
    "\n",
    "cv.imshow(\"rectangle\",blank)\n",
    "cv.waitKey(0)"
   ]
  },
  {
   "cell_type": "markdown",
   "id": "280de044",
   "metadata": {},
   "source": [
    "text on image"
   ]
  },
  {
   "cell_type": "code",
   "execution_count": 9,
   "id": "82ffbe2a",
   "metadata": {},
   "outputs": [
    {
     "data": {
      "text/plain": [
       "-1"
      ]
     },
     "execution_count": 9,
     "metadata": {},
     "output_type": "execute_result"
    }
   ],
   "source": [
    "import numpy as np \n",
    "import cv2 as cv\n",
    "\n",
    "blank=np.zeros((500,500,3),dtype='uint8')\n",
    "\n",
    "cv.putText(blank,\"hello\",(200,250),cv.FONT_HERSHEY_SIMPLEX,fontScale=1,color=(0,255,0),thickness=2)\n",
    "cv.circle(blank,(255,255),radius=100,color=(0,255,0),thickness=2)\n",
    "\n",
    "\n",
    "cv.imshow(\"rectangle\",blank)\n",
    "cv.waitKey(0)"
   ]
  },
  {
   "cell_type": "code",
   "execution_count": null,
   "id": "f6558b4c",
   "metadata": {},
   "outputs": [],
   "source": []
  }
 ],
 "metadata": {
  "kernelspec": {
   "display_name": "base",
   "language": "python",
   "name": "python3"
  },
  "language_info": {
   "codemirror_mode": {
    "name": "ipython",
    "version": 3
   },
   "file_extension": ".py",
   "mimetype": "text/x-python",
   "name": "python",
   "nbconvert_exporter": "python",
   "pygments_lexer": "ipython3",
   "version": "3.11.5"
  }
 },
 "nbformat": 4,
 "nbformat_minor": 5
}
