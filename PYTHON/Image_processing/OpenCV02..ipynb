{
 "cells": [
  {
   "cell_type": "markdown",
   "id": "e677fab5",
   "metadata": {},
   "source": [
    "# Open CV "
   ]
  },
  {
   "cell_type": "markdown",
   "id": "57a0de90",
   "metadata": {},
   "source": [
    "reading image\n"
   ]
  },
  {
   "cell_type": "code",
   "execution_count": null,
   "id": "9e324ee9",
   "metadata": {},
   "outputs": [
    {
     "data": {
      "text/plain": [
       "-1"
      ]
     },
     "execution_count": 1,
     "metadata": {},
     "output_type": "execute_result"
    }
   ],
   "source": [
    "import cv2 as cv\n",
    "\n",
    "image=cv.imread('data/image_01.png')\n",
    "cv.imshow(\"image of sam\",image)\n",
    "cv.waitKey(0)"
   ]
  },
  {
   "cell_type": "markdown",
   "id": "afd439c8",
   "metadata": {},
   "source": [
    "reading videos"
   ]
  },
  {
   "cell_type": "code",
   "execution_count": null,
   "id": "3f5ce079",
   "metadata": {},
   "outputs": [],
   "source": [
    "import cv2 as cv\n",
    "\n",
    "cap=cv.VideoCapture(\"data/video_01.mp4\")\n",
    "while True:\n",
    "    isTrue,frame=cap.read()\n",
    "    cv.imshow(\"video\",frame)\n",
    "    if cv.waitKey(20) & 0xFF==ord(\"d\"):\n",
    "        break\n",
    "cap.release()\n",
    "cv.destroyAllWindows()\n"
   ]
  },
  {
   "cell_type": "markdown",
   "id": "d4ec1c9e",
   "metadata": {},
   "source": [
    "Resizing the image"
   ]
  },
  {
   "cell_type": "code",
   "execution_count": 2,
   "id": "18b1d76f",
   "metadata": {},
   "outputs": [],
   "source": [
    "import cv2 as cv\n",
    "def rescaleframe(frame,scale=0.75):\n",
    "    width=int(frame.shape[1]*scale)\n",
    "    height=int(frame.shape[0]*scale)\n",
    "\n",
    "    dimension=(width,height)\n",
    "    return cv.resize(frame,dimension,interpolation=cv.INTER_AREA)\n",
    "\n",
    "cap=cv.VideoCapture(\"data/video_01.mp4\")\n",
    "while True:\n",
    "    isTrue,frame=cap.read()\n",
    "\n",
    "    frame_resized=rescaleframe(frame,scale=0.5)\n",
    "    # cv.imshow(\"video\",frame)\n",
    "    cv.imshow(\"video resized \",frame_resized)\n",
    "\n",
    "\n",
    "\n",
    "    if cv.waitKey(20) & 0xFF==ord(\"d\"):\n",
    "        break\n",
    "cap.release()\n",
    "cv.destroyAllWindows()\n",
    "\n"
   ]
  },
  {
   "cell_type": "markdown",
   "id": "6fd887ee",
   "metadata": {},
   "source": [
    "draw on image"
   ]
  },
  {
   "cell_type": "code",
   "execution_count": null,
   "id": "36d0017d",
   "metadata": {},
   "outputs": [
    {
     "ename": "AttributeError",
     "evalue": "module 'cv2' has no attribute 'waitkey'",
     "output_type": "error",
     "traceback": [
      "\u001b[1;31m---------------------------------------------------------------------------\u001b[0m",
      "\u001b[1;31mAttributeError\u001b[0m                            Traceback (most recent call last)",
      "Cell \u001b[1;32mIn[3], line 6\u001b[0m\n\u001b[0;32m      4\u001b[0m img\u001b[38;5;241m=\u001b[39mcv\u001b[38;5;241m.\u001b[39mimread(\u001b[38;5;124m\"\u001b[39m\u001b[38;5;124mdata/image_01.png\u001b[39m\u001b[38;5;124m\"\u001b[39m)\n\u001b[0;32m      5\u001b[0m cv\u001b[38;5;241m.\u001b[39mimshow(\u001b[38;5;124m\"\u001b[39m\u001b[38;5;124mmy image\u001b[39m\u001b[38;5;124m\"\u001b[39m,img)\n\u001b[1;32m----> 6\u001b[0m cv\u001b[38;5;241m.\u001b[39mwaitkey(\u001b[38;5;241m0\u001b[39m)\n",
      "\u001b[1;31mAttributeError\u001b[0m: module 'cv2' has no attribute 'waitkey'"
     ]
    }
   ],
   "source": [
    "import numpy as np \n",
    "import cv2 as cv\n",
    "\n",
    "img=cv.imread(\"data/image_01.png\")\n",
    "cv.imshow(\"my image\",img)\n",
    "cv.waitKey()"
   ]
  },
  {
   "cell_type": "code",
   "execution_count": null,
   "id": "07b78e5c",
   "metadata": {},
   "outputs": [],
   "source": []
  },
  {
   "cell_type": "code",
   "execution_count": null,
   "id": "a17ea8c7",
   "metadata": {},
   "outputs": [],
   "source": []
  },
  {
   "cell_type": "code",
   "execution_count": null,
   "id": "39c7105c",
   "metadata": {},
   "outputs": [],
   "source": []
  },
  {
   "cell_type": "code",
   "execution_count": null,
   "id": "0505c390",
   "metadata": {},
   "outputs": [],
   "source": []
  }
 ],
 "metadata": {
  "kernelspec": {
   "display_name": "base",
   "language": "python",
   "name": "python3"
  },
  "language_info": {
   "codemirror_mode": {
    "name": "ipython",
    "version": 3
   },
   "file_extension": ".py",
   "mimetype": "text/x-python",
   "name": "python",
   "nbconvert_exporter": "python",
   "pygments_lexer": "ipython3",
   "version": "3.11.5"
  }
 },
 "nbformat": 4,
 "nbformat_minor": 5
}
