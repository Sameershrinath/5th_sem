{
 "cells": [
  {
   "cell_type": "markdown",
   "id": "d526ef10",
   "metadata": {},
   "source": [
    "Capturing the image using button "
   ]
  },
  {
   "cell_type": "code",
   "execution_count": 3,
   "id": "7350db3d",
   "metadata": {},
   "outputs": [],
   "source": [
    "import cv2 as cv \n",
    "import numpy as np \n",
    "import matplotlib.pyplot as plt"
   ]
  },
  {
   "cell_type": "code",
   "execution_count": 3,
   "id": "f8d8af38",
   "metadata": {},
   "outputs": [],
   "source": [
    "cam=cv.VideoCapture(0)\n",
    "\n",
    "while True:\n",
    "    _,img=cam.read()\n",
    "\n",
    "    cv.imshow(\"camera\",img)\n",
    "    if cv.waitKey(1)==13:\n",
    "        cv.imwrite(\"selfies/selfie.png\",img)\n",
    "    if cv.waitKey(1)==27:\n",
    "        cam.release()\n",
    "        cv.destroyAllWindows()\n",
    "        break"
   ]
  },
  {
   "cell_type": "markdown",
   "id": "9d901fc2",
   "metadata": {},
   "source": [
    "The problem is same image is getting replaced"
   ]
  },
  {
   "cell_type": "code",
   "execution_count": null,
   "id": "a89d4d1d",
   "metadata": {},
   "outputs": [],
   "source": [
    "\n",
    "# We can use the counter in the name of the file so that it will not be replaced \n",
    "cam=cv.VideoCapture(0)\n",
    "\n",
    "counter=1\n",
    "while True:\n",
    "    _,img=cam.read()\n",
    "\n",
    "    cv.imshow(\"camera\",img)\n",
    "    if cv.waitKey(1)==13:\n",
    "        cv.imwrite(f\"selfies/selfie{str(counter)}.png\",img)\n",
    "        counter+=1\n",
    "    if cv.waitKey(1)==27:\n",
    "        cam.release()\n",
    "        cv.destroyAllWindows()\n",
    "        break"
   ]
  },
  {
   "cell_type": "code",
   "execution_count": null,
   "id": "02caeb6b",
   "metadata": {},
   "outputs": [],
   "source": []
  }
 ],
 "metadata": {
  "kernelspec": {
   "display_name": "base",
   "language": "python",
   "name": "python3"
  },
  "language_info": {
   "codemirror_mode": {
    "name": "ipython",
    "version": 3
   },
   "file_extension": ".py",
   "mimetype": "text/x-python",
   "name": "python",
   "nbconvert_exporter": "python",
   "pygments_lexer": "ipython3",
   "version": "3.11.5"
  }
 },
 "nbformat": 4,
 "nbformat_minor": 5
}
