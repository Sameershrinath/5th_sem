{
 "cells": [
  {
   "cell_type": "markdown",
   "id": "d11f1276",
   "metadata": {},
   "source": [
    "## **Face Detection**"
   ]
  },
  {
   "cell_type": "code",
   "execution_count": 1,
   "id": "468a28b3",
   "metadata": {},
   "outputs": [],
   "source": [
    "import cv2 as cv \n",
    "import numpy as np \n",
    "import matplotlib.pyplot as plt "
   ]
  },
  {
   "cell_type": "code",
   "execution_count": 2,
   "id": "2ec6bb6f",
   "metadata": {},
   "outputs": [],
   "source": [
    "classifier=cv.CascadeClassifier(\"data/haarcascade_frontalface_default.xml\")"
   ]
  },
  {
   "cell_type": "code",
   "execution_count": 6,
   "id": "1334c416",
   "metadata": {},
   "outputs": [],
   "source": [
    "cam = cv.VideoCapture(0)\n",
    "\n",
    "while True:\n",
    "    \n",
    "    _, img = cam.read()\n",
    "    img = cv.flip(img,1)\n",
    "    \n",
    "    \n",
    "    try:\n",
    "        faces = classifier.detectMultiScale(img, 1.1, 2) #(source,scaling_factor,min_neighbours)\n",
    "        for (x,y,w,h) in faces:\n",
    "            cv.rectangle(img, (x,y),(x+w,y+h) , (0,180,0), 2) #(source,coordinates,colour,thickness) rectangle\n",
    "    except:\n",
    "        pass\n",
    "    \n",
    "    \n",
    "    cv.imshow('Frame'  , img )\n",
    "    \n",
    "    if cv.waitKey(1) == 27:\n",
    "        cam.release()\n",
    "        cv.destroyAllWindows()\n",
    "        break"
   ]
  },
  {
   "cell_type": "markdown",
   "id": "d32fab3f",
   "metadata": {},
   "source": [
    "showing only the face"
   ]
  },
  {
   "cell_type": "code",
   "execution_count": 5,
   "id": "5a47618d",
   "metadata": {},
   "outputs": [],
   "source": [
    "cam = cv.VideoCapture(0)\n",
    "\n",
    "while True:\n",
    "    \n",
    "    _, img = cam.read()\n",
    "    img = cv.flip(img,1)\n",
    "    \n",
    "    faces = classifier.detectMultiScale(img, 1.1, 5)\n",
    "    \n",
    "    for f in faces:                             # Going through Each Face Detected\n",
    "        if f[-1] == max(faces[:,-1]):           # Finding the Face with Maximum Area\n",
    "            break \n",
    "\n",
    "    if (len(faces) >= 1):                       # Drawing Rectange on the Face\n",
    "        x = f[0] \n",
    "        y = f[1] \n",
    "        w = f[2]\n",
    "        h = f[3]\n",
    "\n",
    "        cv.rectangle(img, (x,y),(x+w,y+h) , (0,180,0), 2)   \n",
    "        face = img[y:y+h, x:x+w]\n",
    "        \n",
    "        face = cv.resize(face, (256,256))\n",
    "        cv.imshow('Face'   , face)\n",
    "\n",
    "    cv.imshow('Frame'  , img )\n",
    "    \n",
    "    if cv.waitKey(1) == 27:\n",
    "        cam.release()\n",
    "        cv.destroyAllWindows()\n",
    "        break"
   ]
  },
  {
   "cell_type": "markdown",
   "id": "3d5c58cf",
   "metadata": {},
   "source": [
    "Blur on the face"
   ]
  },
  {
   "cell_type": "code",
   "execution_count": 7,
   "id": "9e210212",
   "metadata": {},
   "outputs": [],
   "source": [
    "\n",
    "cam = cv.VideoCapture(0)\n",
    "while True:\n",
    "    \n",
    "    _, img = cam.read()\n",
    "    img = cv.flip(img,1)\n",
    "    faces = classifier.detectMultiScale(img, 1.1, 5)\n",
    "    \n",
    "    for f in faces:\n",
    "        if f[-1] == max(faces[:,-1]):\n",
    "            break\n",
    "\n",
    "    if (len(faces) >= 1):\n",
    "        x = f[0] \n",
    "        y = f[1] \n",
    "        w = f[2]\n",
    "        h = f[3]\n",
    "\n",
    "        face = img[y:y+h, x:x+w]    #Getting the Face Area from Video Feed\n",
    "        face = cv.blur(face, (64,64))    # Applying Blur on the Face\n",
    "        img[y:y+h, x:x+w] = face         # Apply Blured Face on Video Feed\n",
    "        \n",
    "    cv.imshow('Frame'  , img )\n",
    "    cv.imshow('Face'   , face)\n",
    "    if cv.waitKey(1) == 27:\n",
    "        cam.release()\n",
    "        cv.destroyAllWindows()\n",
    "        break"
   ]
  },
  {
   "cell_type": "markdown",
   "id": "9c0a09ac",
   "metadata": {},
   "source": [
    "putting the white on the face"
   ]
  },
  {
   "cell_type": "code",
   "execution_count": 9,
   "id": "6accf8b2",
   "metadata": {},
   "outputs": [],
   "source": [
    "cam = cv.VideoCapture(0)\n",
    "while True:\n",
    "    _, img = cam.read()\n",
    "    img = cv.flip(img, 1)\n",
    "    faces = classifier.detectMultiScale(img, 1.1, 5)\n",
    "\n",
    "    for f in faces:\n",
    "        if f[-1] == max(faces[:, -1]):\n",
    "            break\n",
    "\n",
    "    if len(faces) >= 1:\n",
    "        x, y, w, h = f[0], f[1], f[2], f[3]\n",
    "        img[y:y+h, x:x+w] = 255  # Fill the face region with white\n",
    "\n",
    "    cv.imshow('Frame', img)\n",
    "    if cv.waitKey(1) == 27:\n",
    "        cam.release()\n",
    "        cv.destroyAllWindows()\n",
    "        break\n"
   ]
  },
  {
   "cell_type": "markdown",
   "id": "2da31fd7",
   "metadata": {},
   "source": [
    "putting the dots on face"
   ]
  },
  {
   "cell_type": "code",
   "execution_count": 10,
   "id": "70733ab0",
   "metadata": {},
   "outputs": [],
   "source": [
    "cam = cv.VideoCapture(0)\n",
    "while True:\n",
    "    _, img = cam.read()\n",
    "    img = cv.flip(img, 1)\n",
    "    faces = classifier.detectMultiScale(img, 1.1, 5)\n",
    "\n",
    "    for f in faces:\n",
    "        if f[-1] == max(faces[:, -1]):\n",
    "            break\n",
    "\n",
    "    if len(faces) >= 1:\n",
    "        x, y, w, h = f[0], f[1], f[2], f[3]\n",
    "        step = 20 \n",
    "        for i in range(x, x + w, step):\n",
    "            for j in range(y, y + h, step):\n",
    "                cv.circle(img, (i, j), 3, (0, 0, 255), -1)  \n",
    "\n",
    "    cv.imshow('Frame', img)\n",
    "    if cv.waitKey(1) == 27:\n",
    "        cam.release()\n",
    "        cv.destroyAllWindows()\n",
    "        break\n"
   ]
  },
  {
   "cell_type": "code",
   "execution_count": null,
   "id": "e94b1034",
   "metadata": {},
   "outputs": [],
   "source": []
  },
  {
   "cell_type": "code",
   "execution_count": null,
   "id": "32becbc6",
   "metadata": {},
   "outputs": [],
   "source": []
  }
 ],
 "metadata": {
  "kernelspec": {
   "display_name": "base",
   "language": "python",
   "name": "python3"
  },
  "language_info": {
   "codemirror_mode": {
    "name": "ipython",
    "version": 3
   },
   "file_extension": ".py",
   "mimetype": "text/x-python",
   "name": "python",
   "nbconvert_exporter": "python",
   "pygments_lexer": "ipython3",
   "version": "3.11.5"
  }
 },
 "nbformat": 4,
 "nbformat_minor": 5
}
