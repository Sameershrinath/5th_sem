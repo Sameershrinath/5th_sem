{
 "cells": [
  {
   "cell_type": "markdown",
   "id": "3417b767",
   "metadata": {},
   "source": [
    "# **Recursive Backtracing**"
   ]
  },
  {
   "cell_type": "code",
   "execution_count": 1,
   "id": "cfa1c6ba",
   "metadata": {},
   "outputs": [],
   "source": [
    "# --Make Decisions\n",
    "# --Recursion\n",
    "# --Base Case\n",
    "# --undo decision"
   ]
  },
  {
   "cell_type": "code",
   "execution_count": 4,
   "id": "fba91a1a",
   "metadata": {},
   "outputs": [],
   "source": [
    "# leetcode 78 (subsets)\n",
    "\n",
    "class Solution:\n",
    "    def subsets(self,nums):\n",
    "        n=len(nums)\n",
    "        res,sol= [],[]\n",
    "\n",
    "        def backtrack(i):\n",
    "            if i==n:\n",
    "                res.append(sol[:])\n",
    "                return\n",
    "            \n",
    "            #dont pick num[i]\n",
    "            backtrack(i+1)\n",
    "\n",
    "            #pick num[i]\n",
    "            sol.append(nums[i])\n",
    "            backtrack(i+1)\n",
    "            sol.pop()\n",
    "\n",
    "        backtrack(0)\n",
    "\n",
    "        return res"
   ]
  },
  {
   "cell_type": "code",
   "execution_count": 6,
   "id": "6ad1a452",
   "metadata": {},
   "outputs": [
    {
     "data": {
      "text/plain": [
       "[[], [3], [2], [2, 3], [1], [1, 3], [1, 2], [1, 2, 3]]"
      ]
     },
     "execution_count": 6,
     "metadata": {},
     "output_type": "execute_result"
    }
   ],
   "source": [
    "S=Solution()\n",
    "S.subsets([1,2,3])"
   ]
  },
  {
   "cell_type": "code",
   "execution_count": null,
   "id": "0b0ad826",
   "metadata": {},
   "outputs": [],
   "source": []
  }
 ],
 "metadata": {
  "kernelspec": {
   "display_name": "base",
   "language": "python",
   "name": "python3"
  },
  "language_info": {
   "codemirror_mode": {
    "name": "ipython",
    "version": 3
   },
   "file_extension": ".py",
   "mimetype": "text/x-python",
   "name": "python",
   "nbconvert_exporter": "python",
   "pygments_lexer": "ipython3",
   "version": "3.11.5"
  }
 },
 "nbformat": 4,
 "nbformat_minor": 5
}
