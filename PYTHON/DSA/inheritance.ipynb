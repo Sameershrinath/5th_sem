{
 "cells": [
  {
   "cell_type": "code",
   "execution_count": 8,
   "id": "28b7a727",
   "metadata": {},
   "outputs": [],
   "source": [
    "class shape:\n",
    "    def checkarea(self):\n",
    "        return \"area is checked\"\n",
    "    def typek(self):\n",
    "        return \"I am a shape\"\n",
    "    \n",
    "class square(shape):\n",
    "    def checkarea(self,data):\n",
    "        return data**2\n",
    "    "
   ]
  },
  {
   "cell_type": "code",
   "execution_count": null,
   "id": "294838cf",
   "metadata": {},
   "outputs": [
    {
     "data": {
      "text/plain": [
       "'area is checked'"
      ]
     },
     "execution_count": 9,
     "metadata": {},
     "output_type": "execute_result"
    }
   ],
   "source": [
    "A=shape()\n",
    "A.checkarea()"
   ]
  },
  {
   "cell_type": "code",
   "execution_count": 10,
   "id": "1f29fbe6",
   "metadata": {},
   "outputs": [
    {
     "data": {
      "text/plain": [
       "'I am a shape'"
      ]
     },
     "execution_count": 10,
     "metadata": {},
     "output_type": "execute_result"
    }
   ],
   "source": [
    "B=square()\n",
    "B.checkarea(5)\n",
    "B.typek()"
   ]
  },
  {
   "cell_type": "markdown",
   "id": "ae14aec1",
   "metadata": {},
   "source": [
    "Star pattern"
   ]
  },
  {
   "cell_type": "code",
   "execution_count": 43,
   "id": "d577daf0",
   "metadata": {},
   "outputs": [
    {
     "name": "stdout",
     "output_type": "stream",
     "text": [
      "*********************\n",
      "*\n",
      "*\n",
      "*\n",
      "*\n",
      "********************\n",
      "                   *\n",
      "                   *\n",
      "                   *\n",
      "                   *\n",
      "                   *\n",
      "********************"
     ]
    }
   ],
   "source": [
    "for i in range(20):\n",
    "    print(\"*\",end=\"\")\n",
    "for i in range(5):\n",
    "    print(\"*\")\n",
    "for i in range(20):\n",
    "    if i == 19:\n",
    "        print(\"*\")\n",
    "    else:\n",
    "        print(\"*\",end=\"\")\n",
    "\n",
    "for i in range(5):\n",
    "    for j in range(19):\n",
    "        print(\" \",end=\"\")\n",
    "    print(\"*\")\n",
    "for i in range(20):\n",
    "    print(\"*\",end=\"\")"
   ]
  },
  {
   "cell_type": "code",
   "execution_count": 49,
   "id": "8f097d0b",
   "metadata": {},
   "outputs": [
    {
     "name": "stdout",
     "output_type": "stream",
     "text": [
      "\n",
      "\n",
      " 1\n",
      "\n",
      "  22\n",
      "\n",
      "   333\n",
      "\n",
      "    4444\n",
      "\n"
     ]
    }
   ],
   "source": [
    "for i in range(5):\n",
    "    print(\" \"*i,end=\"\")\n",
    "    for j in range(1,i+1):\n",
    "        print(i,end=\"\")\n",
    "    print(\"\\n\")\n"
   ]
  },
  {
   "cell_type": "code",
   "execution_count": null,
   "id": "86d71dbc",
   "metadata": {},
   "outputs": [],
   "source": []
  }
 ],
 "metadata": {
  "kernelspec": {
   "display_name": "base",
   "language": "python",
   "name": "python3"
  },
  "language_info": {
   "codemirror_mode": {
    "name": "ipython",
    "version": 3
   },
   "file_extension": ".py",
   "mimetype": "text/x-python",
   "name": "python",
   "nbconvert_exporter": "python",
   "pygments_lexer": "ipython3",
   "version": "3.11.5"
  }
 },
 "nbformat": 4,
 "nbformat_minor": 5
}
