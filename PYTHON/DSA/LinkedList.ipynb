{
 "cells": [
  {
   "cell_type": "code",
   "execution_count": null,
   "id": "bc787f47",
   "metadata": {},
   "outputs": [],
   "source": [
    "class SLLNode:\n",
    "    def __init__(self,data,next=None):\n",
    "        self.data=data\n",
    "        self.next=next\n",
    "class Singlylinkedlist:\n",
    "    def __init__(self,head):\n",
    "        self.head=head\n",
    "    def insertatbeg(self,data):\n",
    "        temp=SLLNode(data,self.head)\n",
    "        self.head=temp\n",
    "    def insertatend(self,data):\n",
    "        temp=SLLNode(data)\n",
    "        curr=self.head\n",
    "        while curr.next:\n",
    "            curr=curr.next\n",
    "        curr.next=temp\n",
    "    def insertatmiddle(self,position,data):\n",
    "        temp=SLLNode(data)\n",
    "        curr=self.head\n",
    "        while (position!=1) & (curr!=None):\n",
    "            curr=curr.next\n",
    "            position-=1\n",
    "        temp.next=curr.next\n",
    "        curr.next=temp\n",
    "    def display(self):\n",
    "        curr=self.head\n",
    "        while curr:\n",
    "            print(curr.data,end=\"->\")\n",
    "            curr=curr.next\n",
    "        print(\"none\")"
   ]
  },
  {
   "cell_type": "code",
   "execution_count": 57,
   "id": "85bff33a",
   "metadata": {},
   "outputs": [],
   "source": [
    "new=SLLNode(5)\n",
    "new2=SLLNode(6)\n",
    "new3=SLLNode(7)\n",
    "new4=SLLNode(8)\n",
    "\n",
    "new.next=new2\n",
    "new2.next=new3\n",
    "new3.next=new4"
   ]
  },
  {
   "cell_type": "code",
   "execution_count": 58,
   "id": "5a6c56c8",
   "metadata": {},
   "outputs": [],
   "source": [
    "S1=Singlylinkedlist(new)"
   ]
  },
  {
   "cell_type": "code",
   "execution_count": 59,
   "id": "ee3a6336",
   "metadata": {},
   "outputs": [
    {
     "name": "stdout",
     "output_type": "stream",
     "text": [
      "5->6->7->8->none\n"
     ]
    }
   ],
   "source": [
    "S1.display()"
   ]
  },
  {
   "cell_type": "code",
   "execution_count": 60,
   "id": "e372ceaf",
   "metadata": {},
   "outputs": [],
   "source": [
    "S1.insertatbeg(9)"
   ]
  },
  {
   "cell_type": "code",
   "execution_count": 61,
   "id": "90a3bcbc",
   "metadata": {},
   "outputs": [],
   "source": [
    "S1.insertatend(20)"
   ]
  },
  {
   "cell_type": "code",
   "execution_count": 62,
   "id": "f2b506bd",
   "metadata": {},
   "outputs": [
    {
     "name": "stdout",
     "output_type": "stream",
     "text": [
      "9->5->6->7->8->20->none\n"
     ]
    }
   ],
   "source": [
    "S1.display()"
   ]
  },
  {
   "cell_type": "code",
   "execution_count": 63,
   "id": "775c83aa",
   "metadata": {},
   "outputs": [],
   "source": [
    "S1.insertatmiddle(3,57)"
   ]
  },
  {
   "cell_type": "code",
   "execution_count": 64,
   "id": "492453bb",
   "metadata": {},
   "outputs": [
    {
     "name": "stdout",
     "output_type": "stream",
     "text": [
      "9->5->6->57->7->8->20->none\n"
     ]
    }
   ],
   "source": [
    "S1.display()"
   ]
  },
  {
   "cell_type": "code",
   "execution_count": 65,
   "id": "dcb1f189",
   "metadata": {},
   "outputs": [],
   "source": [
    "# Reverse the linked list using the Recursino\n",
    "def reverse(node):\n",
    "    if node==None:\n",
    "        return\n",
    "    reverse(node.next)\n",
    "    print(node.data)"
   ]
  },
  {
   "cell_type": "code",
   "execution_count": 67,
   "id": "265be352",
   "metadata": {},
   "outputs": [
    {
     "name": "stdout",
     "output_type": "stream",
     "text": [
      "20\n",
      "8\n",
      "7\n",
      "57\n",
      "6\n",
      "5\n"
     ]
    }
   ],
   "source": [
    "reverse(new)"
   ]
  },
  {
   "cell_type": "code",
   "execution_count": null,
   "id": "bdcdc9a7",
   "metadata": {},
   "outputs": [],
   "source": [
    "DLL"
   ]
  }
 ],
 "metadata": {
  "kernelspec": {
   "display_name": "base",
   "language": "python",
   "name": "python3"
  },
  "language_info": {
   "codemirror_mode": {
    "name": "ipython",
    "version": 3
   },
   "file_extension": ".py",
   "mimetype": "text/x-python",
   "name": "python",
   "nbconvert_exporter": "python",
   "pygments_lexer": "ipython3",
   "version": "3.11.5"
  }
 },
 "nbformat": 4,
 "nbformat_minor": 5
}
