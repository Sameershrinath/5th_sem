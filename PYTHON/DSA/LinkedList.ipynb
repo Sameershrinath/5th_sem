{
 "cells": [
  {
   "cell_type": "markdown",
   "id": "def218ba",
   "metadata": {},
   "source": [
    "# **Singly Linked list**"
   ]
  },
  {
   "cell_type": "code",
   "execution_count": 39,
   "id": "bc787f47",
   "metadata": {},
   "outputs": [],
   "source": [
    "class SLLNode:\n",
    "    def __init__(self,data,next=None):\n",
    "        self.data=data\n",
    "        self.next=next\n",
    "class Singlylinkedlist:\n",
    "    def __init__(self,head):\n",
    "        self.head=head\n",
    "    \n",
    "    def __str__(self):\n",
    "        return str(self.head.data)\n",
    "    #this __str__ method will help to directly print the class instace and get the value of head\n",
    "\n",
    "    def insertatbeg(self,data):\n",
    "        temp=SLLNode(data,self.head)\n",
    "        self.head=temp\n",
    "    def insertatend(self,data):\n",
    "        temp=SLLNode(data)\n",
    "        curr=self.head\n",
    "        while curr.next:\n",
    "            curr=curr.next\n",
    "        curr.next=temp\n",
    "    def insertatmiddle(self,position,data):\n",
    "        temp=SLLNode(data)\n",
    "        curr=self.head\n",
    "        while (position!=1) & (curr!=None):\n",
    "            curr=curr.next\n",
    "            position-=1\n",
    "        temp.next=curr.next\n",
    "        curr.next=temp\n",
    "    def display(self):\n",
    "        curr=self.head\n",
    "        while curr:\n",
    "            print(curr.data,end=\"->\")\n",
    "            curr=curr.next\n",
    "        print(\"none\")"
   ]
  },
  {
   "cell_type": "code",
   "execution_count": 27,
   "id": "85bff33a",
   "metadata": {},
   "outputs": [],
   "source": [
    "new=SLLNode(5)\n",
    "new2=SLLNode(6)\n",
    "new3=SLLNode(7)\n",
    "new4=SLLNode(8)\n",
    "\n",
    "new.next=new2\n",
    "new2.next=new3\n",
    "new3.next=new4"
   ]
  },
  {
   "cell_type": "code",
   "execution_count": 28,
   "id": "5a6c56c8",
   "metadata": {},
   "outputs": [],
   "source": [
    "S1=Singlylinkedlist(new)"
   ]
  },
  {
   "cell_type": "code",
   "execution_count": 29,
   "id": "ee3a6336",
   "metadata": {},
   "outputs": [
    {
     "name": "stdout",
     "output_type": "stream",
     "text": [
      "5->6->7->8->none\n"
     ]
    }
   ],
   "source": [
    "S1.display()"
   ]
  },
  {
   "cell_type": "code",
   "execution_count": 30,
   "id": "e372ceaf",
   "metadata": {},
   "outputs": [],
   "source": [
    "S1.insertatbeg(9)"
   ]
  },
  {
   "cell_type": "code",
   "execution_count": 31,
   "id": "90a3bcbc",
   "metadata": {},
   "outputs": [],
   "source": [
    "S1.insertatend(20)"
   ]
  },
  {
   "cell_type": "code",
   "execution_count": 32,
   "id": "f2b506bd",
   "metadata": {},
   "outputs": [
    {
     "name": "stdout",
     "output_type": "stream",
     "text": [
      "9->5->6->7->8->20->none\n"
     ]
    }
   ],
   "source": [
    "S1.display()"
   ]
  },
  {
   "cell_type": "code",
   "execution_count": 33,
   "id": "775c83aa",
   "metadata": {},
   "outputs": [],
   "source": [
    "S1.insertatmiddle(3,57)"
   ]
  },
  {
   "cell_type": "code",
   "execution_count": 34,
   "id": "492453bb",
   "metadata": {},
   "outputs": [
    {
     "name": "stdout",
     "output_type": "stream",
     "text": [
      "9->5->6->57->7->8->20->none\n"
     ]
    }
   ],
   "source": [
    "S1.display()"
   ]
  },
  {
   "cell_type": "code",
   "execution_count": 35,
   "id": "dcb1f189",
   "metadata": {},
   "outputs": [],
   "source": [
    "# Reverse the linked list using the Recursino\n",
    "def reverse(node):\n",
    "    if node==None:\n",
    "        return\n",
    "    reverse(node.next)\n",
    "    print(node.data)"
   ]
  },
  {
   "cell_type": "code",
   "execution_count": 36,
   "id": "265be352",
   "metadata": {},
   "outputs": [
    {
     "name": "stdout",
     "output_type": "stream",
     "text": [
      "20\n",
      "8\n",
      "7\n",
      "57\n",
      "6\n",
      "5\n"
     ]
    }
   ],
   "source": [
    "reverse(new)"
   ]
  },
  {
   "cell_type": "code",
   "execution_count": 38,
   "id": "bdcdc9a7",
   "metadata": {},
   "outputs": [
    {
     "name": "stdout",
     "output_type": "stream",
     "text": [
      "9\n"
     ]
    }
   ],
   "source": [
    "print(S1)"
   ]
  },
  {
   "cell_type": "markdown",
   "id": "9d1df6c2",
   "metadata": {},
   "source": [
    "# **Doubly Linked list**"
   ]
  },
  {
   "cell_type": "code",
   "execution_count": 42,
   "id": "9d712b22",
   "metadata": {},
   "outputs": [],
   "source": [
    "class DLLNode:\n",
    "    def __init__(self,data,prev=None,next=None):\n",
    "        self.data=data\n",
    "        self.prev=prev\n",
    "        self.next=next\n",
    "    def __str__(self):\n",
    "        return str(self.data)\n",
    "\n",
    "A=DLLNode(5)\n",
    "B=DLLNode(6,A)\n",
    "C=DLLNode(7,B)\n",
    "D=DLLNode(8,C)\n",
    "\n",
    "A.next=B\n",
    "B.next=C\n",
    "C.next=D\n",
    "\n",
    "def displayDLL(node):\n",
    "    curr=node\n",
    "    while curr:\n",
    "        print(curr.data,end=\"<->\")\n",
    "        curr=curr.next\n",
    "    print(None)"
   ]
  },
  {
   "cell_type": "code",
   "execution_count": 43,
   "id": "205e36f7",
   "metadata": {},
   "outputs": [
    {
     "name": "stdout",
     "output_type": "stream",
     "text": [
      "5<->6<->7<->8<->None\n"
     ]
    }
   ],
   "source": [
    "displayDLL(A)"
   ]
  },
  {
   "cell_type": "code",
   "execution_count": 48,
   "id": "53e757f3",
   "metadata": {},
   "outputs": [],
   "source": [
    "# Reverse the DLL using the recursion \n",
    "\n",
    "def reverse(node):\n",
    "    if node==None:\n",
    "        return\n",
    "    reverse(node.next)\n",
    "    print(node.data,end=\" \")"
   ]
  },
  {
   "cell_type": "code",
   "execution_count": 49,
   "id": "79b3580e",
   "metadata": {},
   "outputs": [
    {
     "name": "stdout",
     "output_type": "stream",
     "text": [
      "8 7 6 5 "
     ]
    }
   ],
   "source": [
    "reverse(A)"
   ]
  },
  {
   "cell_type": "markdown",
   "id": "79c18d65",
   "metadata": {},
   "source": [
    "We can also write the code for\n",
    "\n",
    "<li>Add at beggining</li>\n",
    "<li>Add at the end</li>\n",
    "<li>Add in the middle</li>\n",
    "\n",
    "We can also \n",
    "<li>remove from beggining</li>\n",
    "<li>remove from the end</li>\n",
    "<li>remove  the middle</li>"
   ]
  },
  {
   "cell_type": "code",
   "execution_count": 57,
   "id": "094adc2b",
   "metadata": {},
   "outputs": [],
   "source": [
    "#linked list can also contain more than one data\n",
    "class advNode:\n",
    "    def __init__(self,name,age,next=None):\n",
    "        self.name=name\n",
    "        self.age=age\n",
    "        self.next=next\n",
    "\n",
    "\n",
    "stu1=advNode(\"sameer\",25)\n",
    "stu2=advNode(\"sam\",22)\n",
    "stu3=advNode(\"samir\",20)\n",
    "stu4=advNode(\"sonal\",16)\n",
    "\n",
    "\n",
    "stu1.next=stu2\n",
    "stu2.next=stu3\n",
    "stu3.next=stu4\n",
    "\n",
    "def displayadv(nod):\n",
    "    curr=nod\n",
    "    while curr:\n",
    "        print(f\"Name : {curr.name} age : {curr.age}\",end=\"\\n\")\n",
    "        curr=curr.next\n",
    "    print(\"End of Node\")"
   ]
  },
  {
   "cell_type": "code",
   "execution_count": 58,
   "id": "6c4e964f",
   "metadata": {},
   "outputs": [
    {
     "name": "stdout",
     "output_type": "stream",
     "text": [
      "Name : sameer age : 25\n",
      "Name : sam age : 22\n",
      "Name : samir age : 20\n",
      "Name : sonal age : 16\n",
      "End of Node\n"
     ]
    }
   ],
   "source": [
    "displayadv(stu1)"
   ]
  },
  {
   "cell_type": "markdown",
   "id": "4a868356",
   "metadata": {},
   "source": [
    "We can also write the code for\n",
    "\n",
    "<li>Add at beggining</li>\n",
    "<li>Add at the end</li>\n",
    "<li>Add in the middle</li>\n",
    "\n",
    "We can also \n",
    "<li>remove from beggining</li>\n",
    "<li>remove from the end</li>\n",
    "<li>remove  the middle</li>"
   ]
  }
 ],
 "metadata": {
  "kernelspec": {
   "display_name": "base",
   "language": "python",
   "name": "python3"
  },
  "language_info": {
   "codemirror_mode": {
    "name": "ipython",
    "version": 3
   },
   "file_extension": ".py",
   "mimetype": "text/x-python",
   "name": "python",
   "nbconvert_exporter": "python",
   "pygments_lexer": "ipython3",
   "version": "3.11.5"
  }
 },
 "nbformat": 4,
 "nbformat_minor": 5
}
