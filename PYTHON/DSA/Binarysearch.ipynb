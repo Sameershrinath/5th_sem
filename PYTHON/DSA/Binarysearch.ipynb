{
 "cells": [
  {
   "cell_type": "code",
   "execution_count": null,
   "id": "35f93276",
   "metadata": {},
   "outputs": [],
   "source": [
    "# Binary Search is the process of searching an value in the sorted array in O(logn) time complexity\n",
    "# -- First make the three value --\n",
    "# left\n",
    "# right\n",
    "# mid = left + (right-left)//2 or (left+right)//2"
   ]
  },
  {
   "cell_type": "code",
   "execution_count": null,
   "id": "7ca5ca40",
   "metadata": {},
   "outputs": [],
   "source": [
    "def binary_search(arr,tar):\n",
    "    N=len(arr)\n",
    "    left=0\n",
    "    right=N-1\n",
    "    while left<=right:\n",
    "        mid=(left+right)//2\n",
    "        if arr[mid]==tar:\n",
    "            return mid\n",
    "        elif arr[mid]<tar:\n",
    "            left=mid+1\n",
    "        else:\n",
    "            right=mid-1\n",
    "    return f\"Target value doesnot exist in the array\"\n"
   ]
  },
  {
   "cell_type": "code",
   "execution_count": null,
   "id": "ac5abc1c",
   "metadata": {},
   "outputs": [],
   "source": [
    "array1=[1,2,3,4,5,6,7,8,9]\n",
    "# only the sorted array work with the Binary Search\n",
    "print(binary_search(array1,52))"
   ]
  },
  {
   "cell_type": "code",
   "execution_count": null,
   "id": "767c645e",
   "metadata": {},
   "outputs": [],
   "source": [
    "# here We have used the another method to find the mid value as it will not overflow the integer value\n",
    "\n",
    "def binary_search2(arr,tar):\n",
    "    N=len(arr)\n",
    "    left=0\n",
    "    right=N-1\n",
    "    while left<=right:\n",
    "        mid=left+(right-left)//2\n",
    "        if arr[mid]==tar:\n",
    "            return mid\n",
    "        elif arr[mid]<tar:\n",
    "            left=mid+1\n",
    "        else:\n",
    "            right=mid-1\n",
    "    return f\"Target value doesnot exist in the array\"\n"
   ]
  },
  {
   "cell_type": "code",
   "execution_count": null,
   "id": "6549d8f8",
   "metadata": {},
   "outputs": [],
   "source": [
    "array2=[11,12,13,14,15,16,17,18,19]\n",
    "# only the sorted array work with the Binary Search\n",
    "print(binary_search2(array2,18))"
   ]
  },
  {
   "cell_type": "code",
   "execution_count": null,
   "id": "8ed7f239",
   "metadata": {},
   "outputs": [],
   "source": [
    "#Binary search for the first False value {T,T,T,T,F,F,F,F,F}"
   ]
  },
  {
   "cell_type": "code",
   "execution_count": 3,
   "id": "a344e82d",
   "metadata": {},
   "outputs": [],
   "source": [
    "# here We have used the another method to find the mid value as it will not overflow the integer value\n",
    "\n",
    "def binary_search_true_false(arr,tar):\n",
    "    N=len(arr)\n",
    "    left=0\n",
    "    right=N-1\n",
    "    while left<=right:\n",
    "        mid=left+(right-left)//2\n",
    "        if mid==left:\n",
    "            return mid\n",
    "        elif arr[mid]!=tar:\n",
    "            left=mid+1\n",
    "        elif arr[mid]==tar:\n",
    "            right=mid-1\n",
    "    return f\"Target value doesnot exist in the array\"\n"
   ]
  },
  {
   "cell_type": "code",
   "execution_count": 15,
   "id": "f7bbcf41",
   "metadata": {},
   "outputs": [
    {
     "data": {
      "text/plain": [
       "6"
      ]
     },
     "execution_count": 15,
     "metadata": {},
     "output_type": "execute_result"
    }
   ],
   "source": [
    "arr_tr=[\"True\",\"True\",\"True\",\"True\",\"True\",\"True\",\"True\",\"False\",\"False\",\"False\",\"False\"]\n",
    "binary_search_true_false(arr_tr,\"False\")\n"
   ]
  },
  {
   "cell_type": "code",
   "execution_count": null,
   "id": "f7bac575",
   "metadata": {},
   "outputs": [],
   "source": []
  }
 ],
 "metadata": {
  "kernelspec": {
   "display_name": "base",
   "language": "python",
   "name": "python3"
  },
  "language_info": {
   "codemirror_mode": {
    "name": "ipython",
    "version": 3
   },
   "file_extension": ".py",
   "mimetype": "text/x-python",
   "name": "python",
   "nbconvert_exporter": "python",
   "pygments_lexer": "ipython3",
   "version": "3.11.5"
  }
 },
 "nbformat": 4,
 "nbformat_minor": 5
}
