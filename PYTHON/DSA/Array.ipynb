{
 "cells": [
  {
   "cell_type": "markdown",
   "id": "76acdd5c",
   "metadata": {},
   "source": [
    "# **Array**"
   ]
  },
  {
   "cell_type": "code",
   "execution_count": 15,
   "id": "628c56aa",
   "metadata": {},
   "outputs": [],
   "source": [
    "# In python arrays are Dynamic in nature\n",
    "\n",
    "A=[1,2,3,4,5,6,7,8,9]\n",
    "\n",
    "# Arrays are the mutable in nature\n",
    "# We can access the elements by using the index\n",
    "# In array Index starts from 0\n"
   ]
  },
  {
   "cell_type": "code",
   "execution_count": 16,
   "id": "4a911440",
   "metadata": {},
   "outputs": [
    {
     "data": {
      "text/plain": [
       "True"
      ]
     },
     "execution_count": 16,
     "metadata": {},
     "output_type": "execute_result"
    }
   ],
   "source": [
    "5 in A\n",
    "# O(n)\n",
    "# It searches the element in the array and return true or false"
   ]
  },
  {
   "cell_type": "code",
   "execution_count": 17,
   "id": "42c1760c",
   "metadata": {},
   "outputs": [
    {
     "data": {
      "text/plain": [
       "[1, 2, 3, 4, 5, 6, 7, 8, 9, 10]"
      ]
     },
     "execution_count": 17,
     "metadata": {},
     "output_type": "execute_result"
    }
   ],
   "source": [
    "A.append(10)\n",
    "A\n",
    "# O(1)"
   ]
  },
  {
   "cell_type": "code",
   "execution_count": null,
   "id": "aea601d6",
   "metadata": {},
   "outputs": [
    {
     "data": {
      "text/plain": [
       "[1, 2, 3, 4, 5, 6, 7, 8, 9]"
      ]
     },
     "execution_count": 18,
     "metadata": {},
     "output_type": "execute_result"
    }
   ],
   "source": [
    "A.pop()\n",
    "# O(1)\n",
    "A"
   ]
  },
  {
   "cell_type": "code",
   "execution_count": null,
   "id": "c933f334",
   "metadata": {},
   "outputs": [
    {
     "data": {
      "text/plain": [
       "[1, 2, 4, 5, 6, 7, 8, 9]"
      ]
     },
     "execution_count": 19,
     "metadata": {},
     "output_type": "execute_result"
    }
   ],
   "source": [
    "A.pop(2)\n",
    "A\n",
    "# O(n)"
   ]
  },
  {
   "cell_type": "code",
   "execution_count": 21,
   "id": "9554c4c9",
   "metadata": {},
   "outputs": [
    {
     "data": {
      "text/plain": [
       "[1, 2, 50, 50, 4, 5, 6, 7, 8, 9]"
      ]
     },
     "execution_count": 21,
     "metadata": {},
     "output_type": "execute_result"
    }
   ],
   "source": [
    "A.insert(2,50)\n",
    "# O(n)\n",
    "A"
   ]
  },
  {
   "cell_type": "code",
   "execution_count": 23,
   "id": "e47706d0",
   "metadata": {},
   "outputs": [
    {
     "data": {
      "text/plain": [
       "10"
      ]
     },
     "execution_count": 23,
     "metadata": {},
     "output_type": "execute_result"
    }
   ],
   "source": [
    "len(A)\n",
    "# O(1) - It is the property of the Array in the python so its takes only constant time"
   ]
  },
  {
   "cell_type": "code",
   "execution_count": null,
   "id": "38a99269",
   "metadata": {},
   "outputs": [],
   "source": [
    "` `"
   ]
  }
 ],
 "metadata": {
  "kernelspec": {
   "display_name": "base",
   "language": "python",
   "name": "python3"
  },
  "language_info": {
   "codemirror_mode": {
    "name": "ipython",
    "version": 3
   },
   "file_extension": ".py",
   "mimetype": "text/x-python",
   "name": "python",
   "nbconvert_exporter": "python",
   "pygments_lexer": "ipython3",
   "version": "3.11.5"
  }
 },
 "nbformat": 4,
 "nbformat_minor": 5
}
