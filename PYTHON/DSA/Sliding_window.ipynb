{
 "cells": [
  {
   "cell_type": "markdown",
   "id": "bdce7ed8",
   "metadata": {},
   "source": [
    "# **Sliding window**"
   ]
  },
  {
   "cell_type": "markdown",
   "id": "c63fb8ed",
   "metadata": {},
   "source": [
    "## **Find the longest substring (variable window)**"
   ]
  },
  {
   "cell_type": "code",
   "execution_count": 5,
   "id": "201a1e14",
   "metadata": {},
   "outputs": [],
   "source": [
    "# leetcode 3\n",
    "\n",
    "class Solution:\n",
    "    def lengthOfLongestSubstring(self,s):\n",
    "        l=0\n",
    "        sett=set()\n",
    "        longest=0\n",
    "        n=len(s)\n",
    "        for r in range(n):\n",
    "            while s[r] in sett:\n",
    "                sett.remove(s[l])\n",
    "                l+=1\n",
    "\n",
    "            w=(r-l)+1\n",
    "            longest=max(longest,w)\n",
    "            sett.add(s[r])\n",
    "        return longest\n"
   ]
  },
  {
   "cell_type": "code",
   "execution_count": 6,
   "id": "66164bb3",
   "metadata": {},
   "outputs": [],
   "source": [
    "S=Solution()"
   ]
  },
  {
   "cell_type": "code",
   "execution_count": 7,
   "id": "2500e1e5",
   "metadata": {},
   "outputs": [
    {
     "data": {
      "text/plain": [
       "3"
      ]
     },
     "execution_count": 7,
     "metadata": {},
     "output_type": "execute_result"
    }
   ],
   "source": [
    "S.lengthOfLongestSubstring('abcababb')"
   ]
  },
  {
   "cell_type": "code",
   "execution_count": null,
   "id": "c2a9ee8f",
   "metadata": {},
   "outputs": [],
   "source": []
  }
 ],
 "metadata": {
  "kernelspec": {
   "display_name": "base",
   "language": "python",
   "name": "python3"
  },
  "language_info": {
   "codemirror_mode": {
    "name": "ipython",
    "version": 3
   },
   "file_extension": ".py",
   "mimetype": "text/x-python",
   "name": "python",
   "nbconvert_exporter": "python",
   "pygments_lexer": "ipython3",
   "version": "3.11.5"
  }
 },
 "nbformat": 4,
 "nbformat_minor": 5
}
