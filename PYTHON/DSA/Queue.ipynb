{
 "cells": [
  {
   "cell_type": "markdown",
   "id": "8b1f227b",
   "metadata": {},
   "source": [
    "# **Queue (FIFO)**"
   ]
  },
  {
   "cell_type": "code",
   "execution_count": null,
   "id": "4987d491",
   "metadata": {},
   "outputs": [],
   "source": [
    "# The Principal of the queue is the FIFO (First in first out)\n",
    "# It is the similar to the movie ticket line.\n",
    "# -- Operation --\n",
    "# Enqueue\n",
    "# Dequeue\n",
    "# peek\n",
    "# isEmpty"
   ]
  },
  {
   "cell_type": "markdown",
   "id": "16c6dd73",
   "metadata": {},
   "source": [
    "### **Queue using the Dynamic Array**\n",
    "### Enqueue is having the O(1) time complexity but Dequeue is having O(n)"
   ]
  },
  {
   "cell_type": "code",
   "execution_count": 21,
   "id": "20ae5855",
   "metadata": {},
   "outputs": [],
   "source": [
    "class Queue:\n",
    "    def __init__(self):\n",
    "        self.li=[]\n",
    "    def __str__(self):\n",
    "        return str(self.li)\n",
    "    def enque(self,data):\n",
    "        self.li.append(data)\n",
    "    def dequeue(self):\n",
    "        if self.li:\n",
    "            deleted=self.li.pop(0) # this will delete the element at the 0th index \n",
    "            print(deleted)\n",
    "        else:\n",
    "            print(\"Queue is empty\")\n",
    "    def peek(self):\n",
    "        if self.li:\n",
    "            print(self.li[0])\n",
    "        else:\n",
    "            print(\"Queue is empty\")\n",
    "    def isEmpty(self):\n",
    "        if self.li:\n",
    "            print(False)\n",
    "        else:\n",
    "            print(True)"
   ]
  },
  {
   "cell_type": "code",
   "execution_count": 31,
   "id": "12ecf2cd",
   "metadata": {},
   "outputs": [
    {
     "name": "stdout",
     "output_type": "stream",
     "text": [
      "True\n",
      "[1, 2, 3, 4]\n"
     ]
    }
   ],
   "source": [
    "queue1=Queue()\n",
    "queue1.isEmpty()\n",
    "queue1.enque(1)\n",
    "queue1.enque(2)\n",
    "queue1.enque(3)\n",
    "queue1.enque(4)\n",
    "print(queue1)"
   ]
  },
  {
   "cell_type": "code",
   "execution_count": 32,
   "id": "0780de1e",
   "metadata": {},
   "outputs": [
    {
     "name": "stdout",
     "output_type": "stream",
     "text": [
      "1\n"
     ]
    }
   ],
   "source": [
    "queue1.peek()"
   ]
  },
  {
   "cell_type": "code",
   "execution_count": 33,
   "id": "f6913b87",
   "metadata": {},
   "outputs": [
    {
     "name": "stdout",
     "output_type": "stream",
     "text": [
      "False\n"
     ]
    }
   ],
   "source": [
    "queue1.isEmpty()"
   ]
  },
  {
   "cell_type": "code",
   "execution_count": 34,
   "id": "6e546422",
   "metadata": {},
   "outputs": [
    {
     "name": "stdout",
     "output_type": "stream",
     "text": [
      "1\n"
     ]
    }
   ],
   "source": [
    "queue1.dequeue()"
   ]
  },
  {
   "cell_type": "code",
   "execution_count": 35,
   "id": "d6febbae",
   "metadata": {},
   "outputs": [
    {
     "name": "stdout",
     "output_type": "stream",
     "text": [
      "2\n"
     ]
    }
   ],
   "source": [
    "queue1.dequeue()"
   ]
  },
  {
   "cell_type": "code",
   "execution_count": 36,
   "id": "ac2a0d5e",
   "metadata": {},
   "outputs": [
    {
     "name": "stdout",
     "output_type": "stream",
     "text": [
      "3\n"
     ]
    }
   ],
   "source": [
    "queue1.dequeue()"
   ]
  },
  {
   "cell_type": "code",
   "execution_count": 37,
   "id": "d51aebeb",
   "metadata": {},
   "outputs": [
    {
     "name": "stdout",
     "output_type": "stream",
     "text": [
      "4\n"
     ]
    }
   ],
   "source": [
    "queue1.dequeue()"
   ]
  },
  {
   "cell_type": "code",
   "execution_count": 38,
   "id": "e99b47bc",
   "metadata": {},
   "outputs": [
    {
     "name": "stdout",
     "output_type": "stream",
     "text": [
      "Queue is empty\n"
     ]
    }
   ],
   "source": [
    "queue1.dequeue()"
   ]
  },
  {
   "cell_type": "code",
   "execution_count": 39,
   "id": "2531f872",
   "metadata": {},
   "outputs": [
    {
     "name": "stdout",
     "output_type": "stream",
     "text": [
      "True\n"
     ]
    }
   ],
   "source": [
    "queue1.isEmpty()"
   ]
  },
  {
   "cell_type": "markdown",
   "id": "c750001e",
   "metadata": {},
   "source": [
    "## **Stack Using the Linked List**"
   ]
  },
  {
   "cell_type": "markdown",
   "id": "486326c2",
   "metadata": {},
   "source": [
    "Using Link-List to perform Queue takes O(1) for enque using tail and O(1) for deque using head."
   ]
  },
  {
   "cell_type": "code",
   "execution_count": null,
   "id": "3d739992",
   "metadata": {},
   "outputs": [],
   "source": [
    "class NodeQueue:\n",
    "    def __init__(self,data,next):\n",
    "        self.data=data\n",
    "        self.next=next\n",
    "class QueueLL:\n",
    "    def __init__(self,head):\n",
    "        self.head=head\n",
    "        self.tail=None\n",
    "    def enque(self,data):\n",
    "        temp=NodeQueue(data)\n",
    "        if self.head:\n",
    "            temp.next=self.head\n",
    "            self.head=temp\n",
    "            self.tail="
   ]
  },
  {
   "cell_type": "code",
   "execution_count": null,
   "id": "f2f20111",
   "metadata": {},
   "outputs": [],
   "source": [
    "\n"
   ]
  },
  {
   "cell_type": "code",
   "execution_count": null,
   "id": "08e163f4",
   "metadata": {},
   "outputs": [],
   "source": []
  },
  {
   "cell_type": "code",
   "execution_count": null,
   "id": "9f01856d",
   "metadata": {},
   "outputs": [],
   "source": []
  }
 ],
 "metadata": {
  "kernelspec": {
   "display_name": "base",
   "language": "python",
   "name": "python3"
  },
  "language_info": {
   "codemirror_mode": {
    "name": "ipython",
    "version": 3
   },
   "file_extension": ".py",
   "mimetype": "text/x-python",
   "name": "python",
   "nbconvert_exporter": "python",
   "pygments_lexer": "ipython3",
   "version": "3.11.5"
  }
 },
 "nbformat": 4,
 "nbformat_minor": 5
}
