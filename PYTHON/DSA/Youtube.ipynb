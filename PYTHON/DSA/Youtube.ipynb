{
 "cells": [
  {
   "cell_type": "code",
   "execution_count": 9,
   "id": "d64ad1c8",
   "metadata": {},
   "outputs": [],
   "source": [
    "# How can I swap two elements in the list\n",
    "li=[1,2,3]\n",
    "li[0],li[2]=li[2],li[0]"
   ]
  },
  {
   "cell_type": "code",
   "execution_count": 10,
   "id": "17a5cf69",
   "metadata": {},
   "outputs": [
    {
     "data": {
      "text/plain": [
       "[3, 2, 1]"
      ]
     },
     "execution_count": 10,
     "metadata": {},
     "output_type": "execute_result"
    }
   ],
   "source": [
    "li"
   ]
  },
  {
   "cell_type": "code",
   "execution_count": 17,
   "id": "59e53095",
   "metadata": {},
   "outputs": [],
   "source": [
    "# Create the list of even numbers upto 100\n",
    "even_num=[i for i in range(0,101) if i%2==0]\n"
   ]
  },
  {
   "cell_type": "code",
   "execution_count": 19,
   "id": "e8b23120",
   "metadata": {},
   "outputs": [
    {
     "name": "stdout",
     "output_type": "stream",
     "text": [
      "[0, 2, 4, 6, 8, 10, 12, 14, 16, 18, 20, 22, 24, 26, 28, 30, 32, 34, 36, 38, 40, 42, 44, 46, 48, 50, 52, 54, 56, 58, 60, 62, 64, 66, 68, 70, 72, 74, 76, 78, 80, 82, 84, 86, 88, 90, 92, 94, 96, 98, 100]\n"
     ]
    }
   ],
   "source": [
    "print(even_num)"
   ]
  },
  {
   "cell_type": "code",
   "execution_count": 9,
   "id": "d1eefcdc",
   "metadata": {},
   "outputs": [],
   "source": [
    "# Q: How to remove duplicates from a list?\n",
    "\n",
    "li = [1, 2, 2, 3, 1, 1, 2, 3, 3, 1, 4]\n",
    "li1=list(set(li))\n"
   ]
  },
  {
   "cell_type": "code",
   "execution_count": 11,
   "id": "5f677573",
   "metadata": {},
   "outputs": [
    {
     "data": {
      "text/plain": [
       "list"
      ]
     },
     "execution_count": 11,
     "metadata": {},
     "output_type": "execute_result"
    }
   ],
   "source": [
    "type(li1)"
   ]
  },
  {
   "cell_type": "code",
   "execution_count": null,
   "id": "2201061c",
   "metadata": {},
   "outputs": [],
   "source": []
  },
  {
   "cell_type": "code",
   "execution_count": null,
   "id": "6f871997",
   "metadata": {},
   "outputs": [],
   "source": []
  }
 ],
 "metadata": {
  "kernelspec": {
   "display_name": "base",
   "language": "python",
   "name": "python3"
  },
  "language_info": {
   "codemirror_mode": {
    "name": "ipython",
    "version": 3
   },
   "file_extension": ".py",
   "mimetype": "text/x-python",
   "name": "python",
   "nbconvert_exporter": "python",
   "pygments_lexer": "ipython3",
   "version": "3.11.5"
  }
 },
 "nbformat": 4,
 "nbformat_minor": 5
}
