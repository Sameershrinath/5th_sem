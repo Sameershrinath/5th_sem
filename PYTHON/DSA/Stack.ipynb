{
 "cells": [
  {
   "cell_type": "markdown",
   "id": "a00afe2c",
   "metadata": {},
   "source": [
    "# **Stack**"
   ]
  },
  {
   "cell_type": "code",
   "execution_count": 48,
   "id": "bdf8a94b",
   "metadata": {},
   "outputs": [],
   "source": [
    "# it follow the principal of the first in last out or Last in Frist out (LIFO)\n",
    "# -- Operations to include --\n",
    "# Push \n",
    "# Pop\n",
    "# peek\n",
    "# isEmpty"
   ]
  },
  {
   "cell_type": "code",
   "execution_count": 49,
   "id": "4a90dbdf",
   "metadata": {},
   "outputs": [],
   "source": [
    "class Stack:\n",
    "    def __init__(self):\n",
    "        self.li=[]\n",
    "    def __str__(self):\n",
    "        return str(self.li)\n",
    "    def push(self,data):\n",
    "        self.li.append(data)\n",
    "    def pop(self):\n",
    "        if self.li:\n",
    "            return self.li.pop()\n",
    "    def peek(self):\n",
    "        return self.li[-1]\n",
    "    def isEmpty(self):\n",
    "        if self.li:\n",
    "            return False\n",
    "        else:\n",
    "            return True\n",
    "    "
   ]
  },
  {
   "cell_type": "code",
   "execution_count": 50,
   "id": "4b9ac3be",
   "metadata": {},
   "outputs": [],
   "source": [
    "stk=Stack()"
   ]
  },
  {
   "cell_type": "code",
   "execution_count": 51,
   "id": "9a279737",
   "metadata": {},
   "outputs": [
    {
     "name": "stdout",
     "output_type": "stream",
     "text": [
      "True\n",
      "[1, 2, 3, 4]\n"
     ]
    }
   ],
   "source": [
    "print(stk.isEmpty())\n",
    "stk.push(1)\n",
    "stk.push(2)\n",
    "stk.push(3)\n",
    "stk.push(4)\n",
    "print(stk)"
   ]
  },
  {
   "cell_type": "code",
   "execution_count": 52,
   "id": "2c433fdc",
   "metadata": {},
   "outputs": [
    {
     "name": "stdout",
     "output_type": "stream",
     "text": [
      "4\n",
      "[1, 2, 3]\n"
     ]
    }
   ],
   "source": [
    "print(stk.peek())\n",
    "stk.pop()\n",
    "print(stk)"
   ]
  },
  {
   "cell_type": "code",
   "execution_count": 53,
   "id": "6b04faa5",
   "metadata": {},
   "outputs": [
    {
     "data": {
      "text/plain": [
       "False"
      ]
     },
     "execution_count": 53,
     "metadata": {},
     "output_type": "execute_result"
    }
   ],
   "source": [
    "stk.isEmpty()"
   ]
  },
  {
   "cell_type": "markdown",
   "id": "028e7ba2",
   "metadata": {},
   "source": [
    "## **Overflow and Underflow condition**"
   ]
  },
  {
   "cell_type": "code",
   "execution_count": 60,
   "id": "87a8950d",
   "metadata": {},
   "outputs": [],
   "source": [
    "class Stacklim:\n",
    "    def __init__(self,count):\n",
    "        self.count=count\n",
    "        self.li=[]\n",
    "        self.counter=0\n",
    "    def __str__(self):\n",
    "        return str(self.li)\n",
    "    def push(self,data):\n",
    "        if self.counter<self.count:\n",
    "            self.counter+=1\n",
    "            self.li.append(data)\n",
    "        else:\n",
    "            print(\" Stack Overflow \")\n",
    "    def pop(self):\n",
    "        if self.li:\n",
    "            self.counter-=1\n",
    "            return self.li.pop()\n",
    "        else:\n",
    "            print(\"Stack Underflow\")\n",
    "    def peek(self):\n",
    "        return self.li[-1]\n",
    "    def isEmpty(self):\n",
    "        if self.li:\n",
    "            return False\n",
    "        else:\n",
    "            return True\n",
    "    "
   ]
  },
  {
   "cell_type": "code",
   "execution_count": 61,
   "id": "19954d03",
   "metadata": {},
   "outputs": [],
   "source": [
    "stk2=Stacklim(5)"
   ]
  },
  {
   "cell_type": "code",
   "execution_count": 62,
   "id": "7c4d201d",
   "metadata": {},
   "outputs": [
    {
     "name": "stdout",
     "output_type": "stream",
     "text": [
      "True\n",
      "[1, 2, 3, 4]\n"
     ]
    }
   ],
   "source": [
    "print(stk2.isEmpty())\n",
    "stk2.push(1)\n",
    "stk2.push(2)\n",
    "stk2.push(3)\n",
    "stk2.push(4)\n",
    "print(stk2)"
   ]
  },
  {
   "cell_type": "code",
   "execution_count": 63,
   "id": "fd23b4c6",
   "metadata": {},
   "outputs": [],
   "source": [
    "stk2.push(5)"
   ]
  },
  {
   "cell_type": "code",
   "execution_count": 64,
   "id": "d40ea0ec",
   "metadata": {},
   "outputs": [
    {
     "name": "stdout",
     "output_type": "stream",
     "text": [
      " Stack Overflow \n"
     ]
    }
   ],
   "source": [
    "stk2.push(6)"
   ]
  },
  {
   "cell_type": "code",
   "execution_count": 65,
   "id": "29399c8b",
   "metadata": {},
   "outputs": [
    {
     "name": "stdout",
     "output_type": "stream",
     "text": [
      "Stack Underflow\n"
     ]
    }
   ],
   "source": [
    "stk2.pop()\n",
    "stk2.pop()\n",
    "stk2.pop()\n",
    "stk2.pop()\n",
    "stk2.pop()\n",
    "stk2.pop()"
   ]
  },
  {
   "cell_type": "markdown",
   "id": "82b54d39",
   "metadata": {},
   "source": [
    "### Implementation of the Stack using the linked list is not that much benificial in dynamic array\n",
    "### push and pop  and peek all have the O(1) time complexity"
   ]
  },
  {
   "cell_type": "markdown",
   "id": "4f7175eb",
   "metadata": {},
   "source": []
  }
 ],
 "metadata": {
  "kernelspec": {
   "display_name": "base",
   "language": "python",
   "name": "python3"
  },
  "language_info": {
   "codemirror_mode": {
    "name": "ipython",
    "version": 3
   },
   "file_extension": ".py",
   "mimetype": "text/x-python",
   "name": "python",
   "nbconvert_exporter": "python",
   "pygments_lexer": "ipython3",
   "version": "3.11.5"
  }
 },
 "nbformat": 4,
 "nbformat_minor": 5
}
