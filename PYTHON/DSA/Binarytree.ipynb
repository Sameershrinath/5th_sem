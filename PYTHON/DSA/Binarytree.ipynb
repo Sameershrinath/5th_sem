{
 "cells": [
  {
   "cell_type": "markdown",
   "id": "f417841c",
   "metadata": {},
   "source": [
    "# **Binary Tree**"
   ]
  },
  {
   "cell_type": "markdown",
   "id": "0b2d3c92",
   "metadata": {},
   "source": [
    "### **It is the special kind of graph having just two branches and not forming any cycles**"
   ]
  },
  {
   "cell_type": "code",
   "execution_count": 2,
   "id": "6fedf39a",
   "metadata": {},
   "outputs": [],
   "source": [
    "# making a tree\n",
    "class Binary_tree:\n",
    "    def __init__(self,data):\n",
    "        self.data=data\n",
    "        self.left=None\n",
    "        self.right=None\n",
    "\n",
    "A=Binary_tree(1)\n",
    "B =Binary_tree(2)\n",
    "C =Binary_tree(3)\n",
    "D =Binary_tree(4)\n",
    "E =Binary_tree(5)\n",
    "A.left=B\n",
    "A.right=C\n",
    "B.right=E\n",
    "\n"
   ]
  },
  {
   "cell_type": "markdown",
   "id": "2e02de64",
   "metadata": {},
   "source": [
    "## DFS (Prefix, infix, postfix)"
   ]
  },
  {
   "cell_type": "code",
   "execution_count": 3,
   "id": "a51ef6f6",
   "metadata": {},
   "outputs": [],
   "source": [
    "def prefix(node):\n",
    "    if node is None:\n",
    "        return\n",
    "    print(node.data)\n",
    "    prefix(node.left)\n",
    "    prefix(node.right)"
   ]
  },
  {
   "cell_type": "code",
   "execution_count": 4,
   "id": "67739378",
   "metadata": {},
   "outputs": [
    {
     "name": "stdout",
     "output_type": "stream",
     "text": [
      "1\n",
      "2\n",
      "5\n",
      "3\n"
     ]
    }
   ],
   "source": [
    "prefix(A)"
   ]
  },
  {
   "cell_type": "code",
   "execution_count": 12,
   "id": "06448740",
   "metadata": {},
   "outputs": [
    {
     "name": "stdout",
     "output_type": "stream",
     "text": [
      "1\n",
      "2\n",
      "5\n",
      "3\n"
     ]
    }
   ],
   "source": [
    "def postfix_traversal(node):\n",
    "    stk=[node]\n",
    "\n",
    "    while stk:\n",
    "        node=stk.pop()\n",
    "        if node.right:stk.append(node.right)\n",
    "        if node.left:stk.append(node.left)\n",
    "        print(node.data)\n",
    "\n",
    "postfix_traversal(A)"
   ]
  },
  {
   "cell_type": "code",
   "execution_count": 6,
   "id": "9f0d15f0",
   "metadata": {},
   "outputs": [
    {
     "name": "stdout",
     "output_type": "stream",
     "text": [
      "2\n",
      "5\n",
      "3\n",
      "1\n"
     ]
    }
   ],
   "source": [
    "def postfix(node):\n",
    "    if node is None:\n",
    "        return\n",
    "    prefix(node.left)\n",
    "    prefix(node.right)\n",
    "    print(node.data)\n",
    "postfix(A)"
   ]
  },
  {
   "cell_type": "code",
   "execution_count": 7,
   "id": "549e35de",
   "metadata": {},
   "outputs": [
    {
     "name": "stdout",
     "output_type": "stream",
     "text": [
      "2\n",
      "5\n",
      "1\n",
      "3\n"
     ]
    }
   ],
   "source": [
    "def infix(node):\n",
    "    if node is None:\n",
    "        return\n",
    "    prefix(node.left)\n",
    "    print(node.data)\n",
    "    prefix(node.right)\n",
    "infix(A)"
   ]
  },
  {
   "cell_type": "markdown",
   "id": "e81c446f",
   "metadata": {},
   "source": [
    "## BFS  Level order transversal "
   ]
  },
  {
   "cell_type": "code",
   "execution_count": 8,
   "id": "472c4ee9",
   "metadata": {},
   "outputs": [
    {
     "name": "stdout",
     "output_type": "stream",
     "text": [
      "1\n",
      "2\n",
      "3\n",
      "5\n"
     ]
    }
   ],
   "source": [
    "from collections import deque\n",
    "\n",
    "def level_order(node):\n",
    "    q=deque()\n",
    "    q.append(node)\n",
    "\n",
    "    while q:\n",
    "        node=q.popleft()\n",
    "        print(node.data)\n",
    "        if node.left:q.append(node.left)\n",
    "        if node.right:q.append(node.right)\n",
    "\n",
    "level_order(A)\n",
    "\n",
    "\n"
   ]
  }
 ],
 "metadata": {
  "kernelspec": {
   "display_name": "base",
   "language": "python",
   "name": "python3"
  },
  "language_info": {
   "codemirror_mode": {
    "name": "ipython",
    "version": 3
   },
   "file_extension": ".py",
   "mimetype": "text/x-python",
   "name": "python",
   "nbconvert_exporter": "python",
   "pygments_lexer": "ipython3",
   "version": "3.11.5"
  }
 },
 "nbformat": 4,
 "nbformat_minor": 5
}
