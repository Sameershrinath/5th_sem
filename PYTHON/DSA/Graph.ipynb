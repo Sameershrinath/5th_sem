{
 "cells": [
  {
   "cell_type": "markdown",
   "id": "70731deb",
   "metadata": {},
   "source": [
    "# **Graph**"
   ]
  },
  {
   "cell_type": "markdown",
   "id": "81de235d",
   "metadata": {},
   "source": [
    "Graph is the data structure which consists of Vertices and nodes connecting them together.\n",
    "<li>-- Common parts of the graph --</li>\n",
    "<li>Linked list</li>\n",
    "<li>Tree</li>\n"
   ]
  },
  {
   "cell_type": "code",
   "execution_count": null,
   "id": "14644381",
   "metadata": {},
   "outputs": [],
   "source": [
    "# Adjacency Matrix"
   ]
  },
  {
   "cell_type": "code",
   "execution_count": null,
   "id": "0aa361ce",
   "metadata": {},
   "outputs": [],
   "source": [
    "# DFS & BFS\n",
    "# Time : O(V+E)  v=vertices and e=edges\n",
    "# Space : O(V+E)"
   ]
  },
  {
   "cell_type": "markdown",
   "id": "e69a1548",
   "metadata": {},
   "source": [
    "# **Directed Graph**"
   ]
  },
  {
   "cell_type": "markdown",
   "id": "281b4b88",
   "metadata": {},
   "source": [
    "we can aslo make the Edge list([From,to])"
   ]
  },
  {
   "cell_type": "markdown",
   "id": "9ab417d6",
   "metadata": {},
   "source": [
    "# **Un-Directed Graph**"
   ]
  },
  {
   "cell_type": "markdown",
   "id": "c85261f2",
   "metadata": {},
   "source": [
    "# Tree"
   ]
  },
  {
   "cell_type": "markdown",
   "id": "991ab3bc",
   "metadata": {},
   "source": [
    "# A connected acyclic graph "
   ]
  },
  {
   "cell_type": "markdown",
   "id": "875c033a",
   "metadata": {},
   "source": [
    "    # vertices = N\n",
    "    # Edges = N-1"
   ]
  }
 ],
 "metadata": {
  "kernelspec": {
   "display_name": "base",
   "language": "python",
   "name": "python3"
  },
  "language_info": {
   "name": "python",
   "version": "3.11.5"
  }
 },
 "nbformat": 4,
 "nbformat_minor": 5
}
