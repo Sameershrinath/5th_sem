{
 "cells": [
  {
   "cell_type": "markdown",
   "id": "585949ba",
   "metadata": {},
   "source": [
    "# Dynamic programming\n",
    "\n",
    "<li>-- Naive Recursive </li>\n",
    "<li>-- Top-Down (Memo / Catch)</li>\n",
    "<li>-- Bottom up (Tabulation)</li>\n",
    "<li>-- Constant space </li>"
   ]
  },
  {
   "cell_type": "code",
   "execution_count": null,
   "id": "72bf9f75",
   "metadata": {},
   "outputs": [],
   "source": [
    "# Make the fibonacci series -- naive recursion\n",
    "\n",
    "def fibonacci(n):\n",
    "    if n==0:\n",
    "        return 0\n",
    "    if n==1:\n",
    "        return 1\n",
    "    return fibonacci(n-1)+fibonacci(n-2)"
   ]
  },
  {
   "cell_type": "code",
   "execution_count": 8,
   "id": "4acd5222",
   "metadata": {},
   "outputs": [
    {
     "data": {
      "text/plain": [
       "8"
      ]
     },
     "execution_count": 8,
     "metadata": {},
     "output_type": "execute_result"
    }
   ],
   "source": [
    "fibonacci(6)"
   ]
  },
  {
   "cell_type": "code",
   "execution_count": null,
   "id": "a0bbf8e4",
   "metadata": {},
   "outputs": [],
   "source": []
  }
 ],
 "metadata": {
  "kernelspec": {
   "display_name": "base",
   "language": "python",
   "name": "python3"
  },
  "language_info": {
   "codemirror_mode": {
    "name": "ipython",
    "version": 3
   },
   "file_extension": ".py",
   "mimetype": "text/x-python",
   "name": "python",
   "nbconvert_exporter": "python",
   "pygments_lexer": "ipython3",
   "version": "3.11.5"
  }
 },
 "nbformat": 4,
 "nbformat_minor": 5
}
