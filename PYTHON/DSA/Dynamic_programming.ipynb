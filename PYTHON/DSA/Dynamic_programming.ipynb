{
 "cells": [
  {
   "cell_type": "markdown",
   "id": "585949ba",
   "metadata": {},
   "source": [
    "# Dynamic programming\n",
    "\n",
    "<li>-- Naive Recursive </li>\n",
    "<li>-- Top-Down (Memo / Catch)</li>\n",
    "<li>-- Bottom up (Tabulation)</li>\n",
    "<li>-- Constant space </li>"
   ]
  },
  {
   "cell_type": "code",
   "execution_count": null,
   "id": "72bf9f75",
   "metadata": {},
   "outputs": [],
   "source": [
    "# Make the fibonacci series -- naive recursion\n",
    "\n",
    "def fibonacci(n):\n",
    "    if n==0:\n",
    "        return 0\n",
    "    if n==1:\n",
    "        return 1\n",
    "    return fibonacci(n-1)+fibonacci(n-2)"
   ]
  },
  {
   "cell_type": "code",
   "execution_count": 8,
   "id": "4acd5222",
   "metadata": {},
   "outputs": [
    {
     "data": {
      "text/plain": [
       "8"
      ]
     },
     "execution_count": 8,
     "metadata": {},
     "output_type": "execute_result"
    }
   ],
   "source": [
    "fibonacci(6)"
   ]
  },
  {
   "cell_type": "code",
   "execution_count": null,
   "id": "a0bbf8e4",
   "metadata": {},
   "outputs": [],
   "source": [
    "# Top down approach \n",
    "def fibonacci_topdowu(n):\n",
    "    memo={0:0,1:1}\n",
    "    \n",
    "    def f(x):\n",
    "        if x in memo:\n",
    "            return  memo[x]\n",
    "        else:\n",
    "            memo[x]=f(x-1)+f(x-2)\n",
    "            return memo[x]\n",
    "    \n",
    "    return f(n)"
   ]
  },
  {
   "cell_type": "code",
   "execution_count": null,
   "id": "2598d050",
   "metadata": {},
   "outputs": [
    {
     "data": {
      "text/plain": [
       "8"
      ]
     },
     "execution_count": 5,
     "metadata": {},
     "output_type": "execute_result"
    }
   ],
   "source": [
    "fibonacci_topdowu(6)\n",
    "#time O(n)\n",
    "#space O(n)"
   ]
  },
  {
   "cell_type": "code",
   "execution_count": 6,
   "id": "79f6654b",
   "metadata": {},
   "outputs": [],
   "source": [
    "# bottom up tabulation \n",
    "def fibonacci_bottomup(n):\n",
    "\n",
    "    if n==0:\n",
    "        return 0\n",
    "    if n==1:\n",
    "        return 1\n",
    "    \n",
    "    dp=[0]*(n+1)\n",
    "    dp[0]=0\n",
    "    dp[1]=1\n",
    "\n",
    "    for i in range(2,n+1):\n",
    "        dp[i]=dp[i-2]+dp[i-1]\n",
    "\n",
    "    return dp[n]"
   ]
  },
  {
   "cell_type": "code",
   "execution_count": null,
   "id": "35c0200c",
   "metadata": {},
   "outputs": [
    {
     "data": {
      "text/plain": [
       "8"
      ]
     },
     "execution_count": 7,
     "metadata": {},
     "output_type": "execute_result"
    }
   ],
   "source": [
    "fibonacci_bottomup(6)\n",
    "# Time O(n)\n",
    "# Space O(n)\n"
   ]
  },
  {
   "cell_type": "code",
   "execution_count": 13,
   "id": "c8d70d40",
   "metadata": {},
   "outputs": [],
   "source": [
    "# Constant space solutino\n",
    "def fibonacci_constant(n):\n",
    "\n",
    "    if n==0:\n",
    "        return 0\n",
    "    if n==1:\n",
    "        return 1\n",
    "    \n",
    "    \n",
    "    prev=0\n",
    "    curr=1\n",
    "\n",
    "    for i in range(2,n+1):\n",
    "        prev,curr=curr,prev+curr\n",
    "    \n",
    "    return curr"
   ]
  },
  {
   "cell_type": "code",
   "execution_count": 14,
   "id": "b09c72a1",
   "metadata": {},
   "outputs": [
    {
     "data": {
      "text/plain": [
       "8"
      ]
     },
     "execution_count": 14,
     "metadata": {},
     "output_type": "execute_result"
    }
   ],
   "source": [
    "fibonacci_constant(6)"
   ]
  }
 ],
 "metadata": {
  "kernelspec": {
   "display_name": "base",
   "language": "python",
   "name": "python3"
  },
  "language_info": {
   "codemirror_mode": {
    "name": "ipython",
    "version": 3
   },
   "file_extension": ".py",
   "mimetype": "text/x-python",
   "name": "python",
   "nbconvert_exporter": "python",
   "pygments_lexer": "ipython3",
   "version": "3.11.5"
  }
 },
 "nbformat": 4,
 "nbformat_minor": 5
}
