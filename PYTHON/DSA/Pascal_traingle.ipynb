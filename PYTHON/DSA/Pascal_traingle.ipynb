{
 "cells": [
  {
   "cell_type": "code",
   "execution_count": 2,
   "id": "70f722db",
   "metadata": {},
   "outputs": [
    {
     "name": "stdout",
     "output_type": "stream",
     "text": [
      "[[1], [1, 1], [1, 2, 1], [1, 3, 3, 1], [1, 4, 6, 4, 1]]\n"
     ]
    }
   ],
   "source": [
    "# Problem link :- https://leetcode.com/problems/pascals-triangle/submissions/1739475004/?envType=problem-list-v2&envId=array\n",
    "\n",
    "def generate(numRows):\n",
    "    pascal=[]\n",
    "\n",
    "    for i in range(numRows):\n",
    "        row=[1]*(i+1)\n",
    "        for j in range(1,i):\n",
    "            row[j]=pascal[i-1][j-1]+pascal[i-1][j]\n",
    "        pascal.append(row)\n",
    "    return pascal\n",
    "print(generate(5))"
   ]
  },
  {
   "cell_type": "code",
   "execution_count": null,
   "id": "57b0b721",
   "metadata": {},
   "outputs": [],
   "source": []
  }
 ],
 "metadata": {
  "kernelspec": {
   "display_name": "base",
   "language": "python",
   "name": "python3"
  },
  "language_info": {
   "codemirror_mode": {
    "name": "ipython",
    "version": 3
   },
   "file_extension": ".py",
   "mimetype": "text/x-python",
   "name": "python",
   "nbconvert_exporter": "python",
   "pygments_lexer": "ipython3",
   "version": "3.11.5"
  }
 },
 "nbformat": 4,
 "nbformat_minor": 5
}
