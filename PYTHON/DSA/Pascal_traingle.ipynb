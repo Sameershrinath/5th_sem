{
 "cells": [
  {
   "cell_type": "code",
   "execution_count": null,
   "id": "70f722db",
   "metadata": {},
   "outputs": [],
   "source": [
    "# Problem link :- https://leetcode.com/problems/pascals-triangle/submissions/1739475004/?envType=problem-list-v2&envId=array\n",
    "\n",
    "def generate(numRows):\n",
    "    pascal=[]\n",
    "\n",
    "    for i in range(numRows):\n",
    "        row=[1]*(i+1)\n",
    "        for j in range(1,i):\n",
    "            row[j]=pascal[i-1][j-1]+pascal[i-1][j]\n",
    "        pascal.append(row)\n",
    "    return pascal\n",
    "print(generate(5))"
   ]
  },
  {
   "cell_type": "code",
   "execution_count": null,
   "id": "57b0b721",
   "metadata": {},
   "outputs": [],
   "source": [
    "# Problem link : https://leetcode.com/problems/convert-sorted-array-to-binary-search-tree/?envType=problem-list-v2&envId=array\n",
    "\n",
    "# Definition for a binary tree node.\n",
    "class TreeNode:\n",
    "    def __init__(self, val=0, left=None, right=None):\n",
    "        self.val = val\n",
    "        self.left = left\n",
    "        self.right = right\n",
    "class Solution:\n",
    "    def sortedArrayToBST(self, nums: List[int]) -> Optional[TreeNode]:\n",
    "        def helper(arr, s, e):\n",
    "            if s > e:\n",
    "                return None\n",
    "            mid = s + [(e - s) // 2] # It is the formula to find mid\n",
    "            node = TreeNode(arr[mid]) # making the tree node with mid element \n",
    "            node.left = helper(arr, s, mid - 1) # recursively adding left elements\n",
    "            node.right = helper(arr, mid + 1, e) # resursively adding right elements\n",
    "            return node\n",
    "        \n",
    "        n = len(nums)\n",
    "        if n == 0:\n",
    "            return None\n",
    "        return helper(nums, 0, n-1 ) # calling the recursive function"
   ]
  },
  {
   "cell_type": "code",
   "execution_count": null,
   "id": "d3ebc39a",
   "metadata": {},
   "outputs": [],
   "source": []
  }
 ],
 "metadata": {
  "kernelspec": {
   "display_name": "base",
   "language": "python",
   "name": "python3"
  },
  "language_info": {
   "codemirror_mode": {
    "name": "ipython",
    "version": 3
   },
   "file_extension": ".py",
   "mimetype": "text/x-python",
   "name": "python",
   "nbconvert_exporter": "python",
   "pygments_lexer": "ipython3",
   "version": "3.11.5"
  }
 },
 "nbformat": 4,
 "nbformat_minor": 5
}
