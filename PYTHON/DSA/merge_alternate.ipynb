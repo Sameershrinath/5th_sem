{
 "cells": [
  {
   "cell_type": "markdown",
   "id": "8bc17c9f",
   "metadata": {},
   "source": [
    "# Leetcode  1768\n"
   ]
  },
  {
   "cell_type": "code",
   "execution_count": 6,
   "id": "ef2eb5ac",
   "metadata": {},
   "outputs": [],
   "source": [
    "def merger(s1,s2):\n",
    "    A=len(s1)\n",
    "    B=len(s2)\n",
    "    i,j=0,0\n",
    "\n",
    "    s=[]\n",
    "    word=1\n",
    "    while i<A and j<B:\n",
    "        if word==1:\n",
    "            s.append(s1[i])\n",
    "            word=2\n",
    "            i+=1\n",
    "        else:\n",
    "            s.append(s2[j])\n",
    "            word=1\n",
    "            j+=1\n",
    "\n",
    "    while i<A:\n",
    "        s.append(s1[i])\n",
    "        i+=1\n",
    "    while j<B:\n",
    "        s.append(s2[j])\n",
    "        j+=1\n",
    "        \n",
    "    return \"\".join(s)\n"
   ]
  },
  {
   "cell_type": "code",
   "execution_count": 7,
   "id": "bfffe29f",
   "metadata": {},
   "outputs": [
    {
     "data": {
      "text/plain": [
       "'ssahmreienrath'"
      ]
     },
     "execution_count": 7,
     "metadata": {},
     "output_type": "execute_result"
    }
   ],
   "source": [
    "merger(\"sameer\",\"shrinath\")\n",
    "# time : O(A+B)\n",
    "# space=O(A+B)"
   ]
  },
  {
   "cell_type": "code",
   "execution_count": null,
   "id": "a79d4166",
   "metadata": {},
   "outputs": [],
   "source": []
  }
 ],
 "metadata": {
  "kernelspec": {
   "display_name": "base",
   "language": "python",
   "name": "python3"
  },
  "language_info": {
   "codemirror_mode": {
    "name": "ipython",
    "version": 3
   },
   "file_extension": ".py",
   "mimetype": "text/x-python",
   "name": "python",
   "nbconvert_exporter": "python",
   "pygments_lexer": "ipython3",
   "version": "3.11.5"
  }
 },
 "nbformat": 4,
 "nbformat_minor": 5
}
